{
 "cells": [
  {
   "cell_type": "markdown",
   "metadata": {},
   "source": [
    "# WeatherPy\n",
    "----\n",
    "\n",
    "#### Note\n",
    "* Instructions have been included for each segment. You do not have to follow them exactly, but they are included to help you think through the steps."
   ]
  },
  {
   "cell_type": "code",
   "execution_count": 1,
   "metadata": {},
   "outputs": [
    {
     "name": "stdout",
     "output_type": "stream",
     "text": [
      "Requirement already satisfied: citipy in c:\\programdata\\anaconda3\\lib\\site-packages (0.0.5)Note: you may need to restart the kernel to use updated packages.\n",
      "Requirement already satisfied: kdtree>=0.12 in c:\\programdata\\anaconda3\\lib\\site-packages (from citipy) (0.16)\n",
      "\n"
     ]
    }
   ],
   "source": [
    "pip install citipy"
   ]
  },
  {
   "cell_type": "code",
   "execution_count": 2,
   "metadata": {
    "scrolled": true
   },
   "outputs": [],
   "source": [
    "# Dependencies and Setup\n",
    "import matplotlib.pyplot as plt\n",
    "import pandas as pd\n",
    "import numpy as np\n",
    "import requests\n",
    "import time\n",
    "from scipy import stats\n",
    "#from scipy.stats import linregress\n",
    "import json\n",
    "\n",
    "# Incorporated citipy to determine city based on latitude and longitude\n",
    "from citipy import citipy\n",
    "\n",
    "## Import API key\n",
    "from api_keys import weather_api_key\n",
    "\n",
    "# under VBA add this line to .iginore to gnore the push/ modification of the config.py file\n",
    "# api_keys.py"
   ]
  },
  {
   "cell_type": "code",
   "execution_count": 3,
   "metadata": {},
   "outputs": [],
   "source": [
    "# Output File CSV\n",
    "output_data_file = \"output_data/cities.csv\"\n",
    "\n",
    "# Range of latitudes and longitudes\n",
    "lat_range = (-90, 90)\n",
    "lng_range = (-180, 180)"
   ]
  },
  {
   "cell_type": "markdown",
   "metadata": {},
   "source": [
    "# Generate Cities List"
   ]
  },
  {
   "cell_type": "code",
   "execution_count": 4,
   "metadata": {},
   "outputs": [],
   "source": [
    "# List for holding lat_lngs and cities\n",
    "lat_lngs = []\n",
    "cities = []\n",
    "\n",
    "# Create a set of random lat and lng combinations-- numpy, generate 1500 lats, lngs a piece\n",
    "lats = np.random.uniform(lat_range[0], lat_range[1], size=1500)\n",
    "lngs = np.random.uniform(lng_range[0], lng_range[1], size=1500)\n",
    "lat_lngs = zip(lats, lngs)"
   ]
  },
  {
   "cell_type": "code",
   "execution_count": 5,
   "metadata": {},
   "outputs": [
    {
     "data": {
      "text/plain": [
       "636"
      ]
     },
     "execution_count": 5,
     "metadata": {},
     "output_type": "execute_result"
    }
   ],
   "source": [
    "# Identify nearest city for each lat, lng combination\n",
    "for lat_lng in lat_lngs:\n",
    "    city = citipy.nearest_city(lat_lng[0], lat_lng[1]).city_name\n",
    "    \n",
    "    # If the city is unique, then add it to a our cities list\n",
    "    if city not in cities:\n",
    "        cities.append(city)\n",
    "\n",
    "# Print the city count to confirm sufficient count\n",
    "len(cities)"
   ]
  },
  {
   "cell_type": "markdown",
   "metadata": {},
   "source": [
    "### Perform API Calls\n",
    "* Perform a weather check on each city using a series of successive API calls.\n",
    "* Include a print log of each city as it'sbeing processed (with the city number and city name).\n"
   ]
  },
  {
   "cell_type": "code",
   "execution_count": 6,
   "metadata": {
    "scrolled": true
   },
   "outputs": [],
   "source": [
    "# the url info\n",
    "url = \"http://api.openweathermap.org/data/2.5/weather?\"\n",
    "units = \"metric\""
   ]
  },
  {
   "cell_type": "code",
   "execution_count": 7,
   "metadata": {},
   "outputs": [],
   "source": [
    "# url Query build\n",
    "Q_url = f\"{url}appid={weather_api_key}&units={units}&q=\"\n",
    "## url = f\"http://api.openweathermap.org/data/2.5/weather?units-imperial&APPID={weather_api_key}\""
   ]
  },
  {
   "cell_type": "code",
   "execution_count": 8,
   "metadata": {},
   "outputs": [
    {
     "name": "stdout",
     "output_type": "stream",
     "text": [
      "{\n",
      "      \"coord\": {\n",
      "            \"lon\": 57.7,\n",
      "            \"lat\": -20.4081\n",
      "      },\n",
      "      \"weather\": [\n",
      "            {\n",
      "                  \"id\": 802,\n",
      "                  \"main\": \"Clouds\",\n",
      "                  \"description\": \"scattered clouds\",\n",
      "                  \"icon\": \"03d\"\n",
      "            }\n",
      "      ],\n",
      "      \"base\": \"stations\",\n",
      "      \"main\": {\n",
      "            \"temp\": 23.16,\n",
      "            \"feels_like\": 23.99,\n",
      "            \"temp_min\": 23.16,\n",
      "            \"temp_max\": 23.47,\n",
      "            \"pressure\": 1010,\n",
      "            \"humidity\": 94\n",
      "      },\n",
      "      \"visibility\": 10000,\n",
      "      \"wind\": {\n",
      "            \"speed\": 1.03,\n",
      "            \"deg\": 300\n",
      "      },\n",
      "      \"clouds\": {\n",
      "            \"all\": 40\n",
      "      },\n",
      "      \"dt\": 1644459654,\n",
      "      \"sys\": {\n",
      "            \"type\": 1,\n",
      "            \"id\": 2061,\n",
      "            \"country\": \"MU\",\n",
      "            \"sunrise\": 1644458272,\n",
      "            \"sunset\": 1644504547\n",
      "      },\n",
      "      \"timezone\": 14400,\n",
      "      \"id\": 934322,\n",
      "      \"name\": \"Mah\\u00e9bourg\",\n",
      "      \"cod\": 200\n",
      "}\n"
     ]
    }
   ],
   "source": [
    "# Get city weather data\n",
    "weather_response = requests.get(Q_url + city)\n",
    "weather_json = weather_response.json()\n",
    "# converts a Python object into a json string-- dumps\n",
    "print(json.dumps(weather_json, indent=6))\n",
    "#print(weather_json)"
   ]
  },
  {
   "cell_type": "code",
   "execution_count": 9,
   "metadata": {},
   "outputs": [
    {
     "name": "stdout",
     "output_type": "stream",
     "text": [
      "<Response [200]>\n"
     ]
    }
   ],
   "source": [
    "# set empty for list of variables\n",
    "city_name = []\n",
    "latitude = []\n",
    "longitude = []\n",
    "temperature = []\n",
    "humidity = []\n",
    "cloudiness = []\n",
    "wind_speed = []\n",
    "country = []\n",
    "date = []\n",
    "\n",
    "# start record counting\n",
    "processing_record = 1 \n",
    "\n",
    "# check if responsw correct\n",
    "print(weather_response)\n",
    "#print(cities)"
   ]
  },
  {
   "cell_type": "code",
   "execution_count": 10,
   "metadata": {},
   "outputs": [
    {
     "name": "stdout",
     "output_type": "stream",
     "text": [
      "Beginning Data Retrieval      \n",
      "------------------------------\n",
      "Processing Record 1 | Rikitea\n",
      "Processing Record 2 | San Patricio\n",
      "Processing Record 3 | Mataura\n",
      "Processing Record 4 | Binzhou\n",
      "Processing Record 5 | Butaritari\n",
      "Processing Record 6 | Tuatapere\n",
      "Processing Record 7 | Ostrovnoy\n",
      "City not found. Skipping...\n",
      "Processing Record 8 | Punta Arenas\n",
      "Processing Record 9 | Bluff\n",
      "Processing Record 10 | São Filipe\n",
      "Processing Record 11 | Iralaya\n",
      "Processing Record 12 | Yellowknife\n",
      "Processing Record 13 | Kenai\n",
      "Processing Record 14 | Kahului\n",
      "City not found. Skipping...\n",
      "Processing Record 15 | Castro\n",
      "Processing Record 16 | Kavieng\n",
      "Processing Record 17 | Mossamedes\n",
      "Processing Record 18 | Ancud\n",
      "City not found. Skipping...\n",
      "City not found. Skipping...\n",
      "Processing Record 19 | Ushuaia\n",
      "City not found. Skipping...\n",
      "Processing Record 20 | Kuusamo\n",
      "Processing Record 21 | George Town\n",
      "Processing Record 22 | Sinnamary\n",
      "Processing Record 23 | Kapaa\n",
      "Processing Record 24 | Busselton\n",
      "Processing Record 25 | Cairns\n",
      "Processing Record 26 | Dingle\n",
      "Processing Record 27 | Naze\n",
      "Processing Record 28 | Dauriya\n",
      "Processing Record 29 | Laguna\n",
      "City not found. Skipping...\n",
      "Processing Record 30 | Loreto\n",
      "Processing Record 31 | East London\n",
      "Processing Record 32 | Udachny\n",
      "City not found. Skipping...\n",
      "Processing Record 33 | Mirpur Sakro\n",
      "Processing Record 34 | Balaipungut\n",
      "Processing Record 35 | Dikson\n",
      "Processing Record 36 | Bara\n",
      "Processing Record 37 | Hornepayne\n",
      "Processing Record 38 | Hermanus\n",
      "City not found. Skipping...\n",
      "Processing Record 39 | Faya\n",
      "City not found. Skipping...\n",
      "Processing Record 40 | Barrow\n",
      "Processing Record 41 | Kudahuvadhoo\n",
      "Processing Record 42 | Kota Bharu\n",
      "Processing Record 43 | Port Alfred\n",
      "Processing Record 44 | Opunake\n",
      "Processing Record 45 | Nikolskoye\n",
      "Processing Record 46 | Aragats\n",
      "Processing Record 47 | Saint Paul Harbor\n",
      "Processing Record 48 | Albany\n",
      "Processing Record 49 | Westport\n",
      "Processing Record 50 | Ponta do Sol\n",
      "Processing Record 51 | Portland\n",
      "Processing Record 52 | Khatanga\n",
      "Processing Record 53 | Hong Kong\n",
      "Processing Record 54 | Māngrol\n",
      "Processing Record 55 | Verāval\n",
      "Processing Record 56 | Arrondissement de Mende\n",
      "Processing Record 57 | Palombara Sabina\n",
      "Processing Record 58 | Clarence Town\n",
      "Processing Record 59 | Port Lincoln\n",
      "Processing Record 60 | Mēga\n",
      "Processing Record 61 | Rasht\n",
      "Processing Record 62 | Cape Town\n",
      "Processing Record 63 | Coquimbo\n",
      "Processing Record 64 | Mitú\n",
      "Processing Record 65 | The Pas\n",
      "Processing Record 66 | Petawawa\n",
      "Processing Record 67 | Hobyo\n",
      "City not found. Skipping...\n",
      "Processing Record 68 | Atuona\n",
      "Processing Record 69 | Parakou\n",
      "Processing Record 70 | Buchanan\n",
      "Processing Record 71 | Cabo San Lucas\n",
      "Processing Record 72 | Biltine\n",
      "Processing Record 73 | Kinchil\n",
      "Processing Record 74 | Lososina\n",
      "Processing Record 75 | Fayaoué\n",
      "Processing Record 76 | Cayenne\n",
      "Processing Record 77 | New Norfolk\n",
      "Processing Record 78 | Hilo\n",
      "Processing Record 79 | Fukuechō\n",
      "Processing Record 80 | Machico\n",
      "Processing Record 81 | Laas\n",
      "Processing Record 82 | Aitape\n",
      "Processing Record 83 | Port Hardy\n",
      "Processing Record 84 | Novobirilyussy\n",
      "Processing Record 85 | Pontes e Lacerda\n",
      "Processing Record 86 | Caravelas\n",
      "Processing Record 87 | Jérémie\n",
      "City not found. Skipping...\n",
      "Processing Record 88 | Qaanaaq\n",
      "Processing Record 89 | Sioux Lookout\n",
      "Processing Record 90 | Vaini\n",
      "Processing Record 91 | Abu Samrah\n",
      "Processing Record 92 | Champerico\n",
      "Processing Record 93 | Esperance\n",
      "Processing Record 94 | Sokoto\n",
      "Processing Record 95 | Bethel\n",
      "Processing Record 96 | Normandin\n",
      "Processing Record 97 | Jamestown\n",
      "Processing Record 98 | Hamilton\n",
      "Processing Record 99 | Los Llanos de Aridane\n",
      "Processing Record 100 | Carnarvon\n",
      "Processing Record 101 | Arraial do Cabo\n",
      "Processing Record 102 | Bolobo\n",
      "Processing Record 103 | Qui Nhon\n",
      "Processing Record 104 | Tolaga Bay\n",
      "Processing Record 105 | Harrisburg\n",
      "Processing Record 106 | Bud\n",
      "Processing Record 107 | Ngunguru\n",
      "Processing Record 108 | Tosya\n",
      "Processing Record 109 | Lensk\n",
      "Processing Record 110 | Airai\n",
      "Processing Record 111 | Flinders\n",
      "Processing Record 112 | Cidreira\n",
      "Processing Record 113 | Harper\n",
      "Processing Record 114 | Tiarei\n",
      "Processing Record 115 | Gouyave\n",
      "Processing Record 116 | Leningradskiy\n",
      "Processing Record 117 | Mookane\n",
      "Processing Record 118 | Ribeira Grande\n",
      "Processing Record 119 | Tasiilaq\n",
      "Processing Record 120 | Batagay-Alyta\n",
      "Processing Record 121 | Tiksi\n",
      "Processing Record 122 | Ardakān\n",
      "Processing Record 123 | Upernavik\n",
      "Processing Record 124 | Kyzyl-Suu\n",
      "Processing Record 125 | Puerto Ayora\n",
      "City not found. Skipping...\n",
      "Processing Record 126 | Haines Junction\n",
      "Processing Record 127 | Saint George\n",
      "Processing Record 128 | Avarua\n",
      "Processing Record 129 | Tazovsky\n",
      "Processing Record 130 | Talakan\n",
      "Processing Record 131 | Nyrob\n",
      "Processing Record 132 | Pisco\n",
      "Processing Record 133 | Kolosovka\n",
      "Processing Record 134 | Cherskiy\n",
      "Processing Record 135 | Maposeni\n",
      "Processing Record 136 | Hithadhoo\n",
      "Processing Record 137 | San Lorenzo\n",
      "Processing Record 138 | Dunedin\n",
      "Processing Record 139 | Honningsvåg\n",
      "Processing Record 140 | College\n",
      "Processing Record 141 | Granada\n",
      "Processing Record 142 | Charyshskoye\n",
      "Processing Record 143 | Bambous Virieux\n",
      "Processing Record 144 | Bredasdorp\n",
      "Processing Record 145 | Tuktoyaktuk\n",
      "Processing Record 146 | Provideniya\n",
      "Processing Record 147 | Lavrentiya\n",
      "Processing Record 148 | Rundu\n",
      "Processing Record 149 | Aklavik\n",
      "Processing Record 150 | Aberdeen\n",
      "Processing Record 151 | Sørland\n",
      "Processing Record 152 | Torbay\n",
      "Processing Record 153 | Saskylakh\n",
      "Processing Record 154 | Murbād\n",
      "Processing Record 155 | Chui\n",
      "Processing Record 156 | Biak\n",
      "Processing Record 157 | Jiayuguan City\n",
      "Processing Record 158 | Fairbanks\n",
      "Processing Record 159 | Chokurdakh\n",
      "Processing Record 160 | Lata\n",
      "Processing Record 161 | La Crosse\n",
      "Processing Record 162 | Goma\n",
      "Processing Record 163 | Rocha\n",
      "Processing Record 164 | Umm Kaddadah\n",
      "Processing Record 165 | Invermere\n",
      "Processing Record 166 | Vestmannaeyjar\n",
      "Processing Record 167 | Fuquay-Varina\n",
      "City not found. Skipping...\n",
      "Processing Record 168 | Honiara\n",
      "City not found. Skipping...\n",
      "City not found. Skipping...\n",
      "City not found. Skipping...\n",
      "Processing Record 169 | Grand Baie\n",
      "Processing Record 170 | Norman Wells\n",
      "Processing Record 171 | Souillac\n",
      "Processing Record 172 | Saldanha\n",
      "Processing Record 173 | Balingasay\n",
      "Processing Record 174 | Buta\n",
      "Processing Record 175 | Deputatsky\n",
      "Processing Record 176 | Thompson\n",
      "Processing Record 177 | Alofi\n",
      "Processing Record 178 | Mar del Plata\n",
      "City not found. Skipping...\n",
      "Processing Record 179 | Mitsamiouli\n",
      "City not found. Skipping...\n",
      "Processing Record 180 | Hobart\n",
      "Processing Record 181 | Mahon\n",
      "Processing Record 182 | Kavaratti\n",
      "Processing Record 183 | Kindersley\n",
      "Processing Record 184 | Jaisalmer\n",
      "Processing Record 185 | Sebina\n",
      "Processing Record 186 | Marsaxlokk\n",
      "Processing Record 187 | Kalmunai\n",
      "Processing Record 188 | Bolshaya Martynovka\n",
      "Processing Record 189 | Imbituba\n",
      "Processing Record 190 | Jumla\n",
      "Processing Record 191 | Balad\n",
      "Processing Record 192 | Moyale\n",
      "Processing Record 193 | Cervo\n",
      "Processing Record 194 | Alice Springs\n",
      "Processing Record 195 | Namatanai\n",
      "Processing Record 196 | San Quintín\n",
      "Processing Record 197 | Beloha\n",
      "Processing Record 198 | Karasjok\n",
      "Processing Record 199 | Gijang\n",
      "Processing Record 200 | Kaeo\n",
      "Processing Record 201 | Jerome\n",
      "Processing Record 202 | Ulaangom\n",
      "City not found. Skipping...\n",
      "Processing Record 203 | Tsumeb\n",
      "Processing Record 204 | Abhā\n",
      "Processing Record 205 | Nalhāti\n",
      "Processing Record 206 | Lüderitz\n",
      "Processing Record 207 | Petrovsk\n",
      "City not found. Skipping...\n",
      "Processing Record 208 | Bathsheba\n",
      "Processing Record 209 | Acapulco de Juárez\n",
      "City not found. Skipping...\n",
      "Processing Record 210 | Moose Factory\n",
      "Processing Record 211 | Celestún\n",
      "Processing Record 212 | Chapais\n",
      "Processing Record 213 | Siddipet\n",
      "Processing Record 214 | Bridlington\n",
      "Processing Record 215 | Hailar\n",
      "Processing Record 216 | Port Angeles\n",
      "Processing Record 217 | Mangan\n",
      "Processing Record 218 | Marsá Maţrūḩ\n",
      "Processing Record 219 | Lorengau\n",
      "Processing Record 220 | Saint-Augustin\n",
      "Processing Record 221 | Mount Gambier\n",
      "Processing Record 222 | Bilibino\n",
      "Processing Record 223 | Nālūt\n",
      "Processing Record 224 | Anadyr\n",
      "Processing Record 225 | Kiunga\n",
      "Processing Record 226 | Christchurch\n",
      "Processing Record 227 | Santa Maria\n",
      "Processing Record 228 | Erenhot\n",
      "Processing Record 229 | Raton\n"
     ]
    },
    {
     "name": "stdout",
     "output_type": "stream",
     "text": [
      "Processing Record 230 | ‘Ewa Beach\n",
      "Processing Record 231 | Grand Gaube\n",
      "Processing Record 232 | João Pinheiro\n",
      "City not found. Skipping...\n",
      "Processing Record 233 | Wilhelmshaven\n",
      "Processing Record 234 | Krasnyy Kut\n",
      "Processing Record 235 | Port Hedland\n",
      "Processing Record 236 | Yambio\n",
      "Processing Record 237 | Pilar\n",
      "Processing Record 238 | Luanda\n",
      "Processing Record 239 | Ilulissat\n",
      "Processing Record 240 | Rawson\n",
      "Processing Record 241 | Rūdbār\n",
      "City not found. Skipping...\n",
      "Processing Record 242 | Mathbaria\n",
      "Processing Record 243 | Gizo Government Station\n",
      "Processing Record 244 | Namtsy\n",
      "Processing Record 245 | Guisa\n",
      "Processing Record 246 | Digha\n",
      "Processing Record 247 | Saint-Philippe\n",
      "Processing Record 248 | Guerrero Negro\n",
      "City not found. Skipping...\n",
      "Processing Record 249 | Lompoc\n",
      "City not found. Skipping...\n",
      "Processing Record 250 | Nakamura\n",
      "Processing Record 251 | Lebu\n",
      "Processing Record 252 | Lázaro Cárdenas\n",
      "Processing Record 253 | Pag\n",
      "Processing Record 254 | Narsaq\n",
      "Processing Record 255 | Naranjal\n",
      "Processing Record 256 | Kisangani\n",
      "Processing Record 257 | Preiļi\n",
      "City not found. Skipping...\n",
      "Processing Record 258 | Alyangula\n",
      "Processing Record 259 | Sistranda\n",
      "Processing Record 260 | Lixouri\n",
      "City not found. Skipping...\n",
      "Processing Record 261 | Kumul\n",
      "Processing Record 262 | Kirakira\n",
      "Processing Record 263 | Bandarbeyla\n",
      "Processing Record 264 | Salalah\n",
      "Processing Record 265 | San Andrés\n",
      "Processing Record 266 | La Mata\n",
      "Processing Record 267 | Imatra\n",
      "Processing Record 268 | Wick\n",
      "Processing Record 269 | Penukonda\n",
      "City not found. Skipping...\n",
      "Processing Record 270 | Guymon\n",
      "Processing Record 271 | Touros\n",
      "Processing Record 272 | Kaa-Khem\n",
      "Processing Record 273 | Bereda\n",
      "Processing Record 274 | Apac\n",
      "Processing Record 275 | Severo-Kuril'sk\n",
      "Processing Record 276 | Bāgeshwar\n",
      "Processing Record 277 | Impfondo\n",
      "Processing Record 278 | Olafsvik\n",
      "Processing Record 279 | Guaramirim\n",
      "Processing Record 280 | Øksfjord\n",
      "Processing Record 281 | Esperantinópolis\n",
      "Processing Record 282 | Zwedru\n",
      "Processing Record 283 | Traralgon\n",
      "Processing Record 284 | Talara\n",
      "Processing Record 285 | Mildura\n",
      "City not found. Skipping...\n",
      "Processing Record 286 | Tornio\n",
      "Processing Record 287 | Mahébourg\n",
      "Processing Record 288 | La Unión\n",
      "Processing Record 289 | Iqaluit\n",
      "Processing Record 290 | Coahuayana Viejo\n",
      "City not found. Skipping...\n",
      "Processing Record 291 | Santa Fe\n",
      "Processing Record 292 | Kannur\n",
      "Processing Record 293 | Comodoro Rivadavia\n",
      "Processing Record 294 | Okato\n",
      "City not found. Skipping...\n",
      "Processing Record 295 | Linxia Chengguanzhen\n",
      "Processing Record 296 | Nanortalik\n",
      "Processing Record 297 | Şarkîkaraağaç\n",
      "Processing Record 298 | Nome\n",
      "Processing Record 299 | Aligoodarz\n",
      "Processing Record 300 | Nyurba\n",
      "Processing Record 301 | Baillif\n",
      "Processing Record 302 | Zhigansk\n",
      "Processing Record 303 | Kānor\n",
      "Processing Record 304 | Lamu\n",
      "Processing Record 305 | Vila Franca do Campo\n",
      "Processing Record 306 | Mazatlán\n",
      "City not found. Skipping...\n",
      "City not found. Skipping...\n",
      "Processing Record 307 | Altay\n",
      "City not found. Skipping...\n",
      "Processing Record 308 | Atasū\n",
      "Processing Record 309 | Longyearbyen\n",
      "Processing Record 310 | Yen Bai\n",
      "Processing Record 311 | Shingū\n",
      "Processing Record 312 | Djenné\n",
      "Processing Record 313 | Garoowe\n",
      "Processing Record 314 | Viedma\n",
      "Processing Record 315 | Yangi Marg`ilon\n",
      "Processing Record 316 | Pekan\n",
      "City not found. Skipping...\n",
      "Processing Record 317 | Massaguet\n",
      "Processing Record 318 | Ongandjera\n",
      "Processing Record 319 | Libreville\n",
      "Processing Record 320 | San Jacinto\n",
      "Processing Record 321 | Cedar City\n",
      "City not found. Skipping...\n",
      "Processing Record 322 | Kushiro\n",
      "Processing Record 323 | Hasaki\n",
      "Processing Record 324 | Palāsa\n",
      "City not found. Skipping...\n",
      "Processing Record 325 | Brownwood\n",
      "Processing Record 326 | Lagoa\n",
      "Processing Record 327 | Fuyu\n",
      "Processing Record 328 | Rebrikha\n",
      "Processing Record 329 | Menongue\n",
      "Processing Record 330 | El Salvador\n",
      "Processing Record 331 | Alihe\n",
      "Processing Record 332 | Berlevåg\n",
      "Processing Record 333 | Fortuna\n",
      "Processing Record 334 | Port Elizabeth\n",
      "Processing Record 335 | Moree\n",
      "Processing Record 336 | Singaraja\n",
      "Processing Record 337 | Itarema\n",
      "Processing Record 338 | Luwuk\n",
      "Processing Record 339 | Mackenzie\n",
      "Processing Record 340 | Sangar\n",
      "Processing Record 341 | Sayansk\n",
      "City not found. Skipping...\n",
      "Processing Record 342 | Xicoténcatl\n",
      "Processing Record 343 | Cochirleanca\n",
      "Processing Record 344 | Grand-Santi\n",
      "Processing Record 345 | Aswān\n",
      "Processing Record 346 | Broken Hill\n",
      "Processing Record 347 | Guapimirim\n",
      "Processing Record 348 | Otjiwarongo\n",
      "Processing Record 349 | Bengkulu\n",
      "Processing Record 350 | Litovko\n",
      "City not found. Skipping...\n",
      "Processing Record 351 | Turčianske Teplice\n",
      "Processing Record 352 | Nemuro\n",
      "Processing Record 353 | Örnsköldsvik\n",
      "Processing Record 354 | Hurricane\n",
      "Processing Record 355 | Burayevo\n",
      "Processing Record 356 | Faanui\n",
      "Processing Record 357 | Maţāy\n",
      "Processing Record 358 | San Jerónimo\n",
      "Processing Record 359 | Ahipara\n",
      "Processing Record 360 | Sulphur\n",
      "Processing Record 361 | Caborca\n",
      "Processing Record 362 | Marsh Harbour\n",
      "City not found. Skipping...\n",
      "Processing Record 363 | Khovd\n",
      "City not found. Skipping...\n",
      "Processing Record 364 | Sirte\n",
      "Processing Record 365 | Puquio\n",
      "Processing Record 366 | Stromness\n",
      "Processing Record 367 | Paamiut\n",
      "Processing Record 368 | Port Augusta\n",
      "Processing Record 369 | Henties Bay\n",
      "Processing Record 370 | Tumpat\n",
      "Processing Record 371 | Ormara\n",
      "Processing Record 372 | Vardø\n",
      "Processing Record 373 | Río Gallegos\n",
      "Processing Record 374 | Changji\n",
      "Processing Record 375 | Te Anau\n",
      "Processing Record 376 | Pevek\n",
      "Processing Record 377 | Mahibadhoo\n",
      "Processing Record 378 | Berdigestyakh\n",
      "Processing Record 379 | San Ramon\n",
      "Processing Record 380 | Taoudenni\n",
      "Processing Record 381 | Zhangaözen\n",
      "City not found. Skipping...\n",
      "Processing Record 382 | Krutinka\n",
      "Processing Record 383 | Buraidah\n",
      "Processing Record 384 | Talnakh\n",
      "Processing Record 385 | São José da Coroa Grande\n",
      "Processing Record 386 | Clyde River\n",
      "City not found. Skipping...\n",
      "Processing Record 387 | Ningyang\n",
      "Processing Record 388 | Vanavara\n",
      "Processing Record 389 | Wanning\n",
      "Processing Record 390 | Kaitangata\n",
      "Processing Record 391 | Arrondissement de Tarbes\n",
      "Processing Record 392 | Broome\n",
      "Processing Record 393 | Paphos\n",
      "Processing Record 394 | Stykkisholmur\n",
      "Processing Record 395 | Ketchikan\n",
      "Processing Record 396 | Nantucket\n",
      "Processing Record 397 | Ucluelet\n",
      "Processing Record 398 | Kolokani\n",
      "Processing Record 399 | Lexington-Fayette\n",
      "Processing Record 400 | Mirik\n",
      "Processing Record 401 | Al Bardīyah\n",
      "Processing Record 402 | Wakkanai\n",
      "Processing Record 403 | Kibala\n",
      "Processing Record 404 | Bucerías\n",
      "Processing Record 405 | Tāndā\n",
      "Processing Record 406 | Channel-Port aux Basques\n",
      "Processing Record 407 | Freeport\n",
      "Processing Record 408 | Hambantota\n",
      "Processing Record 409 | Samarai\n",
      "Processing Record 410 | Rio Grande\n",
      "Processing Record 411 | Houma\n",
      "Processing Record 412 | São José de Ribamar\n",
      "Processing Record 413 | Novaya Lyalya\n",
      "Processing Record 414 | Jandaia do Sul\n",
      "Processing Record 415 | Vegachí\n",
      "Processing Record 416 | Tura\n",
      "Processing Record 417 | Solnechnyy\n",
      "Processing Record 418 | Boende\n",
      "Processing Record 419 | Orlik\n",
      "Processing Record 420 | Vao\n",
      "Processing Record 421 | Kruisfontein\n",
      "Processing Record 422 | Forio\n",
      "Processing Record 423 | Brewster\n",
      "Processing Record 424 | Bratsk\n",
      "Processing Record 425 | Kapuskasing\n",
      "Processing Record 426 | Bakaly\n",
      "Processing Record 427 | Ust'-Koksa\n",
      "Processing Record 428 | Kismayo\n",
      "Processing Record 429 | Ocean City\n",
      "Processing Record 430 | Mogadishu\n",
      "Processing Record 431 | Sanica\n",
      "Processing Record 432 | Tambovka\n",
      "City not found. Skipping...\n",
      "Processing Record 433 | Naliya\n",
      "Processing Record 434 | Yaring\n",
      "Processing Record 435 | Goderich\n",
      "Processing Record 436 | Atherton\n",
      "Processing Record 437 | Chimoré\n",
      "Processing Record 438 | Pesaro\n",
      "City not found. Skipping...\n",
      "Processing Record 439 | Hue\n",
      "Processing Record 440 | Coyhaique\n",
      "Processing Record 441 | Palauig\n",
      "Processing Record 442 | Qasigiannguit\n",
      "Processing Record 443 | Worthington\n",
      "Processing Record 444 | Davydovka\n",
      "Processing Record 445 | Talaya\n",
      "Processing Record 446 | Codrington\n",
      "Processing Record 447 | Poum\n",
      "Processing Record 448 | Gazli\n",
      "City not found. Skipping...\n",
      "City not found. Skipping...\n",
      "Processing Record 449 | Mongo\n",
      "Processing Record 450 | Falun\n",
      "City not found. Skipping...\n",
      "Processing Record 451 | Uelzen\n",
      "City not found. Skipping...\n"
     ]
    },
    {
     "name": "stdout",
     "output_type": "stream",
     "text": [
      "Processing Record 452 | Cruz Alta\n",
      "Processing Record 453 | Vanimo\n",
      "Processing Record 454 | Strezhevoy\n",
      "Processing Record 455 | Morros\n",
      "Processing Record 456 | Mayo\n",
      "Processing Record 457 | Bützow\n",
      "Processing Record 458 | Muscat\n",
      "Processing Record 459 | Wajid\n",
      "Processing Record 460 | Battle Creek\n",
      "Processing Record 461 | Lakes Entrance\n",
      "City not found. Skipping...\n",
      "Processing Record 462 | Esmeraldas\n",
      "Processing Record 463 | Haverfordwest\n",
      "Processing Record 464 | Siyabuswa\n",
      "Processing Record 465 | Belaya Gora\n",
      "Processing Record 466 | Macusani\n",
      "City not found. Skipping...\n",
      "Processing Record 467 | Shihezi\n",
      "Processing Record 468 | Korla\n",
      "Processing Record 469 | Lockhart\n",
      "City not found. Skipping...\n",
      "Processing Record 470 | Betanzos\n",
      "Processing Record 471 | Luba\n",
      "Processing Record 472 | Vila Velha\n",
      "Processing Record 473 | Jalu\n",
      "Processing Record 474 | Altinho\n",
      "Processing Record 475 | Puerto Nariño\n",
      "Processing Record 476 | Makhinjauri\n",
      "Processing Record 477 | Hofn\n",
      "Processing Record 478 | Cubará\n",
      "Processing Record 479 | Nikolayevka\n",
      "Processing Record 480 | Saint-Pierre\n",
      "Processing Record 481 | Tateyama\n",
      "Processing Record 482 | Uchaly\n",
      "Processing Record 483 | Margate\n",
      "Processing Record 484 | Fuyang\n",
      "Processing Record 485 | Prieska\n",
      "Processing Record 486 | Soyo\n",
      "Processing Record 487 | Novyy Buh\n",
      "Processing Record 488 | Rome\n",
      "Processing Record 489 | Guane\n",
      "Processing Record 490 | Tautira\n",
      "Processing Record 491 | Saint-Joseph\n",
      "Processing Record 492 | Nieuw Amsterdam\n",
      "Processing Record 493 | Goygol\n",
      "Processing Record 494 | Tsaratanana\n",
      "Processing Record 495 | Quatre Cocos\n",
      "Processing Record 496 | Ekibastuz\n",
      "Processing Record 497 | Greeley\n",
      "Processing Record 498 | Port Blair\n",
      "Processing Record 499 | Treinta y Tres\n",
      "Processing Record 500 | Pacific Grove\n",
      "Processing Record 501 | Sakakah\n",
      "Processing Record 502 | Daru\n",
      "Processing Record 503 | Trenggalek\n",
      "Processing Record 504 | Kilindoni\n",
      "Processing Record 505 | Chudniv\n",
      "Processing Record 506 | Pangnirtung\n",
      "Processing Record 507 | Orcotuna\n",
      "Processing Record 508 | Havøysund\n",
      "Processing Record 509 | Scottsbluff\n",
      "Processing Record 510 | Bismarck\n",
      "Processing Record 511 | Benavente\n",
      "Processing Record 512 | Meru\n",
      "Processing Record 513 | Janakpur Dham\n",
      "Processing Record 514 | Vitry-le-François\n",
      "Processing Record 515 | Peachtree City\n",
      "Processing Record 516 | Nishihara\n",
      "Processing Record 517 | Buedu\n",
      "Processing Record 518 | Kukshi\n",
      "Processing Record 519 | Springbok\n",
      "City not found. Skipping...\n",
      "Processing Record 520 | Vostok\n",
      "Processing Record 521 | Bodden Town\n",
      "Processing Record 522 | Point Fortin\n",
      "City not found. Skipping...\n",
      "Processing Record 523 | Novyy Urgal\n",
      "Processing Record 524 | Palmas\n",
      "City not found. Skipping...\n",
      "Processing Record 525 | Elko\n",
      "Processing Record 526 | Jambi City\n",
      "Processing Record 527 | Columbia\n",
      "Processing Record 528 | Jimeta\n",
      "Processing Record 529 | Meulaboh\n",
      "Processing Record 530 | Inhambane\n",
      "Processing Record 531 | Zhengjiatun\n",
      "Processing Record 532 | Williams Lake\n",
      "City not found. Skipping...\n",
      "Processing Record 533 | Martinsburg\n",
      "City not found. Skipping...\n",
      "Processing Record 534 | São João da Barra\n",
      "City not found. Skipping...\n",
      "City not found. Skipping...\n",
      "Processing Record 535 | Mundo Nuevo (Ojo de Agua)\n",
      "Processing Record 536 | Buala\n",
      "Processing Record 537 | Maxixe\n",
      "Processing Record 538 | Mehrān\n",
      "Processing Record 539 | Fereydūnkenār\n",
      "Processing Record 540 | Zenzeli\n",
      "Processing Record 541 | Grindavik\n",
      "Processing Record 542 | Wokha\n",
      "Processing Record 543 | Paciran\n",
      "Processing Record 544 | Zanjān\n",
      "City not found. Skipping...\n",
      "Processing Record 545 | Auki\n",
      "Processing Record 546 | Muros\n",
      "City not found. Skipping...\n",
      "Processing Record 547 | Semey\n",
      "Processing Record 548 | Coração de Maria\n",
      "Processing Record 549 | Ellisras\n",
      "Processing Record 550 | Yumaguzino\n",
      "Processing Record 551 | Omboué\n",
      "Processing Record 552 | Geraldton\n",
      "Processing Record 553 | Belfast\n",
      "Processing Record 554 | Teknāf\n",
      "Processing Record 555 | Xining\n",
      "Processing Record 556 | Tigil'\n",
      "Processing Record 557 | Banda Aceh\n",
      "Processing Record 558 | Katherine\n",
      "Processing Record 559 | La Seyne-sur-Mer\n",
      "City not found. Skipping...\n",
      "Processing Record 560 | Nhulunbuy\n",
      "Processing Record 561 | Alekseyevsk\n",
      "City not found. Skipping...\n",
      "Processing Record 562 | Punta Alta\n",
      "Processing Record 563 | La Macarena\n",
      "Processing Record 564 | Letlhakane\n",
      "Processing Record 565 | Paoua\n",
      "Processing Record 566 | Portobelo\n",
      "Processing Record 567 | Avera\n",
      "Processing Record 568 | Pasinler\n",
      "Processing Record 569 | Palana\n",
      "Processing Record 570 | Kandrian\n",
      "Processing Record 571 | Szeghalom\n",
      "Processing Record 572 | Raudeberg\n",
      "Processing Record 573 | Monrovia\n",
      "------------------------------\n",
      "Data Retrieval Complete!!    \n",
      "------------------------------\n"
     ]
    }
   ],
   "source": [
    "# data retrive process start\n",
    "\n",
    "# print to logger\n",
    "print(f\"Beginning Data Retrieval      \")\n",
    "print(f\"------------------------------\")\n",
    "\n",
    "# Loop through each city\n",
    "for city in cities:\n",
    "    \n",
    "    # try to get the response for each city\n",
    "    try:\n",
    "        #run API requests and retrive the data\n",
    "        response = requests.get(Q_url + city).json()\n",
    "        \n",
    "        ## add a time delay to avoid blowing out the API key\n",
    "        #time.sleep(1)\n",
    "        \n",
    "        city_name.append(response[\"name\"])\n",
    "        latitude.append(response[\"coord\"][\"lat\"])\n",
    "        longitude.append(response[\"coord\"][\"lon\"])\n",
    "        temperature.append(response[\"main\"][\"temp\"])\n",
    "        humidity.append(response[\"main\"][\"humidity\"])\n",
    "        cloudiness.append(response[\"clouds\"][\"all\"])\n",
    "        wind_speed.append(response[\"wind\"][\"speed\"])\n",
    "        country.append(response[\"sys\"][\"country\"])\n",
    "        date.append(response[\"dt\"])\n",
    "        city_record = response[\"name\"]\n",
    "        print(f\"Processing Record {processing_record} | {city_record}\")\n",
    "        \n",
    "        # increase record counting by 1\n",
    "        processing_record += 1\n",
    "        \n",
    "    except:\n",
    "        print(\"City not found. Skipping...\") \n",
    "    pass\n",
    "\n",
    "print(f\"------------------------------\")\n",
    "print(f\"Data Retrieval Complete!!    \")\n",
    "print(f\"------------------------------\")"
   ]
  },
  {
   "cell_type": "markdown",
   "metadata": {},
   "source": [
    "### Convert Raw Data to DataFrame\n",
    "* Export the city data into a .csv.\n",
    "* Display the DataFrame"
   ]
  },
  {
   "cell_type": "code",
   "execution_count": 11,
   "metadata": {},
   "outputs": [
    {
     "data": {
      "text/html": [
       "<div>\n",
       "<style scoped>\n",
       "    .dataframe tbody tr th:only-of-type {\n",
       "        vertical-align: middle;\n",
       "    }\n",
       "\n",
       "    .dataframe tbody tr th {\n",
       "        vertical-align: top;\n",
       "    }\n",
       "\n",
       "    .dataframe thead th {\n",
       "        text-align: right;\n",
       "    }\n",
       "</style>\n",
       "<table border=\"1\" class=\"dataframe\">\n",
       "  <thead>\n",
       "    <tr style=\"text-align: right;\">\n",
       "      <th></th>\n",
       "      <th>City</th>\n",
       "      <th>Latitude</th>\n",
       "      <th>Longitude</th>\n",
       "      <th>Temp</th>\n",
       "      <th>Humidity</th>\n",
       "      <th>Cloudiness</th>\n",
       "      <th>Wind Speed</th>\n",
       "      <th>Country</th>\n",
       "      <th>Date</th>\n",
       "    </tr>\n",
       "  </thead>\n",
       "  <tbody>\n",
       "    <tr>\n",
       "      <th>0</th>\n",
       "      <td>Rikitea</td>\n",
       "      <td>-23.1203</td>\n",
       "      <td>-134.9692</td>\n",
       "      <td>26.15</td>\n",
       "      <td>72</td>\n",
       "      <td>50</td>\n",
       "      <td>7.34</td>\n",
       "      <td>PF</td>\n",
       "      <td>1644459657</td>\n",
       "    </tr>\n",
       "    <tr>\n",
       "      <th>1</th>\n",
       "      <td>San Patricio</td>\n",
       "      <td>28.0170</td>\n",
       "      <td>-97.5169</td>\n",
       "      <td>13.34</td>\n",
       "      <td>54</td>\n",
       "      <td>4</td>\n",
       "      <td>3.89</td>\n",
       "      <td>US</td>\n",
       "      <td>1644459657</td>\n",
       "    </tr>\n",
       "    <tr>\n",
       "      <th>2</th>\n",
       "      <td>Mataura</td>\n",
       "      <td>-46.1927</td>\n",
       "      <td>168.8643</td>\n",
       "      <td>27.25</td>\n",
       "      <td>34</td>\n",
       "      <td>23</td>\n",
       "      <td>2.74</td>\n",
       "      <td>NZ</td>\n",
       "      <td>1644459658</td>\n",
       "    </tr>\n",
       "    <tr>\n",
       "      <th>3</th>\n",
       "      <td>Binzhou</td>\n",
       "      <td>37.3667</td>\n",
       "      <td>118.0167</td>\n",
       "      <td>7.37</td>\n",
       "      <td>57</td>\n",
       "      <td>0</td>\n",
       "      <td>3.70</td>\n",
       "      <td>CN</td>\n",
       "      <td>1644459658</td>\n",
       "    </tr>\n",
       "    <tr>\n",
       "      <th>4</th>\n",
       "      <td>Butaritari</td>\n",
       "      <td>3.0707</td>\n",
       "      <td>172.7902</td>\n",
       "      <td>27.66</td>\n",
       "      <td>77</td>\n",
       "      <td>100</td>\n",
       "      <td>6.82</td>\n",
       "      <td>KI</td>\n",
       "      <td>1644459658</td>\n",
       "    </tr>\n",
       "  </tbody>\n",
       "</table>\n",
       "</div>"
      ],
      "text/plain": [
       "           City  Latitude  Longitude   Temp  Humidity  Cloudiness  Wind Speed  \\\n",
       "0       Rikitea  -23.1203  -134.9692  26.15        72          50        7.34   \n",
       "1  San Patricio   28.0170   -97.5169  13.34        54           4        3.89   \n",
       "2       Mataura  -46.1927   168.8643  27.25        34          23        2.74   \n",
       "3       Binzhou   37.3667   118.0167   7.37        57           0        3.70   \n",
       "4    Butaritari    3.0707   172.7902  27.66        77         100        6.82   \n",
       "\n",
       "  Country        Date  \n",
       "0      PF  1644459657  \n",
       "1      US  1644459657  \n",
       "2      NZ  1644459658  \n",
       "3      CN  1644459658  \n",
       "4      KI  1644459658  "
      ]
     },
     "execution_count": 11,
     "metadata": {},
     "output_type": "execute_result"
    }
   ],
   "source": [
    "# define dataframe then display\n",
    "weather_data = {\n",
    "    \"City\": city_name,\n",
    "    \"Latitude\": latitude,\n",
    "    \"Longitude\": longitude,\n",
    "    \"Temp\": temperature,\n",
    "    \"Humidity\": humidity,\n",
    "    \"Cloudiness\": cloudiness,\n",
    "    \"Wind Speed\": wind_speed,\n",
    "    \"Country\": country,\n",
    "    \"Date\": date\n",
    "}\n",
    "weatherDF = pd.DataFrame(weather_data)\n",
    "\n",
    "weatherDF.head()"
   ]
  },
  {
   "cell_type": "code",
   "execution_count": 12,
   "metadata": {},
   "outputs": [],
   "source": [
    "# export data to CSV file\n",
    "weatherDF.to_csv(\"Weather_Output.csv\")"
   ]
  },
  {
   "cell_type": "markdown",
   "metadata": {},
   "source": [
    "## Inspect the data and remove the cities where the humidity > 100%.\n",
    "----\n",
    "Skip this step if there are no cities that have humidity > 100%. "
   ]
  },
  {
   "cell_type": "code",
   "execution_count": 13,
   "metadata": {},
   "outputs": [],
   "source": [
    "#Lat\tLng\tMax Temp\tHumidity\tCloudiness\tWind Speed\tDate\n",
    "# count\t550.000000\t550.000000\t550.000000\t550.000000\t550.000000\t550.000000\t5.500000e+02"
   ]
  },
  {
   "cell_type": "code",
   "execution_count": 14,
   "metadata": {},
   "outputs": [],
   "source": [
    "# Get the indices of cities that have humidity over 100%.\n",
    "# Int64Index([], dtype='int64')"
   ]
  },
  {
   "cell_type": "code",
   "execution_count": 15,
   "metadata": {},
   "outputs": [],
   "source": [
    "# Make a new DataFrame equal to the city data to drop all humidity outliers by index.\n",
    "# Passing \"inplace=False\" will make a copy of the city_data DataFrame, which we call \"clean_city_data\".\n",
    "# City\tLat\tLng\tMax Temp\tHumidity\tCloudiness\tWind Speed\tCountry\tDate\n",
    "# 0\tbutaritari\t3.07\t172.79\t83.32\t74\t84\t10.42\tKI\t1593605283"
   ]
  },
  {
   "cell_type": "code",
   "execution_count": null,
   "metadata": {},
   "outputs": [],
   "source": []
  },
  {
   "cell_type": "markdown",
   "metadata": {},
   "source": [
    "## Plotting the Data\n",
    "* Use proper labeling of the plots using plot titles (including date of analysis) and axes labels.\n",
    "* Save the plotted figures as .pngs."
   ]
  },
  {
   "cell_type": "code",
   "execution_count": 16,
   "metadata": {},
   "outputs": [],
   "source": [
    "## Create a series of scatter plots to showcase the following relationships:\n",
    "#  Temperature (F) vs. Latitude\n",
    "#  Humidity (%) vs. Latitude\n",
    "#  Cloudiness (%) vs. Latitude\n",
    "#  Wind Speed (mph) vs. Latitude"
   ]
  },
  {
   "cell_type": "code",
   "execution_count": 17,
   "metadata": {},
   "outputs": [],
   "source": [
    "## Save plot to the selected directory. If the directory does not exist, it is created.\n",
    "\n",
    "#import os\n",
    "#import matplotlib.pyplot as plt\n",
    "\n",
    "#script_dir = os.path.dirname(__file__)\n",
    "#results_dir = os.path.join(script_dir, 'Results/')\n",
    "#plot_file_name = \"CityLatitude_vs_Temperature\"\n",
    "\n",
    "#if not os.path.isdir(results_dir):\n",
    "#    os.makedirs(results_dir)\n",
    "\n",
    "#plt.plot([1,2,3,4])\n",
    "#plt.ylabel('some numbers')\n",
    "#plt.savefig(results_dir + sample_file_name)"
   ]
  },
  {
   "cell_type": "markdown",
   "metadata": {},
   "source": [
    "## Latitude vs. Temperature Plot"
   ]
  },
  {
   "cell_type": "code",
   "execution_count": 18,
   "metadata": {
    "scrolled": true
   },
   "outputs": [
    {
     "data": {
      "image/png": "[encoded data removed]",
      "text/plain": [
       "<Figure size 432x288 with 1 Axes>"
      ]
     },
     "metadata": {
      "needs_background": "light"
     },
     "output_type": "display_data"
    },
    {
     "name": "stdout",
     "output_type": "stream",
     "text": [
      "\u001b[1mThe relationship between City Latitude and Temperature shows as the scatter plot above. \n",
      "\n",
      "All latitude lines are parallel from East to West as circles to the equator, \n",
      "Temperature is inversely related to latitude. As latitude increases, the temperature falls, and vice versa. \n",
      "\u001b[0m\n"
     ]
    },
    {
     "data": {
      "text/plain": [
       "<Figure size 432x288 with 0 Axes>"
      ]
     },
     "metadata": {},
     "output_type": "display_data"
    }
   ],
   "source": [
    "# Create a scatter plot for Temperature (F) vs. Latitude\n",
    "plt.scatter(weatherDF['Latitude'], weatherDF[\"Temp\"], facecolors = \"darkblue\", edgecolor =\"white\", marker=\"o\")\n",
    "\n",
    "plt.xlabel(\"Latitude\")\n",
    "plt.ylabel(\"Max Temperature (F)\")\n",
    "plt.title(\"City Latitude vs. Max Temperature (01/23/2022)\")\n",
    "\n",
    "plt.grid()\n",
    "plt.show()\n",
    "\n",
    "# save plot as png file\n",
    "plt.savefig(\"CityLatitude_vs_Temperature.png\")\n",
    "\n",
    "# bold print '\\033[1m'+ words +'\\033[0m'\n",
    "print('\\033[1m' +\"The relationship between City Latitude and Temperature shows as the scatter plot above. \\n\" \n",
    "      \"\\n\"\n",
    "      \"All latitude lines are parallel from East to West as circles to the equator, \\n\"\n",
    "      \"Temperature is inversely related to latitude. As latitude increases, the temperature falls, and vice versa. \\n\"+'\\033[0m')"
   ]
  },
  {
   "cell_type": "markdown",
   "metadata": {},
   "source": [
    "## Latitude vs. Humidity Plot"
   ]
  },
  {
   "cell_type": "code",
   "execution_count": 19,
   "metadata": {},
   "outputs": [
    {
     "data": {
      "image/png": "[encoded data removed]",
      "text/plain": [
       "<Figure size 432x288 with 1 Axes>"
      ]
     },
     "metadata": {
      "needs_background": "light"
     },
     "output_type": "display_data"
    },
    {
     "name": "stdout",
     "output_type": "stream",
     "text": [
      "\u001b[1mThe relationship between City Latitude and Humidity shows as the scatter plot above. \n",
      "Since the humidity also meansures water vapor in the air, warm air can possess more water vapor (moisture)\n",
      "then cold air, air will have a higher relative humidity if the air is cooler. The cities with higer Latitude \n",
      "will be moisture with the same amount of absolute/specific humidity, then the cities with lower latitude.\n",
      "\u001b[0m\n"
     ]
    },
    {
     "data": {
      "text/plain": [
       "<Figure size 432x288 with 0 Axes>"
      ]
     },
     "metadata": {},
     "output_type": "display_data"
    }
   ],
   "source": [
    "# Create a scatter plot for Humidity (%) vs. Latitude\n",
    "\n",
    "plt.scatter(weatherDF[\"Latitude\"], weatherDF[\"Humidity\"], facecolors = \"darkblue\", edgecolor =\"white\", marker=\"1\")\n",
    "\n",
    "plt.xlabel(\"Latitude\")\n",
    "plt.ylabel(\"Humidity (%)\")\n",
    "plt.title(\"City Latitude vs. Humidity (%) (01/23/2022)\")\n",
    "\n",
    "plt.grid()\n",
    "plt.show()\n",
    "\n",
    "# save plot as png file\n",
    "plt.savefig(\"CityLatitude_vs_Humidity.png\")\n",
    "\n",
    "# bold print '\\033[1m'+ words +'\\033[0m'\n",
    "print('\\033[1m' +\"The relationship between City Latitude and Humidity shows as the scatter plot above. \\n\" \n",
    "      \"Since the humidity also meansures water vapor in the air, warm air can possess more water vapor (moisture)\\n\"\n",
    "      \"then cold air, air will have a higher relative humidity if the air is cooler. The cities with higer Latitude \\n\"\n",
    "      \"will be moisture with the same amount of absolute/specific humidity, then the cities with lower latitude.\\n\"\n",
    "      +'\\033[0m')"
   ]
  },
  {
   "cell_type": "markdown",
   "metadata": {},
   "source": [
    "## Latitude vs. Cloudiness Plot"
   ]
  },
  {
   "cell_type": "code",
   "execution_count": 20,
   "metadata": {},
   "outputs": [
    {
     "data": {
      "image/png": "[encoded data removed]",
      "text/plain": [
       "<Figure size 432x288 with 1 Axes>"
      ]
     },
     "metadata": {
      "needs_background": "light"
     },
     "output_type": "display_data"
    },
    {
     "name": "stdout",
     "output_type": "stream",
     "text": [
      "\u001b[1mThe relationship between City Latitude and Cloudiness (%) shows as the scatter plot above. \n",
      "Clouds tend to form in abundance in the middle latitudes to north and south of the equator.\n",
      "There are three broad bands where Earth’s skies are most likely to be cloudy. \n",
      "\u001b[0m\n"
     ]
    },
    {
     "data": {
      "text/plain": [
       "<Figure size 432x288 with 0 Axes>"
      ]
     },
     "metadata": {},
     "output_type": "display_data"
    }
   ],
   "source": [
    "# Create a scatter plot for Cloudiness (%) vs. Latitude\n",
    "\n",
    "plt.scatter(weatherDF[\"Latitude\"], weatherDF[\"Cloudiness\"], facecolors = \"darkblue\", edgecolor =\"white\", marker=\"o\")\n",
    "\n",
    "plt.xlabel(\"Latitude\")\n",
    "plt.ylabel(\"Cloudiness (%)\")\n",
    "plt.title(\"City Latitude vs. Cloudiness (%)   (01/23/2022)\")\n",
    "\n",
    "plt.grid()\n",
    "plt.show()\n",
    "\n",
    "# save plot as png file\n",
    "plt.savefig(\"CityLatitude_vs_Cloudiness.png\")\n",
    "\n",
    "# bold print '\\033[1m'+ words +'\\033[0m'\n",
    "print('\\033[1m' +\n",
    "      \"The relationship between City Latitude and Cloudiness (%) shows as the scatter plot above. \\n\" \n",
    "      \"Clouds tend to form in abundance in the middle latitudes to north and south of the equator.\\n\"\n",
    "      \"There are three broad bands where Earth’s skies are most likely to be cloudy. \\n\"\n",
    "      +'\\033[0m')"
   ]
  },
  {
   "cell_type": "markdown",
   "metadata": {},
   "source": [
    "## Latitude vs. Wind Speed Plot"
   ]
  },
  {
   "cell_type": "code",
   "execution_count": 21,
   "metadata": {},
   "outputs": [
    {
     "data": {
      "image/png": "[encoded data removed]",
      "text/plain": [
       "<Figure size 432x288 with 1 Axes>"
      ]
     },
     "metadata": {
      "needs_background": "light"
     },
     "output_type": "display_data"
    },
    {
     "name": "stdout",
     "output_type": "stream",
     "text": [
      "\u001b[1mThe relationship between City Latitude and Wind Speed (mph) shows as the scatter plot above. \n",
      "the speed of wind is determined by the magnitude of the air pressure difference make the air move \n",
      "from high pressure to low.  with greater speeds resulting from greater air pressure differences.\n",
      "Observations show that the wind speed increases equatorward in low latitudes while the wind speed decreases. \n",
      "\u001b[0m\n"
     ]
    },
    {
     "data": {
      "text/plain": [
       "<Figure size 432x288 with 0 Axes>"
      ]
     },
     "metadata": {},
     "output_type": "display_data"
    }
   ],
   "source": [
    "#Create a scatter plot for Wind Speed (mph) vs. Latitude\n",
    "\n",
    "plt.scatter(weatherDF[\"Latitude\"], weatherDF[\"Wind Speed\"], facecolors = \"darkblue\", edgecolor =\"white\", marker=\"o\")\n",
    "\n",
    "plt.xlabel(\"Latitude\")\n",
    "plt.ylabel(\"Wind Speed (mph)\")\n",
    "plt.title(\"City Latitude vs. Wind Speed (mph)   (01/23/2022)\")\n",
    "\n",
    "plt.grid()\n",
    "plt.show()\n",
    "\n",
    "# save plot as png file\n",
    "plt.savefig(\"CityLatitude_vs_WindSpeed.png\")\n",
    "\n",
    "# bold print '\\033[1m'+ words +'\\033[0m'\n",
    "print('\\033[1m' +\n",
    "      \"The relationship between City Latitude and Wind Speed (mph) shows as the scatter plot above. \\n\" \n",
    "      \"the speed of wind is determined by the magnitude of the air pressure difference make the air move \\n\"\n",
    "      \"from high pressure to low.  with greater speeds resulting from greater air pressure differences.\\n\"\n",
    "      \"Observations show that the wind speed increases equatorward in low latitudes while the wind speed decreases. \\n\"\n",
    "      +'\\033[0m')"
   ]
  },
  {
   "cell_type": "markdown",
   "metadata": {},
   "source": [
    "## Linear Regression"
   ]
  },
  {
   "cell_type": "code",
   "execution_count": 22,
   "metadata": {},
   "outputs": [],
   "source": [
    "# run linear regression on each relationship. \n",
    "# Separate the plots into Northern Hemisphere (>=0 degrees latitude) and Southern Hemisphere (<0 degrees latitude):\n",
    "\n",
    "#Northern Hemisphere - Temperature (F) vs. Latitude\n",
    "#Southern Hemisphere - Temperature (F) vs. Latitude\n",
    "#Northern Hemisphere - Humidity (%) vs. Latitude\n",
    "#Southern Hemisphere - Humidity (%) vs. Latitude\n",
    "#Northern Hemisphere - Cloudiness (%) vs. Latitude\n",
    "#Southern Hemisphere - Cloudiness (%) vs. Latitude\n",
    "#Northern Hemisphere - Wind Speed (mph) vs. Latitude\n",
    "#Southern Hemisphere - Wind Speed (mph) vs. Latitude\n",
    "\n",
    "# explain what the linear regression is modeling. Describe any relationships and any other analysis\n",
    "\n",
    "#final notebook must:\n",
    "# Randomly select at least 500 unique (non-repeat) cities based on latitude and longitude.\n",
    "# Perform a weather check on each of the cities using a series of successive API calls.\n",
    "# Include a print log of each city as it's being processed with the city number and city name.\n",
    "# Save a CSV of all retrieved data and a PNG image for each scatter plot."
   ]
  },
  {
   "cell_type": "markdown",
   "metadata": {},
   "source": [
    "####  Northern Hemisphere - Max Temp vs. Latitude Linear Regression"
   ]
  },
  {
   "cell_type": "code",
   "execution_count": 23,
   "metadata": {},
   "outputs": [
    {
     "data": {
      "image/png": "[encoded data removed]",
      "text/plain": [
       "<Figure size 432x288 with 1 Axes>"
      ]
     },
     "metadata": {
      "needs_background": "light"
     },
     "output_type": "display_data"
    }
   ],
   "source": [
    "# create dataframe for northern hemisphere\n",
    "N_hemisphere = weatherDF.loc[weatherDF[\"Latitude\"] >= 0]\n",
    "\n",
    "# Create a scatter plot for latitude vs temperature for northern hemisphere\n",
    "x_values = N_hemisphere[\"Latitude\"]\n",
    "y_values = N_hemisphere[\"Temp\"]\n",
    "plt.scatter(x_values, y_values, facecolors=\"darkblue\", marker=\"o\", edgecolor=\"white\")\n",
    "plt.xlabel('Latitude')\n",
    "plt.ylabel('Temperature (F)')\n",
    "plt.title(\"Nothern Hemisphere - City Latitude vs. Max Temperature (01/23/2022)\")\n",
    "\n",
    "plt.grid()\n",
    "plt.show()"
   ]
  },
  {
   "cell_type": "code",
   "execution_count": 24,
   "metadata": {},
   "outputs": [
    {
     "name": "stdout",
     "output_type": "stream",
     "text": [
      "1      11.096512\n",
      "3       4.329473\n",
      "4      29.151913\n",
      "6     -17.880443\n",
      "9      20.593035\n",
      "         ...    \n",
      "567     2.437826\n",
      "568   -11.412539\n",
      "570    -2.666928\n",
      "571   -13.490340\n",
      "572    26.814278\n",
      "Name: Latitude, Length: 402, dtype: float64\n"
     ]
    }
   ],
   "source": [
    "# Perform a linear regression on Max temperature vs. latitude for Northern hemisphere\n",
    "(slope, intercept, rvalue, pvalue, stderr) = stats.linregress(x_values, y_values)\n",
    "\n",
    "# caculate regression values\n",
    "regress_values = x_values * slope + intercept\n",
    "print(regress_values)"
   ]
  },
  {
   "cell_type": "code",
   "execution_count": 25,
   "metadata": {},
   "outputs": [
    {
     "name": "stdout",
     "output_type": "stream",
     "text": [
      "y = -0.72x +31.37\n"
     ]
    }
   ],
   "source": [
    "# result of line equation string\n",
    "line_equation = \"y = \" + str(round(slope,2)) + \"x +\" + str(round(intercept,2))\n",
    "print(line_equation)"
   ]
  },
  {
   "cell_type": "code",
   "execution_count": 29,
   "metadata": {},
   "outputs": [
    {
     "name": "stdout",
     "output_type": "stream",
     "text": [
      "The r-value is: 0.73269070185145\n"
     ]
    },
    {
     "data": {
      "image/png": "[encoded data removed]",
      "text/plain": [
       "<Figure size 432x288 with 1 Axes>"
      ]
     },
     "metadata": {
      "needs_background": "light"
     },
     "output_type": "display_data"
    }
   ],
   "source": [
    "# Create plot for Northern hemisphere\n",
    "plt.scatter(x_values,y_values)\n",
    "plt.plot(x_values,regress_values,\"r-\")\n",
    "\n",
    "# Label plot and annotate the line equation\n",
    "plt.xlabel(\"Latitude\")\n",
    "plt.ylabel(\"Max Temperature\")\n",
    "\n",
    "#plt.annotate(line_equation,(0,20),fontsize=15,color=\"red\")\n",
    "\n",
    "# Print r value\n",
    "print(f\"The r-value is: {rvalue**2}\")\n",
    "\n",
    "plt.grid()\n",
    "plt.show()"
   ]
  },
  {
   "cell_type": "code",
   "execution_count": 30,
   "metadata": {},
   "outputs": [
    {
     "data": {
      "text/plain": [
       "<Figure size 432x288 with 0 Axes>"
      ]
     },
     "metadata": {},
     "output_type": "display_data"
    }
   ],
   "source": [
    "# save plot as png file\n",
    "plt.savefig(\"N_hemisphere_CityLatitude_vs_Temp.png\")"
   ]
  },
  {
   "cell_type": "markdown",
   "metadata": {},
   "source": [
    "####  Southern Hemisphere - Max Temp vs. Latitude Linear Regression"
   ]
  },
  {
   "cell_type": "code",
   "execution_count": null,
   "metadata": {},
   "outputs": [],
   "source": []
  },
  {
   "cell_type": "markdown",
   "metadata": {},
   "source": [
    "####  Northern Hemisphere - Humidity (%) vs. Latitude Linear Regression"
   ]
  },
  {
   "cell_type": "code",
   "execution_count": null,
   "metadata": {},
   "outputs": [],
   "source": []
  },
  {
   "cell_type": "markdown",
   "metadata": {},
   "source": [
    "####  Southern Hemisphere - Humidity (%) vs. Latitude Linear Regression"
   ]
  },
  {
   "cell_type": "code",
   "execution_count": null,
   "metadata": {},
   "outputs": [],
   "source": []
  },
  {
   "cell_type": "markdown",
   "metadata": {},
   "source": [
    "####  Northern Hemisphere - Cloudiness (%) vs. Latitude Linear Regression"
   ]
  },
  {
   "cell_type": "code",
   "execution_count": null,
   "metadata": {},
   "outputs": [],
   "source": []
  },
  {
   "cell_type": "markdown",
   "metadata": {},
   "source": [
    "####  Southern Hemisphere - Cloudiness (%) vs. Latitude Linear Regression"
   ]
  },
  {
   "cell_type": "code",
   "execution_count": null,
   "metadata": {},
   "outputs": [],
   "source": []
  },
  {
   "cell_type": "markdown",
   "metadata": {},
   "source": [
    "####  Northern Hemisphere - Wind Speed (mph) vs. Latitude Linear Regression"
   ]
  },
  {
   "cell_type": "code",
   "execution_count": null,
   "metadata": {},
   "outputs": [],
   "source": []
  },
  {
   "cell_type": "markdown",
   "metadata": {},
   "source": [
    "####  Southern Hemisphere - Wind Speed (mph) vs. Latitude Linear Regression"
   ]
  },
  {
   "cell_type": "code",
   "execution_count": null,
   "metadata": {},
   "outputs": [],
   "source": []
  },
  {
   "cell_type": "code",
   "execution_count": null,
   "metadata": {},
   "outputs": [],
   "source": []
  }
 ],
 "metadata": {
  "anaconda-cloud": {},
  "kernel_info": {
   "name": "python3"
  },
  "kernelspec": {
   "display_name": "Python 3",
   "language": "python",
   "name": "python3"
  },
  "language_info": {
   "codemirror_mode": {
    "name": "ipython",
    "version": 3
   },
   "file_extension": ".py",
   "mimetype": "text/x-python",
   "name": "python",
   "nbconvert_exporter": "python",
   "pygments_lexer": "ipython3",
   "version": "3.8.8"
  },
  "latex_envs": {
   "LaTeX_envs_menu_present": true,
   "autoclose": false,
   "autocomplete": true,
   "bibliofile": "biblio.bib",
   "cite_by": "apalike",
   "current_citInitial": 1,
   "eqLabelWithNumbers": true,
   "eqNumInitial": 1,
   "hotkeys": {
    "equation": "Ctrl-E",
    "itemize": "Ctrl-I"
   },
   "labels_anchors": false,
   "latex_user_defs": false,
   "report_style_numbering": false,
   "user_envs_cfg": false
  },
  "nteract": {
   "version": "0.12.3"
  }
 },
 "nbformat": 4,
 "nbformat_minor": 2
}
