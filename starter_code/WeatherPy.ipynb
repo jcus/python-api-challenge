{
 "cells": [
  {
   "cell_type": "markdown",
   "metadata": {},
   "source": [
    "# WeatherPy\n",
    "----\n",
    "\n",
    "#### Note\n",
    "* Instructions have been included for each segment. You do not have to follow them exactly, but they are included to help you think through the steps."
   ]
  },
  {
   "cell_type": "code",
   "execution_count": 1,
   "metadata": {},
   "outputs": [
    {
     "name": "stdout",
     "output_type": "stream",
     "text": [
      "Requirement already satisfied: citipy in c:\\programdata\\anaconda3\\lib\\site-packages (0.0.5)\n",
      "Requirement already satisfied: kdtree>=0.12 in c:\\programdata\\anaconda3\\lib\\site-packages (from citipy) (0.16)\n",
      "Note: you may need to restart the kernel to use updated packages.\n"
     ]
    }
   ],
   "source": [
    "pip install citipy"
   ]
  },
  {
   "cell_type": "code",
   "execution_count": 2,
   "metadata": {
    "scrolled": true
   },
   "outputs": [],
   "source": [
    "# Dependencies and Setup\n",
    "import matplotlib.pyplot as plt\n",
    "import pandas as pd\n",
    "import numpy as np\n",
    "import requests\n",
    "import time\n",
    "from scipy import stats\n",
    "#from scipy.stats import linregress\n",
    "import json\n",
    "\n",
    "# Incorporated citipy to determine city based on latitude and longitude\n",
    "from citipy import citipy\n",
    "\n",
    "## Import API key\n",
    "from api_keys import weather_api_key\n",
    "\n",
    "# under VBA add this line to .iginore to gnore the push/ modification of the config.py file\n",
    "# api_keys.py"
   ]
  },
  {
   "cell_type": "code",
   "execution_count": 3,
   "metadata": {},
   "outputs": [],
   "source": [
    "# Output File CSV\n",
    "output_data_file = \"output_data/cities.csv\"\n",
    "\n",
    "# Range of latitudes and longitudes\n",
    "lat_range = (-90, 90)\n",
    "lng_range = (-180, 180)"
   ]
  },
  {
   "cell_type": "markdown",
   "metadata": {},
   "source": [
    "# Generate Cities List"
   ]
  },
  {
   "cell_type": "code",
   "execution_count": 4,
   "metadata": {},
   "outputs": [],
   "source": [
    "# List for holding lat_lngs and cities\n",
    "lat_lngs = []\n",
    "cities = []\n",
    "\n",
    "# Create a set of random lat and lng combinations-- numpy, generate 1500 lats, lngs a piece\n",
    "lats = np.random.uniform(lat_range[0], lat_range[1], size=1500)\n",
    "lngs = np.random.uniform(lng_range[0], lng_range[1], size=1500)\n",
    "lat_lngs = zip(lats, lngs)"
   ]
  },
  {
   "cell_type": "code",
   "execution_count": 5,
   "metadata": {},
   "outputs": [
    {
     "data": {
      "text/plain": [
       "620"
      ]
     },
     "execution_count": 5,
     "metadata": {},
     "output_type": "execute_result"
    }
   ],
   "source": [
    "# Identify nearest city for each lat, lng combination\n",
    "for lat_lng in lat_lngs:\n",
    "    city = citipy.nearest_city(lat_lng[0], lat_lng[1]).city_name\n",
    "    \n",
    "    # If the city is unique, then add it to a our cities list\n",
    "    if city not in cities:\n",
    "        cities.append(city)\n",
    "\n",
    "# Print the city count to confirm sufficient count\n",
    "len(cities)"
   ]
  },
  {
   "cell_type": "markdown",
   "metadata": {},
   "source": [
    "### Perform API Calls\n",
    "* Perform a weather check on each city using a series of successive API calls.\n",
    "* Include a print log of each city as it'sbeing processed (with the city number and city name).\n"
   ]
  },
  {
   "cell_type": "code",
   "execution_count": 6,
   "metadata": {
    "scrolled": true
   },
   "outputs": [],
   "source": [
    "# the url info\n",
    "url = \"http://api.openweathermap.org/data/2.5/weather?\"\n",
    "units = \"metric\""
   ]
  },
  {
   "cell_type": "code",
   "execution_count": 7,
   "metadata": {},
   "outputs": [],
   "source": [
    "# url Query build\n",
    "Q_url = f\"{url}appid={weather_api_key}&units={units}&q=\"\n",
    "## url = f\"http://api.openweathermap.org/data/2.5/weather?units-imperial&APPID={weather_api_key}\""
   ]
  },
  {
   "cell_type": "code",
   "execution_count": 8,
   "metadata": {},
   "outputs": [
    {
     "name": "stdout",
     "output_type": "stream",
     "text": [
      "{\n",
      "      \"coord\": {\n",
      "            \"lon\": -155.09,\n",
      "            \"lat\": 19.7297\n",
      "      },\n",
      "      \"weather\": [\n",
      "            {\n",
      "                  \"id\": 800,\n",
      "                  \"main\": \"Clear\",\n",
      "                  \"description\": \"clear sky\",\n",
      "                  \"icon\": \"01d\"\n",
      "            }\n",
      "      ],\n",
      "      \"base\": \"stations\",\n",
      "      \"main\": {\n",
      "            \"temp\": 19.42,\n",
      "            \"feels_like\": 19.53,\n",
      "            \"temp_min\": 18.78,\n",
      "            \"temp_max\": 19.66,\n",
      "            \"pressure\": 1016,\n",
      "            \"humidity\": 81\n",
      "      },\n",
      "      \"visibility\": 10000,\n",
      "      \"wind\": {\n",
      "            \"speed\": 1.79,\n",
      "            \"deg\": 273,\n",
      "            \"gust\": 4.47\n",
      "      },\n",
      "      \"clouds\": {\n",
      "            \"all\": 2\n",
      "      },\n",
      "      \"dt\": 1644948098,\n",
      "      \"sys\": {\n",
      "            \"type\": 2,\n",
      "            \"id\": 2002460,\n",
      "            \"country\": \"US\",\n",
      "            \"sunrise\": 1644943757,\n",
      "            \"sunset\": 1644985195\n",
      "      },\n",
      "      \"timezone\": -36000,\n",
      "      \"id\": 5855927,\n",
      "      \"name\": \"Hilo\",\n",
      "      \"cod\": 200\n",
      "}\n"
     ]
    }
   ],
   "source": [
    "# Get city weather data\n",
    "weather_response = requests.get(Q_url + city)\n",
    "weather_json = weather_response.json()\n",
    "# converts a Python object into a json string-- dumps\n",
    "print(json.dumps(weather_json, indent=6))\n",
    "#print(weather_json)"
   ]
  },
  {
   "cell_type": "code",
   "execution_count": 9,
   "metadata": {},
   "outputs": [
    {
     "name": "stdout",
     "output_type": "stream",
     "text": [
      "<Response [200]>\n"
     ]
    }
   ],
   "source": [
    "# set empty for list of variables\n",
    "city_name = []\n",
    "latitude = []\n",
    "longitude = []\n",
    "temperature = []\n",
    "humidity = []\n",
    "cloudiness = []\n",
    "wind_speed = []\n",
    "country = []\n",
    "date = []\n",
    "\n",
    "# start record counting\n",
    "processing_record = 1 \n",
    "\n",
    "# check if responsw correct\n",
    "print(weather_response)\n",
    "#print(cities)"
   ]
  },
  {
   "cell_type": "code",
   "execution_count": 10,
   "metadata": {},
   "outputs": [
    {
     "name": "stdout",
     "output_type": "stream",
     "text": [
      "Beginning Data Retrieval      \n",
      "------------------------------\n",
      "Processing Record 1 | Nānākuli\n",
      "Processing Record 2 | Pevek\n",
      "Processing Record 3 | Rikitea\n",
      "Processing Record 4 | Gazli\n",
      "Processing Record 5 | Kapaa\n",
      "Processing Record 6 | Beringovskiy\n",
      "Processing Record 7 | High Level\n",
      "Processing Record 8 | Cabo San Lucas\n",
      "Processing Record 9 | Indianola\n",
      "Processing Record 10 | Butaritari\n",
      "Processing Record 11 | Jamestown\n",
      "Processing Record 12 | ‘Ewa Beach\n",
      "Processing Record 13 | Airai\n",
      "Processing Record 14 | Czarnków\n",
      "Processing Record 15 | Opuwo\n",
      "City not found. Skipping...\n",
      "City not found. Skipping...\n",
      "Processing Record 16 | Buraidah\n",
      "City not found. Skipping...\n",
      "Processing Record 17 | Kaitangata\n",
      "Processing Record 18 | New Norfolk\n",
      "Processing Record 19 | Bredasdorp\n",
      "Processing Record 20 | Mosetse\n",
      "Processing Record 21 | Hilo\n",
      "Processing Record 22 | Ushuaia\n",
      "Processing Record 23 | Bathsheba\n",
      "Processing Record 24 | Port Alfred\n",
      "Processing Record 25 | Kupang\n",
      "Processing Record 26 | Albany\n",
      "Processing Record 27 | Bandarbeyla\n",
      "Processing Record 28 | Sturgis\n",
      "Processing Record 29 | Hobart\n",
      "Processing Record 30 | Mahébourg\n",
      "Processing Record 31 | Pisco\n",
      "Processing Record 32 | Montepuez\n",
      "Processing Record 33 | Oruzgan\n",
      "Processing Record 34 | Alice Springs\n",
      "Processing Record 35 | Dingle\n",
      "Processing Record 36 | Bambous Virieux\n",
      "Processing Record 37 | Fort Nelson\n",
      "City not found. Skipping...\n",
      "Processing Record 38 | Baturaja\n",
      "Processing Record 39 | Mīrābād\n",
      "Processing Record 40 | Dilla\n",
      "Processing Record 41 | Praia da Vitória\n",
      "Processing Record 42 | Mpanda\n",
      "Processing Record 43 | Hualmay\n",
      "Processing Record 44 | Aranos\n",
      "Processing Record 45 | Sarangani\n",
      "Processing Record 46 | Lusambo\n",
      "Processing Record 47 | Busselton\n",
      "Processing Record 48 | Vaini\n",
      "Processing Record 49 | Coquimbo\n",
      "Processing Record 50 | Mēga\n",
      "Processing Record 51 | Honningsvåg\n",
      "Processing Record 52 | Villa María\n",
      "City not found. Skipping...\n",
      "Processing Record 53 | Punta Arenas\n",
      "Processing Record 54 | Hermanus\n",
      "Processing Record 55 | Bainbridge Island\n",
      "Processing Record 56 | Hibbing\n",
      "Processing Record 57 | Lebu\n",
      "Processing Record 58 | Lewisburg\n",
      "Processing Record 59 | Saskylakh\n",
      "Processing Record 60 | Joshīmath\n",
      "Processing Record 61 | Zyryanovsk\n",
      "Processing Record 62 | San Cristobal\n",
      "Processing Record 63 | Vestmannaeyjar\n",
      "Processing Record 64 | Dikson\n",
      "Processing Record 65 | Bluff\n",
      "Processing Record 66 | Gōtsuchō\n",
      "Processing Record 67 | Rudkøbing\n",
      "Processing Record 68 | Genhe\n",
      "Processing Record 69 | Puerto Ayora\n",
      "Processing Record 70 | Ixtapa\n",
      "Processing Record 71 | Hemsedal\n",
      "Processing Record 72 | Longyearbyen\n",
      "Processing Record 73 | Dormidontovka\n",
      "Processing Record 74 | Hong Kong\n",
      "City not found. Skipping...\n",
      "Processing Record 75 | Anloga\n",
      "City not found. Skipping...\n",
      "Processing Record 76 | Upernavik\n",
      "Processing Record 77 | Barrow\n",
      "Processing Record 78 | Turbat\n",
      "Processing Record 79 | Discovery Bay\n",
      "Processing Record 80 | Young\n",
      "Processing Record 81 | Yellowknife\n",
      "Processing Record 82 | Tiksi\n",
      "Processing Record 83 | Nikolskoye\n",
      "Processing Record 84 | Moranbah\n",
      "Processing Record 85 | Saint-Philippe\n",
      "Processing Record 86 | Saint Paul Harbor\n",
      "Processing Record 87 | Bengkulu\n",
      "Processing Record 88 | Mataura\n",
      "Processing Record 89 | Gamba\n",
      "Processing Record 90 | Klaksvík\n",
      "Processing Record 91 | Arraial do Cabo\n",
      "Processing Record 92 | Kangasala\n",
      "Processing Record 93 | Pyaozerskiy\n",
      "Processing Record 94 | Codrington\n",
      "Processing Record 95 | Chala\n",
      "Processing Record 96 | Camopi\n",
      "Processing Record 97 | Yulara\n",
      "Processing Record 98 | Wajid\n",
      "City not found. Skipping...\n",
      "Processing Record 99 | Atuona\n",
      "Processing Record 100 | Camaná\n",
      "Processing Record 101 | Bilibino\n",
      "Processing Record 102 | Lake Shasta\n",
      "Processing Record 103 | Newport\n",
      "Processing Record 104 | Ancud\n",
      "Processing Record 105 | Khovd\n",
      "Processing Record 106 | Coyhaique\n",
      "Processing Record 107 | Mandiana\n",
      "Processing Record 108 | Sur\n",
      "Processing Record 109 | Yeppoon\n",
      "Processing Record 110 | Soyaniquilpan\n",
      "Processing Record 111 | La Macarena\n",
      "Processing Record 112 | Kununurra\n",
      "Processing Record 113 | Abu Kamal\n",
      "City not found. Skipping...\n",
      "Processing Record 114 | Hirara\n",
      "Processing Record 115 | Avarua\n",
      "Processing Record 116 | Osoyoos\n",
      "Processing Record 117 | Belton\n",
      "City not found. Skipping...\n",
      "Processing Record 118 | Kanye\n",
      "Processing Record 119 | Fortuna\n",
      "Processing Record 120 | Rincon\n",
      "Processing Record 121 | Tasiilaq\n",
      "Processing Record 122 | Chokurdakh\n",
      "Processing Record 123 | Tucumã\n",
      "Processing Record 124 | Mehamn\n",
      "Processing Record 125 | Micheweni\n",
      "Processing Record 126 | Boende\n",
      "Processing Record 127 | Mount Isa\n",
      "Processing Record 128 | Portland\n",
      "City not found. Skipping...\n",
      "Processing Record 129 | East London\n",
      "Processing Record 130 | Puerto Ayacucho\n",
      "Processing Record 131 | Kattivākkam\n",
      "City not found. Skipping...\n",
      "Processing Record 132 | Labuhan\n",
      "Processing Record 133 | Kumul\n",
      "Processing Record 134 | Kyren\n",
      "Processing Record 135 | Carnarvon\n",
      "Processing Record 136 | Berlevåg\n",
      "Processing Record 137 | Kysyl-Syr\n",
      "Processing Record 138 | Panacan\n",
      "Processing Record 139 | Mar del Plata\n",
      "Processing Record 140 | Balaipungut\n",
      "Processing Record 141 | Morros\n",
      "Processing Record 142 | Katsuura\n",
      "Processing Record 143 | Agadez\n",
      "Processing Record 144 | Juneau\n",
      "Processing Record 145 | Oodweyne\n",
      "Processing Record 146 | Rauma\n",
      "City not found. Skipping...\n",
      "Processing Record 147 | Clyde River\n",
      "Processing Record 148 | Russell\n",
      "Processing Record 149 | Talnakh\n",
      "City not found. Skipping...\n",
      "Processing Record 150 | Taltal\n",
      "City not found. Skipping...\n",
      "Processing Record 151 | Muros\n",
      "City not found. Skipping...\n",
      "Processing Record 152 | Pedernales\n",
      "Processing Record 153 | George Town\n",
      "Processing Record 154 | Saldanha\n",
      "Processing Record 155 | Provideniya\n",
      "Processing Record 156 | Nuevo Progreso\n",
      "Processing Record 157 | Bambanglipuro\n",
      "Processing Record 158 | Saint George\n",
      "Processing Record 159 | Iqaluit\n",
      "Processing Record 160 | Puerto Barrios\n",
      "Processing Record 161 | Ribeira Grande\n",
      "Processing Record 162 | College\n",
      "City not found. Skipping...\n",
      "Processing Record 163 | Qaanaaq\n",
      "Processing Record 164 | Walvis Bay\n",
      "Processing Record 165 | Laguna\n",
      "Processing Record 166 | La Providencia\n",
      "Processing Record 167 | Bagan\n",
      "Processing Record 168 | Tunoshna\n",
      "Processing Record 169 | Tromsø\n",
      "Processing Record 170 | Geraldton\n",
      "City not found. Skipping...\n",
      "Processing Record 171 | Garoowe\n",
      "Processing Record 172 | Ninghai\n",
      "City not found. Skipping...\n",
      "Processing Record 173 | Iwanai\n",
      "Processing Record 174 | Tuktoyaktuk\n",
      "Processing Record 175 | Turbo\n",
      "Processing Record 176 | Shimoni\n",
      "Processing Record 177 | Bethel\n",
      "Processing Record 178 | Tacoronte\n",
      "Processing Record 179 | Mmabatho\n",
      "Processing Record 180 | Poronaysk\n",
      "Processing Record 181 | Saint-Pierre\n",
      "Processing Record 182 | Southern Pines\n",
      "Processing Record 183 | Leningradskiy\n",
      "Processing Record 184 | Port-Gentil\n",
      "Processing Record 185 | Nouadhibou\n",
      "Processing Record 186 | Salinópolis\n",
      "Processing Record 187 | Khatanga\n",
      "Processing Record 188 | Grand Gaube\n",
      "Processing Record 189 | Tevaitoa\n",
      "Processing Record 190 | Poum\n",
      "Processing Record 191 | Naples\n",
      "Processing Record 192 | Auki\n",
      "Processing Record 193 | Port Hardy\n",
      "Processing Record 194 | Pandrup\n",
      "Processing Record 195 | Salamanca\n",
      "Processing Record 196 | Vanimo\n",
      "Processing Record 197 | Leh\n",
      "Processing Record 198 | Bud\n",
      "Processing Record 199 | Baffa\n",
      "Processing Record 200 | Asău\n",
      "Processing Record 201 | Flin Flon\n",
      "Processing Record 202 | Uray\n",
      "Processing Record 203 | Wajima\n",
      "Processing Record 204 | Cape Town\n",
      "City not found. Skipping...\n",
      "Processing Record 205 | Anadyr\n",
      "City not found. Skipping...\n",
      "Processing Record 206 | Nanortalik\n",
      "Processing Record 207 | Huarmey\n",
      "Processing Record 208 | Cidreira\n",
      "Processing Record 209 | Colac\n",
      "Processing Record 210 | Kindu\n",
      "Processing Record 211 | Saposoa\n",
      "City not found. Skipping...\n",
      "Processing Record 212 | Hospet\n",
      "Processing Record 213 | Haines Junction\n",
      "Processing Record 214 | Avera\n",
      "Processing Record 215 | Ozernovskiy\n",
      "Processing Record 216 | Haimen\n",
      "Processing Record 217 | Udachny\n",
      "City not found. Skipping...\n",
      "City not found. Skipping...\n",
      "Processing Record 218 | Sinnamary\n",
      "Processing Record 219 | Adrar\n",
      "Processing Record 220 | Katobu\n",
      "Processing Record 221 | Forsytheganj\n",
      "Processing Record 222 | Porteirinha\n",
      "Processing Record 223 | Peniche\n",
      "Processing Record 224 | Port Elizabeth\n",
      "Processing Record 225 | Palmas Bellas\n",
      "Processing Record 226 | Constitución\n",
      "Processing Record 227 | Mizdah\n",
      "Processing Record 228 | Lucapa\n"
     ]
    },
    {
     "name": "stdout",
     "output_type": "stream",
     "text": [
      "Processing Record 229 | Cap-aux-Meules\n",
      "Processing Record 230 | Torbay\n",
      "Processing Record 231 | Rudnichnyy\n",
      "Processing Record 232 | Kuril'sk\n",
      "Processing Record 233 | Lake Havasu City\n",
      "Processing Record 234 | Castro\n",
      "Processing Record 235 | Nuuk\n",
      "Processing Record 236 | Tautira\n",
      "Processing Record 237 | Cayenne\n",
      "Processing Record 238 | Japura\n",
      "Processing Record 239 | Inhambane\n",
      "Processing Record 240 | Hasaki\n",
      "Processing Record 241 | Beloha\n",
      "Processing Record 242 | Mpophomeni\n",
      "Processing Record 243 | Maragogi\n",
      "City not found. Skipping...\n",
      "City not found. Skipping...\n",
      "City not found. Skipping...\n",
      "Processing Record 244 | Farafenni\n",
      "Processing Record 245 | Ankazoabo\n",
      "City not found. Skipping...\n",
      "Processing Record 246 | Fairbanks\n",
      "Processing Record 247 | Morgan City\n",
      "Processing Record 248 | Camacha\n",
      "Processing Record 249 | Shenjiamen\n",
      "Processing Record 250 | Diego de Almagro\n",
      "Processing Record 251 | Waipawa\n",
      "Processing Record 252 | Lavrentiya\n",
      "Processing Record 253 | Carauari\n",
      "Processing Record 254 | Biak\n",
      "Processing Record 255 | Hay River\n",
      "Processing Record 256 | Ada\n",
      "Processing Record 257 | Yumen\n",
      "Processing Record 258 | Antofagasta\n",
      "Processing Record 259 | Sept-Îles\n",
      "Processing Record 260 | Binzhou\n",
      "City not found. Skipping...\n",
      "Processing Record 261 | Tambura\n",
      "Processing Record 262 | Maromitsa\n",
      "Processing Record 263 | Hecun\n",
      "Processing Record 264 | Korla\n",
      "Processing Record 265 | Yuli\n",
      "Processing Record 266 | Hervey Bay\n",
      "Processing Record 267 | Sabaudia\n",
      "Processing Record 268 | Oussouye\n",
      "Processing Record 269 | Huron\n",
      "Processing Record 270 | Caravelas\n",
      "Processing Record 271 | Gornopravdinsk\n",
      "Processing Record 272 | Lorengau\n",
      "City not found. Skipping...\n",
      "Processing Record 273 | Nioro\n",
      "Processing Record 274 | Palmer\n",
      "Processing Record 275 | Bauchi\n",
      "Processing Record 276 | Kahului\n",
      "Processing Record 277 | Hat Yai\n",
      "Processing Record 278 | Burgeo\n",
      "Processing Record 279 | Mackenzie\n",
      "Processing Record 280 | Shache\n",
      "Processing Record 281 | Ulladulla\n",
      "Processing Record 282 | Lázaro Cárdenas\n",
      "Processing Record 283 | Wąbrzeźno\n",
      "City not found. Skipping...\n",
      "Processing Record 284 | Pimentel\n",
      "Processing Record 285 | Olafsvik\n",
      "Processing Record 286 | Madaoua\n",
      "Processing Record 287 | Assiut\n",
      "Processing Record 288 | Puerto Madero\n",
      "Processing Record 289 | Sevierville\n",
      "Processing Record 290 | Maan\n",
      "Processing Record 291 | Verkh-Usugli\n",
      "Processing Record 292 | Bilma\n",
      "Processing Record 293 | Port Lincoln\n",
      "Processing Record 294 | Sturgeon Bay\n",
      "Processing Record 295 | Phan Thiet\n",
      "Processing Record 296 | Hithadhoo\n",
      "Processing Record 297 | Sabang\n",
      "Processing Record 298 | Salimpur\n",
      "Processing Record 299 | Kavieng\n",
      "City not found. Skipping...\n",
      "Processing Record 300 | Manaure\n",
      "Processing Record 301 | San Rafael\n",
      "Processing Record 302 | Athabasca\n",
      "Processing Record 303 | Suleja\n",
      "Processing Record 304 | Yerbogachën\n",
      "Processing Record 305 | Beyneu\n",
      "Processing Record 306 | Vila Franca do Campo\n",
      "Processing Record 307 | Brawley\n",
      "Processing Record 308 | Chunskiy\n",
      "Processing Record 309 | Yar-Sale\n",
      "Processing Record 310 | Touros\n",
      "Processing Record 311 | Chui\n",
      "Processing Record 312 | Nadym\n",
      "Processing Record 313 | La Ronge\n",
      "Processing Record 314 | Araguaçu\n",
      "Processing Record 315 | Westport\n",
      "Processing Record 316 | Flinders\n",
      "Processing Record 317 | Rapid Valley\n",
      "Processing Record 318 | Tacuatí\n",
      "Processing Record 319 | San Jose\n",
      "Processing Record 320 | Susanville\n",
      "Processing Record 321 | Lukang\n",
      "Processing Record 322 | Machhlīshahr\n",
      "Processing Record 323 | Fukuechō\n",
      "Processing Record 324 | Berezovyy\n",
      "Processing Record 325 | Hamilton\n",
      "Processing Record 326 | São João da Barra\n",
      "Processing Record 327 | Severo-Kuril'sk\n",
      "Processing Record 328 | Horta\n",
      "Processing Record 329 | Qaqortoq\n",
      "Processing Record 330 | Santander\n",
      "Processing Record 331 | Maku\n",
      "Processing Record 332 | Nicolás Bravo\n",
      "Processing Record 333 | Yarkovo\n",
      "Processing Record 334 | Broken Hill\n",
      "Processing Record 335 | Mastic Beach\n",
      "Processing Record 336 | Comodoro Rivadavia\n",
      "Processing Record 337 | Lere\n",
      "City not found. Skipping...\n",
      "Processing Record 338 | Gamovo\n",
      "Processing Record 339 | Cockburn Town\n",
      "Processing Record 340 | Linhares\n",
      "Processing Record 341 | San Antonio\n",
      "Processing Record 342 | Liverpool\n",
      "Processing Record 343 | Sitka\n",
      "Processing Record 344 | Motomachi\n",
      "Processing Record 345 | Mizusawa\n",
      "Processing Record 346 | Ilulissat\n",
      "Processing Record 347 | Deputatsky\n",
      "Processing Record 348 | Kenai\n",
      "Processing Record 349 | San Patricio\n",
      "Processing Record 350 | Reconquista\n",
      "Processing Record 351 | Kadyy\n",
      "Processing Record 352 | Rocha\n",
      "Processing Record 353 | Creel\n",
      "Processing Record 354 | Yining\n",
      "Processing Record 355 | Tsiroanomandidy\n",
      "Processing Record 356 | Pajapan\n",
      "Processing Record 357 | Marsh Harbour\n",
      "Processing Record 358 | Kisangani\n",
      "Processing Record 359 | Waingapu\n",
      "Processing Record 360 | Turmalina\n",
      "Processing Record 361 | Ariquemes\n",
      "Processing Record 362 | Los Llanos de Aridane\n",
      "Processing Record 363 | Honiara\n",
      "Processing Record 364 | Narsaq\n",
      "Processing Record 365 | Rognan\n",
      "Processing Record 366 | Ponta do Sol\n",
      "Processing Record 367 | Aquiraz\n",
      "City not found. Skipping...\n",
      "Processing Record 368 | Derzhavīnsk\n",
      "Processing Record 369 | Lufilufi\n",
      "Processing Record 370 | Kargasok\n",
      "Processing Record 371 | Havre-St-Pierre\n",
      "Processing Record 372 | Khowai\n",
      "Processing Record 373 | Buritis\n",
      "Processing Record 374 | Mogok\n",
      "Processing Record 375 | Alenquer\n",
      "Processing Record 376 | Oberndorf\n",
      "City not found. Skipping...\n",
      "Processing Record 377 | Acajutla\n",
      "Processing Record 378 | Nishihara\n",
      "Processing Record 379 | Jalu\n",
      "City not found. Skipping...\n",
      "Processing Record 380 | Kaputa\n",
      "Processing Record 381 | Alexandria\n",
      "Processing Record 382 | Ahipara\n",
      "Processing Record 383 | Guane\n",
      "Processing Record 384 | Inta\n",
      "Processing Record 385 | Catuday\n",
      "Processing Record 386 | Glarus\n",
      "Processing Record 387 | Quatre Cocos\n",
      "Processing Record 388 | Viedma\n",
      "Processing Record 389 | Nipawin\n",
      "Processing Record 390 | Esperance\n",
      "Processing Record 391 | Alofi\n",
      "Processing Record 392 | Peruíbe\n",
      "Processing Record 393 | Faya\n",
      "Processing Record 394 | Antalaha\n",
      "Processing Record 395 | Porto Velho\n",
      "Processing Record 396 | Salta\n",
      "Processing Record 397 | Aklavik\n",
      "Processing Record 398 | Pryazha\n",
      "Processing Record 399 | Cherskiy\n",
      "Processing Record 400 | Gazi\n",
      "City not found. Skipping...\n",
      "Processing Record 401 | Angoche\n",
      "Processing Record 402 | Willowmore\n",
      "Processing Record 403 | Orlovskiy\n",
      "City not found. Skipping...\n",
      "Processing Record 404 | Aginskoye\n",
      "Processing Record 405 | Islamabad\n",
      "Processing Record 406 | Gwadar\n",
      "Processing Record 407 | Hofn\n",
      "Processing Record 408 | Thompson\n",
      "Processing Record 409 | Neiafu\n",
      "Processing Record 410 | Buala\n",
      "Processing Record 411 | Knysna\n",
      "Processing Record 412 | Muzaffarabad\n",
      "City not found. Skipping...\n",
      "Processing Record 413 | Den Helder\n",
      "City not found. Skipping...\n",
      "Processing Record 414 | Marzuq\n",
      "Processing Record 415 | Harper\n",
      "City not found. Skipping...\n",
      "Processing Record 416 | Aberdeen\n",
      "Processing Record 417 | Assiniboia\n",
      "City not found. Skipping...\n",
      "Processing Record 418 | Naze\n",
      "City not found. Skipping...\n",
      "City not found. Skipping...\n",
      "City not found. Skipping...\n",
      "City not found. Skipping...\n",
      "Processing Record 419 | Faanui\n",
      "Processing Record 420 | Salalah\n",
      "City not found. Skipping...\n",
      "Processing Record 421 | Cabedelo\n",
      "Processing Record 422 | Jardim\n",
      "Processing Record 423 | Thinadhoo\n",
      "Processing Record 424 | Khandyga\n",
      "Processing Record 425 | Makushino\n",
      "City not found. Skipping...\n",
      "Processing Record 426 | Afuá\n",
      "Processing Record 427 | Shubarshi\n",
      "City not found. Skipping...\n",
      "Processing Record 428 | Aksu\n",
      "Processing Record 429 | Petropavlovsk-Kamchatskiy\n",
      "Processing Record 430 | Wakkanai\n",
      "Processing Record 431 | Soria\n",
      "Processing Record 432 | Banda Aceh\n",
      "Processing Record 433 | Mumford\n",
      "Processing Record 434 | Nyagan\n",
      "Processing Record 435 | Tyumentsevo\n",
      "Processing Record 436 | Lompoc\n",
      "Processing Record 437 | Sørland\n",
      "Processing Record 438 | Manadhoo\n",
      "City not found. Skipping...\n",
      "Processing Record 439 | Campos do Jordão\n",
      "Processing Record 440 | Launceston\n",
      "Processing Record 441 | Acapulco de Juárez\n",
      "Processing Record 442 | Bayevo\n",
      "Processing Record 443 | Malynivka\n",
      "Processing Record 444 | Changji\n",
      "City not found. Skipping...\n",
      "Processing Record 445 | Aykhal\n",
      "Processing Record 446 | Madimba\n",
      "Processing Record 447 | Pristina\n",
      "Processing Record 448 | Tuatapere\n",
      "Processing Record 449 | Trat\n",
      "Processing Record 450 | Payson\n",
      "Processing Record 451 | Zhigansk\n",
      "Processing Record 452 | Erenhot\n"
     ]
    },
    {
     "name": "stdout",
     "output_type": "stream",
     "text": [
      "Processing Record 453 | Yangi Marg`ilon\n",
      "Processing Record 454 | Laï\n",
      "Processing Record 455 | Margate\n",
      "City not found. Skipping...\n",
      "Processing Record 456 | Niigata\n",
      "City not found. Skipping...\n",
      "Processing Record 457 | Victor Harbor\n",
      "Processing Record 458 | Sobolevo\n",
      "Processing Record 459 | Mount Gambier\n",
      "Processing Record 460 | Numan\n",
      "Processing Record 461 | Basco\n",
      "Processing Record 462 | Kristoni\n",
      "City not found. Skipping...\n",
      "Processing Record 463 | Buta\n",
      "Processing Record 464 | Barra de Tecoanapa\n",
      "Processing Record 465 | Souillac\n",
      "Processing Record 466 | Aksarayskiy\n",
      "Processing Record 467 | Pakxan\n",
      "Processing Record 468 | Saint Anthony\n",
      "Processing Record 469 | Padang\n",
      "Processing Record 470 | Morondava\n",
      "City not found. Skipping...\n",
      "Processing Record 471 | Zelenogorskiy\n",
      "Processing Record 472 | Ilhabela\n",
      "Processing Record 473 | Olinda\n",
      "City not found. Skipping...\n",
      "Processing Record 474 | Boa Vista\n",
      "City not found. Skipping...\n",
      "Processing Record 475 | Juradó\n",
      "Processing Record 476 | Pauini\n",
      "Processing Record 477 | Cervo\n",
      "Processing Record 478 | Kathu\n",
      "Processing Record 479 | Kahama\n",
      "Processing Record 480 | Thunder Bay\n",
      "Processing Record 481 | Katangli\n",
      "Processing Record 482 | Mahajanga\n",
      "Processing Record 483 | Guerrero Negro\n",
      "Processing Record 484 | Copainalá\n",
      "Processing Record 485 | Pulandian\n",
      "Processing Record 486 | Lagoa\n",
      "City not found. Skipping...\n",
      "Processing Record 487 | Paamiut\n",
      "Processing Record 488 | Bubaque\n",
      "Processing Record 489 | Tecpan\n",
      "Processing Record 490 | Plainview\n",
      "Processing Record 491 | Sesto Fiorentino\n",
      "Processing Record 492 | Usinsk\n",
      "Processing Record 493 | Kavaratti\n",
      "Processing Record 494 | Santo Antônio do Sudoeste\n",
      "Processing Record 495 | Takoradze\n",
      "Processing Record 496 | Eureka\n",
      "Processing Record 497 | Nyurba\n",
      "Processing Record 498 | Rawson\n",
      "Processing Record 499 | Pemberton\n",
      "Processing Record 500 | Terbuny\n",
      "Processing Record 501 | Samarai\n",
      "Processing Record 502 | Wailuku\n",
      "Processing Record 503 | Ishigaki\n",
      "Processing Record 504 | Puerto Carreño\n",
      "Processing Record 505 | Vao\n",
      "Processing Record 506 | Pangnirtung\n",
      "Processing Record 507 | Davila\n",
      "Processing Record 508 | Coahuayana Viejo\n",
      "Processing Record 509 | Tutóia\n",
      "City not found. Skipping...\n",
      "Processing Record 510 | Mossamedes\n",
      "Processing Record 511 | Muhafazat Lahij\n",
      "Processing Record 512 | Ndélé\n",
      "Processing Record 513 | Chapais\n",
      "Processing Record 514 | Bantry\n",
      "Processing Record 515 | Gomel\n",
      "Processing Record 516 | Sungai Penuh\n",
      "Processing Record 517 | Nemuro\n",
      "Processing Record 518 | Shar\n",
      "Processing Record 519 | Verkhnevilyuysk\n",
      "Processing Record 520 | Millinocket\n",
      "Processing Record 521 | Ouango\n",
      "Processing Record 522 | Santa Leopoldina\n",
      "Processing Record 523 | Zhangaözen\n",
      "Processing Record 524 | Jaumave\n",
      "Processing Record 525 | Tālbahat\n",
      "Processing Record 526 | Amapá\n",
      "Processing Record 527 | Malakal\n",
      "Processing Record 528 | Husavik\n",
      "Processing Record 529 | Cam Ranh\n",
      "Processing Record 530 | Port Hedland\n",
      "Processing Record 531 | Soto la Marina\n",
      "Processing Record 532 | Fundão\n",
      "City not found. Skipping...\n",
      "Processing Record 533 | La Serena\n",
      "Processing Record 534 | Lhokseumawe\n",
      "Processing Record 535 | Carutapera\n",
      "Processing Record 536 | Khāsh\n",
      "Processing Record 537 | Porkhov\n",
      "Processing Record 538 | Blackfoot\n",
      "Processing Record 539 | Karakol\n",
      "Processing Record 540 | Lata\n",
      "Processing Record 541 | Grants Pass\n",
      "Processing Record 542 | Necochea\n",
      "City not found. Skipping...\n",
      "Processing Record 543 | Daye\n",
      "Processing Record 544 | Hambantota\n",
      "Processing Record 545 | Seydi\n",
      "Processing Record 546 | Te Anau\n",
      "Processing Record 547 | Jumla\n",
      "Processing Record 548 | Ambulu\n",
      "Processing Record 549 | Trairi\n",
      "Processing Record 550 | Karak\n",
      "Processing Record 551 | Jacareacanga\n",
      "Processing Record 552 | Dickinson\n",
      "Processing Record 553 | Tokur\n",
      "Processing Record 554 | Ambo\n",
      "Processing Record 555 | Hagersville\n",
      "Processing Record 556 | Half Moon Bay\n",
      "Processing Record 557 | Lüderitz\n",
      "Processing Record 558 | Lahad Datu\n",
      "Processing Record 559 | San Roque\n",
      "------------------------------\n",
      "Data Retrieval Complete!!    \n",
      "------------------------------\n"
     ]
    }
   ],
   "source": [
    "# data retrive process start\n",
    "\n",
    "# print to logger\n",
    "print(f\"Beginning Data Retrieval      \")\n",
    "print(f\"------------------------------\")\n",
    "\n",
    "# Loop through each city\n",
    "for city in cities:\n",
    "    \n",
    "    # try to get the response for each city\n",
    "    try:\n",
    "        #run API requests and retrive the data\n",
    "        response = requests.get(Q_url + city).json()\n",
    "        \n",
    "        ## add a time delay to avoid blowing out the API key\n",
    "        #time.sleep(1)\n",
    "        \n",
    "        city_name.append(response[\"name\"])\n",
    "        latitude.append(response[\"coord\"][\"lat\"])\n",
    "        longitude.append(response[\"coord\"][\"lon\"])\n",
    "        temperature.append(response[\"main\"][\"temp\"])\n",
    "        humidity.append(response[\"main\"][\"humidity\"])\n",
    "        cloudiness.append(response[\"clouds\"][\"all\"])\n",
    "        wind_speed.append(response[\"wind\"][\"speed\"])\n",
    "        country.append(response[\"sys\"][\"country\"])\n",
    "        date.append(response[\"dt\"])\n",
    "        city_record = response[\"name\"]\n",
    "        print(f\"Processing Record {processing_record} | {city_record}\")\n",
    "        \n",
    "        # increase record counting by 1\n",
    "        processing_record += 1\n",
    "        \n",
    "    except:\n",
    "        print(\"City not found. Skipping...\") \n",
    "    pass\n",
    "\n",
    "print(f\"------------------------------\")\n",
    "print(f\"Data Retrieval Complete!!    \")\n",
    "print(f\"------------------------------\")"
   ]
  },
  {
   "cell_type": "markdown",
   "metadata": {},
   "source": [
    "### Convert Raw Data to DataFrame\n",
    "* Export the city data into a .csv.\n",
    "* Display the DataFrame"
   ]
  },
  {
   "cell_type": "code",
   "execution_count": 11,
   "metadata": {},
   "outputs": [
    {
     "data": {
      "text/html": [
       "<div>\n",
       "<style scoped>\n",
       "    .dataframe tbody tr th:only-of-type {\n",
       "        vertical-align: middle;\n",
       "    }\n",
       "\n",
       "    .dataframe tbody tr th {\n",
       "        vertical-align: top;\n",
       "    }\n",
       "\n",
       "    .dataframe thead th {\n",
       "        text-align: right;\n",
       "    }\n",
       "</style>\n",
       "<table border=\"1\" class=\"dataframe\">\n",
       "  <thead>\n",
       "    <tr style=\"text-align: right;\">\n",
       "      <th></th>\n",
       "      <th>City</th>\n",
       "      <th>Latitude</th>\n",
       "      <th>Longitude</th>\n",
       "      <th>Temp</th>\n",
       "      <th>Humidity</th>\n",
       "      <th>Cloudiness</th>\n",
       "      <th>Wind Speed</th>\n",
       "      <th>Country</th>\n",
       "      <th>Date</th>\n",
       "    </tr>\n",
       "  </thead>\n",
       "  <tbody>\n",
       "    <tr>\n",
       "      <th>0</th>\n",
       "      <td>Nānākuli</td>\n",
       "      <td>21.3906</td>\n",
       "      <td>-158.1547</td>\n",
       "      <td>18.53</td>\n",
       "      <td>88</td>\n",
       "      <td>40</td>\n",
       "      <td>1.54</td>\n",
       "      <td>US</td>\n",
       "      <td>1644948098</td>\n",
       "    </tr>\n",
       "    <tr>\n",
       "      <th>1</th>\n",
       "      <td>Pevek</td>\n",
       "      <td>69.7008</td>\n",
       "      <td>170.3133</td>\n",
       "      <td>-30.13</td>\n",
       "      <td>99</td>\n",
       "      <td>100</td>\n",
       "      <td>1.76</td>\n",
       "      <td>RU</td>\n",
       "      <td>1644948099</td>\n",
       "    </tr>\n",
       "    <tr>\n",
       "      <th>2</th>\n",
       "      <td>Rikitea</td>\n",
       "      <td>-23.1203</td>\n",
       "      <td>-134.9692</td>\n",
       "      <td>25.52</td>\n",
       "      <td>65</td>\n",
       "      <td>37</td>\n",
       "      <td>2.41</td>\n",
       "      <td>PF</td>\n",
       "      <td>1644947808</td>\n",
       "    </tr>\n",
       "    <tr>\n",
       "      <th>3</th>\n",
       "      <td>Gazli</td>\n",
       "      <td>40.1333</td>\n",
       "      <td>63.4500</td>\n",
       "      <td>1.35</td>\n",
       "      <td>53</td>\n",
       "      <td>50</td>\n",
       "      <td>5.13</td>\n",
       "      <td>UZ</td>\n",
       "      <td>1644948099</td>\n",
       "    </tr>\n",
       "    <tr>\n",
       "      <th>4</th>\n",
       "      <td>Kapaa</td>\n",
       "      <td>22.0752</td>\n",
       "      <td>-159.3190</td>\n",
       "      <td>20.66</td>\n",
       "      <td>99</td>\n",
       "      <td>78</td>\n",
       "      <td>2.75</td>\n",
       "      <td>US</td>\n",
       "      <td>1644948099</td>\n",
       "    </tr>\n",
       "  </tbody>\n",
       "</table>\n",
       "</div>"
      ],
      "text/plain": [
       "       City  Latitude  Longitude   Temp  Humidity  Cloudiness  Wind Speed  \\\n",
       "0  Nānākuli   21.3906  -158.1547  18.53        88          40        1.54   \n",
       "1     Pevek   69.7008   170.3133 -30.13        99         100        1.76   \n",
       "2   Rikitea  -23.1203  -134.9692  25.52        65          37        2.41   \n",
       "3     Gazli   40.1333    63.4500   1.35        53          50        5.13   \n",
       "4     Kapaa   22.0752  -159.3190  20.66        99          78        2.75   \n",
       "\n",
       "  Country        Date  \n",
       "0      US  1644948098  \n",
       "1      RU  1644948099  \n",
       "2      PF  1644947808  \n",
       "3      UZ  1644948099  \n",
       "4      US  1644948099  "
      ]
     },
     "execution_count": 11,
     "metadata": {},
     "output_type": "execute_result"
    }
   ],
   "source": [
    "# define dataframe then display\n",
    "weather_data = {\n",
    "    \"City\": city_name,\n",
    "    \"Latitude\": latitude,\n",
    "    \"Longitude\": longitude,\n",
    "    \"Temp\": temperature,\n",
    "    \"Humidity\": humidity,\n",
    "    \"Cloudiness\": cloudiness,\n",
    "    \"Wind Speed\": wind_speed,\n",
    "    \"Country\": country,\n",
    "    \"Date\": date\n",
    "}\n",
    "weatherDF = pd.DataFrame(weather_data)\n",
    "\n",
    "weatherDF.head()"
   ]
  },
  {
   "cell_type": "code",
   "execution_count": 12,
   "metadata": {},
   "outputs": [],
   "source": [
    "# export data to CSV file\n",
    "weatherDF.to_csv(\"Weather_Output.csv\")"
   ]
  },
  {
   "cell_type": "markdown",
   "metadata": {},
   "source": [
    "## Inspect the data and remove the cities where the humidity > 100%.\n",
    "----\n",
    "Skip this step if there are no cities that have humidity > 100%. "
   ]
  },
  {
   "cell_type": "code",
   "execution_count": 13,
   "metadata": {},
   "outputs": [],
   "source": [
    "#Lat\tLng\tMax Temp\tHumidity\tCloudiness\tWind Speed\tDate\n",
    "# count\t550.000000\t550.000000\t550.000000\t550.000000\t550.000000\t550.000000\t5.500000e+02"
   ]
  },
  {
   "cell_type": "code",
   "execution_count": 14,
   "metadata": {},
   "outputs": [],
   "source": [
    "# Get the indices of cities that have humidity over 100%.\n",
    "# Int64Index([], dtype='int64')"
   ]
  },
  {
   "cell_type": "code",
   "execution_count": 15,
   "metadata": {},
   "outputs": [],
   "source": [
    "# Make a new DataFrame equal to the city data to drop all humidity outliers by index.\n",
    "# Passing \"inplace=False\" will make a copy of the city_data DataFrame, which we call \"clean_city_data\".\n",
    "# City\tLat\tLng\tMax Temp\tHumidity\tCloudiness\tWind Speed\tCountry\tDate\n",
    "# 0\tbutaritari\t3.07\t172.79\t83.32\t74\t84\t10.42\tKI\t1593605283"
   ]
  },
  {
   "cell_type": "code",
   "execution_count": null,
   "metadata": {},
   "outputs": [],
   "source": []
  },
  {
   "cell_type": "markdown",
   "metadata": {},
   "source": [
    "## Plotting the Data\n",
    "* Use proper labeling of the plots using plot titles (including date of analysis) and axes labels.\n",
    "* Save the plotted figures as .pngs."
   ]
  },
  {
   "cell_type": "code",
   "execution_count": 16,
   "metadata": {},
   "outputs": [],
   "source": [
    "## Create a series of scatter plots to showcase the following relationships:\n",
    "#  Temperature (F) vs. Latitude\n",
    "#  Humidity (%) vs. Latitude\n",
    "#  Cloudiness (%) vs. Latitude\n",
    "#  Wind Speed (mph) vs. Latitude"
   ]
  },
  {
   "cell_type": "code",
   "execution_count": 17,
   "metadata": {},
   "outputs": [],
   "source": [
    "## Save plot to the selected directory. If the directory does not exist, it is created.\n",
    "\n",
    "#import os\n",
    "#import matplotlib.pyplot as plt\n",
    "\n",
    "#script_dir = os.path.dirname(__file__)\n",
    "#results_dir = os.path.join(script_dir, 'Results/')\n",
    "#plot_file_name = \"CityLatitude_vs_Temperature\"\n",
    "\n",
    "#if not os.path.isdir(results_dir):\n",
    "#    os.makedirs(results_dir)\n",
    "\n",
    "#plt.plot([1,2,3,4])\n",
    "#plt.ylabel('some numbers')\n",
    "#plt.savefig(results_dir + sample_file_name)"
   ]
  },
  {
   "cell_type": "markdown",
   "metadata": {},
   "source": [
    "## Latitude vs. Temperature Plot"
   ]
  },
  {
   "cell_type": "code",
   "execution_count": 18,
   "metadata": {
    "scrolled": true
   },
   "outputs": [
    {
     "data": {
      "image/png": "[encoded data removed]",
      "text/plain": [
       "<Figure size 432x288 with 1 Axes>"
      ]
     },
     "metadata": {
      "needs_background": "light"
     },
     "output_type": "display_data"
    },
    {
     "name": "stdout",
     "output_type": "stream",
     "text": [
      "\u001b[1mThe relationship between City Latitude and Temperature shows as the scatter plot above. \n",
      "\n",
      "All latitude lines are parallel from East to West as circles to the equator, \n",
      "Temperature is inversely related to latitude.  \n",
      "As latitude increases, the temperature falls, and vice versa. \n",
      "\u001b[0m\n"
     ]
    },
    {
     "data": {
      "text/plain": [
       "<Figure size 432x288 with 0 Axes>"
      ]
     },
     "metadata": {},
     "output_type": "display_data"
    }
   ],
   "source": [
    "# Create a scatter plot for Temperature (F) vs. Latitude\n",
    "plt.scatter(weatherDF['Latitude'], weatherDF[\"Temp\"], facecolors = \"darkblue\", edgecolor =\"white\", marker=\"o\")\n",
    "\n",
    "plt.xlabel(\"Latitude\")\n",
    "plt.ylabel(\"Max Temperature (F)\")\n",
    "plt.title(\"City Latitude vs. Max Temperature (01/23/2022)\")\n",
    "\n",
    "plt.grid()\n",
    "plt.show()\n",
    "\n",
    "# bold print '\\033[1m'+ words +'\\033[0m'\n",
    "print('\\033[1m' +\"The relationship between City Latitude and Temperature shows as the scatter plot above. \\n\" \n",
    "      \"\\n\"\n",
    "      \"All latitude lines are parallel from East to West as circles to the equator, \\n\"\n",
    "      \"Temperature is inversely related to latitude.  \\n\"\n",
    "      \"As latitude increases, the temperature falls, and vice versa. \\n\"+'\\033[0m')\n",
    "\n",
    "# save plot as png file\n",
    "plt.savefig(\"CityLatitude_vs_Temp.png\")"
   ]
  },
  {
   "cell_type": "markdown",
   "metadata": {},
   "source": [
    "## Latitude vs. Humidity Plot"
   ]
  },
  {
   "cell_type": "code",
   "execution_count": 19,
   "metadata": {},
   "outputs": [
    {
     "data": {
      "image/png": "[encoded data removed]",
      "text/plain": [
       "<Figure size 432x288 with 1 Axes>"
      ]
     },
     "metadata": {
      "needs_background": "light"
     },
     "output_type": "display_data"
    },
    {
     "name": "stdout",
     "output_type": "stream",
     "text": [
      "\u001b[1mThe relationship between City Latitude and Humidity shows as the scatter plot above. \n",
      "Since the humidity also meansures water vapor in the air, warm air can possess more water vapor (moisture)\n",
      "then cold air, air will have a higher relative humidity if the air is cooler. The cities with higer Latitude \n",
      "will be moisture with the same amount of absolute/specific humidity, then the cities with lower latitude.\n",
      "\u001b[0m\n"
     ]
    },
    {
     "data": {
      "text/plain": [
       "<Figure size 432x288 with 0 Axes>"
      ]
     },
     "metadata": {},
     "output_type": "display_data"
    }
   ],
   "source": [
    "# Create a scatter plot for Humidity (%) vs. Latitude\n",
    "\n",
    "plt.scatter(weatherDF[\"Latitude\"], weatherDF[\"Humidity\"], facecolors = \"darkblue\", edgecolor =\"white\", marker=\"1\")\n",
    "\n",
    "plt.xlabel(\"Latitude\")\n",
    "plt.ylabel(\"Humidity (%)\")\n",
    "plt.title(\"City Latitude vs. Humidity (%) (01/23/2022)\")\n",
    "\n",
    "plt.grid()\n",
    "plt.show()\n",
    "\n",
    "# bold print '\\033[1m'+ words +'\\033[0m'\n",
    "print('\\033[1m' +\"The relationship between City Latitude and Humidity shows as the scatter plot above. \\n\" \n",
    "      \"Since the humidity also meansures water vapor in the air, warm air can possess more water vapor (moisture)\\n\"\n",
    "      \"then cold air, air will have a higher relative humidity if the air is cooler. The cities with higer Latitude \\n\"\n",
    "      \"will be moisture with the same amount of absolute/specific humidity, then the cities with lower latitude.\\n\"\n",
    "      +'\\033[0m')\n",
    "\n",
    "# save plot as png file\n",
    "plt.savefig(\"CityLatitude_vs_Humidity.png\")"
   ]
  },
  {
   "cell_type": "markdown",
   "metadata": {},
   "source": [
    "## Latitude vs. Cloudiness Plot"
   ]
  },
  {
   "cell_type": "code",
   "execution_count": 20,
   "metadata": {},
   "outputs": [
    {
     "data": {
      "image/png": "[encoded data removed]",
      "text/plain": [
       "<Figure size 432x288 with 1 Axes>"
      ]
     },
     "metadata": {
      "needs_background": "light"
     },
     "output_type": "display_data"
    },
    {
     "name": "stdout",
     "output_type": "stream",
     "text": [
      "\u001b[1mThe relationship between City Latitude and Cloudiness (%) shows as the scatter plot above. \n",
      "Clouds tend to form in abundance in the middle latitudes to north and south of the equator.\n",
      "There are three broad bands where Earth’s skies are most likely to be cloudy. \n",
      "\u001b[0m\n"
     ]
    },
    {
     "data": {
      "text/plain": [
       "<Figure size 432x288 with 0 Axes>"
      ]
     },
     "metadata": {},
     "output_type": "display_data"
    }
   ],
   "source": [
    "# Create a scatter plot for Cloudiness (%) vs. Latitude\n",
    "\n",
    "plt.scatter(weatherDF[\"Latitude\"], weatherDF[\"Cloudiness\"], facecolors = \"darkblue\", edgecolor =\"white\", marker=\"o\")\n",
    "\n",
    "plt.xlabel(\"Latitude\")\n",
    "plt.ylabel(\"Cloudiness (%)\")\n",
    "plt.title(\"City Latitude vs. Cloudiness (%)   (01/23/2022)\")\n",
    "\n",
    "plt.grid()\n",
    "plt.show()\n",
    "\n",
    "# bold print '\\033[1m'+ words +'\\033[0m'\n",
    "print('\\033[1m' +\n",
    "      \"The relationship between City Latitude and Cloudiness (%) shows as the scatter plot above. \\n\" \n",
    "      \"Clouds tend to form in abundance in the middle latitudes to north and south of the equator.\\n\"\n",
    "      \"There are three broad bands where Earth’s skies are most likely to be cloudy. \\n\"\n",
    "      +'\\033[0m')\n",
    "\n",
    "# save plot as png file\n",
    "plt.savefig(\"CityLatitude_vs_Cloudiness.png\")"
   ]
  },
  {
   "cell_type": "markdown",
   "metadata": {},
   "source": [
    "## Latitude vs. Wind Speed Plot"
   ]
  },
  {
   "cell_type": "code",
   "execution_count": 21,
   "metadata": {},
   "outputs": [
    {
     "data": {
      "image/png": "[encoded data removed]",
      "text/plain": [
       "<Figure size 432x288 with 1 Axes>"
      ]
     },
     "metadata": {
      "needs_background": "light"
     },
     "output_type": "display_data"
    },
    {
     "name": "stdout",
     "output_type": "stream",
     "text": [
      "\u001b[1mThe relationship between City Latitude and Wind Speed (mph) shows as the scatter plot above. \n",
      "the speed of wind is determined by the magnitude of the air pressure difference make the air move \n",
      "from high pressure to low.  with greater speeds resulting from greater air pressure differences.\n",
      "Observations show that the wind speed increases equatorward in low latitudes while the wind speed decreases. \n",
      "\u001b[0m\n"
     ]
    },
    {
     "data": {
      "text/plain": [
       "<Figure size 432x288 with 0 Axes>"
      ]
     },
     "metadata": {},
     "output_type": "display_data"
    }
   ],
   "source": [
    "#Create a scatter plot for Wind Speed (mph) vs. Latitude\n",
    "\n",
    "plt.scatter(weatherDF[\"Latitude\"], weatherDF[\"Wind Speed\"], facecolors = \"darkblue\", edgecolor =\"white\", marker=\"o\")\n",
    "\n",
    "plt.xlabel(\"Latitude\")\n",
    "plt.ylabel(\"Wind Speed (mph)\")\n",
    "plt.title(\"City Latitude vs. Wind Speed (mph)   (01/23/2022)\")\n",
    "\n",
    "plt.grid()\n",
    "plt.show()\n",
    "\n",
    "# bold print '\\033[1m'+ words +'\\033[0m'\n",
    "print('\\033[1m' +\n",
    "      \"The relationship between City Latitude and Wind Speed (mph) shows as the scatter plot above. \\n\" \n",
    "      \"the speed of wind is determined by the magnitude of the air pressure difference make the air move \\n\"\n",
    "      \"from high pressure to low.  with greater speeds resulting from greater air pressure differences.\\n\"\n",
    "      \"Observations show that the wind speed increases equatorward in low latitudes while the wind speed decreases. \\n\"\n",
    "      +'\\033[0m')\n",
    "\n",
    "# save plot as png file\n",
    "plt.savefig(\"CityLatitude_vs_WindSpeed.png\")"
   ]
  },
  {
   "cell_type": "markdown",
   "metadata": {},
   "source": [
    "## Linear Regression"
   ]
  },
  {
   "cell_type": "code",
   "execution_count": 22,
   "metadata": {},
   "outputs": [],
   "source": [
    "# Separate the plots into Northern Hemisphere (>=0 degrees latitude) and Southern Hemisphere (<0 degrees latitude):\n",
    "\n",
    "#Northern Hemisphere - Temperature (F) vs. Latitude\n",
    "#Southern Hemisphere - Temperature (F) vs. Latitude\n",
    "#Northern Hemisphere - Humidity (%) vs. Latitude\n",
    "#Southern Hemisphere - Humidity (%) vs. Latitude\n",
    "#Northern Hemisphere - Cloudiness (%) vs. Latitude\n",
    "#Southern Hemisphere - Cloudiness (%) vs. Latitude\n",
    "#Northern Hemisphere - Wind Speed (mph) vs. Latitude\n",
    "#Southern Hemisphere - Wind Speed (mph) vs. Latitude\n",
    "\n",
    "# explain what the linear regression is modeling. Describe any relationships and any other analysis\n",
    "\n",
    "#final notebook must:\n",
    "# Randomly select at least 500 unique (non-repeat) cities based on latitude and longitude.\n",
    "# Perform a weather check on each of the cities using a series of successive API calls.\n",
    "# Include a print log of each city as it's being processed with the city number and city name.\n",
    "# Save a CSV of all retrieved data and a PNG image for each scatter plot."
   ]
  },
  {
   "cell_type": "markdown",
   "metadata": {},
   "source": [
    "####  Northern Hemisphere - Max Temp vs. Latitude Linear Regression"
   ]
  },
  {
   "cell_type": "code",
   "execution_count": 23,
   "metadata": {},
   "outputs": [
    {
     "data": {
      "image/png": "[encoded data removed]",
      "text/plain": [
       "<Figure size 432x288 with 1 Axes>"
      ]
     },
     "metadata": {
      "needs_background": "light"
     },
     "output_type": "display_data"
    }
   ],
   "source": [
    "# create dataframe for northern hemisphere\n",
    "N_hemisphere = weatherDF.loc[weatherDF[\"Latitude\"] >= 0]\n",
    "\n",
    "# Create a scatter plot for latitude vs temperature for northern hemisphere\n",
    "x_values = N_hemisphere[\"Latitude\"]\n",
    "y_values = N_hemisphere[\"Temp\"]\n",
    "plt.scatter(x_values, y_values, facecolors=\"darkblue\", marker=\"o\", edgecolor=\"white\")\n",
    "plt.xlabel('Latitude')\n",
    "plt.ylabel('Temperature (F)')\n",
    "plt.title(\"Nothern Hemisphere - City Latitude vs. Max Temperature (01/23/2022)\")\n",
    "\n",
    "plt.grid()\n",
    "plt.show()"
   ]
  },
  {
   "cell_type": "code",
   "execution_count": 24,
   "metadata": {},
   "outputs": [
    {
     "name": "stdout",
     "output_type": "stream",
     "text": [
      "0      18.442781\n",
      "1     -21.202453\n",
      "3       3.061790\n",
      "4      17.880971\n",
      "5     -15.744547\n",
      "         ...    \n",
      "552    -7.606517\n",
      "554     0.736510\n",
      "555     5.252650\n",
      "557    31.871553\n",
      "558     6.280829\n",
      "Name: Latitude, Length: 382, dtype: float64\n"
     ]
    }
   ],
   "source": [
    "# Perform a linear regression on Max temperature vs. latitude for Northern hemisphere\n",
    "(slope, intercept, rvalue, pvalue, stderr) = stats.linregress(x_values, y_values)\n",
    "\n",
    "# caculate regression values\n",
    "regress_values = x_values * slope + intercept\n",
    "print(regress_values)"
   ]
  },
  {
   "cell_type": "code",
   "execution_count": 25,
   "metadata": {},
   "outputs": [
    {
     "name": "stdout",
     "output_type": "stream",
     "text": [
      "y = -0.82x +36.0\n"
     ]
    }
   ],
   "source": [
    "# result of line equation string\n",
    "line_equation = \"y = \" + str(round(slope,2)) + \"x +\" + str(round(intercept,2))\n",
    "print(line_equation)"
   ]
  },
  {
   "cell_type": "code",
   "execution_count": 26,
   "metadata": {},
   "outputs": [
    {
     "name": "stdout",
     "output_type": "stream",
     "text": [
      "The r-value is: 0.7635918939849446\n"
     ]
    },
    {
     "data": {
      "image/png": "[encoded data removed]",
      "text/plain": [
       "<Figure size 432x288 with 1 Axes>"
      ]
     },
     "metadata": {
      "needs_background": "light"
     },
     "output_type": "display_data"
    }
   ],
   "source": [
    "# Create plot for Northern hemisphere\n",
    "plt.scatter(x_values,y_values)\n",
    "plt.plot(x_values,regress_values,\"r-\")\n",
    "\n",
    "# Label plot and annotate the line equation\n",
    "plt.xlabel(\"Latitude\")\n",
    "plt.ylabel(\"Max Temperature\")\n",
    "\n",
    "#plt.text(1,1,line_equation, color='red')\n",
    "plt.annotate(line_equation,(0,0),fontsize=15,color=\"red\")\n",
    "\n",
    "# Print r value\n",
    "print(f\"The r-value is: {rvalue**2}\")\n",
    "\n",
    "plt.grid()\n",
    "plt.show()"
   ]
  },
  {
   "cell_type": "code",
   "execution_count": 27,
   "metadata": {},
   "outputs": [
    {
     "data": {
      "text/plain": [
       "<Figure size 432x288 with 0 Axes>"
      ]
     },
     "metadata": {},
     "output_type": "display_data"
    }
   ],
   "source": [
    "# save plot as png file\n",
    "plt.savefig(\"N_hemisphere_CityLatitude_vs_Temp.png\")"
   ]
  },
  {
   "cell_type": "markdown",
   "metadata": {},
   "source": [
    "####  Southern Hemisphere - Max Temp vs. Latitude Linear Regression"
   ]
  },
  {
   "cell_type": "code",
   "execution_count": 31,
   "metadata": {},
   "outputs": [
    {
     "data": {
      "image/png": "[encoded data removed]",
      "text/plain": [
       "<Figure size 432x288 with 1 Axes>"
      ]
     },
     "metadata": {
      "needs_background": "light"
     },
     "output_type": "display_data"
    }
   ],
   "source": [
    "# create dataframe for Southern Hemisphere\n",
    "S_hemisphere = weatherDF.loc[weatherDF[\"Latitude\"] < 0]\n",
    "\n",
    "# Create a scatter plot for latitude vs temperature for northern hemisphere\n",
    "x_values = S_hemisphere[\"Latitude\"]\n",
    "y_values = S_hemisphere[\"Temp\"]\n",
    "plt.scatter(x_values, y_values, facecolors=\"darkblue\", marker=\"o\", edgecolor=\"white\")\n",
    "plt.xlabel('Latitude')\n",
    "plt.ylabel('Temperature (F)')\n",
    "plt.title(\"Southern Hemisphere - City Latitude vs. Max Temperature (01/23/2022)\")\n",
    "\n",
    "plt.grid()\n",
    "plt.show()"
   ]
  },
  {
   "cell_type": "code",
   "execution_count": 32,
   "metadata": {},
   "outputs": [
    {
     "name": "stdout",
     "output_type": "stream",
     "text": [
      "2      23.885089\n",
      "12     26.219084\n",
      "14     24.717084\n",
      "16     20.076456\n",
      "17     20.651843\n",
      "         ...    \n",
      "547    26.314722\n",
      "548    27.147966\n",
      "550    26.663793\n",
      "553    26.021067\n",
      "556    23.304982\n",
      "Name: Latitude, Length: 177, dtype: float64\n"
     ]
    }
   ],
   "source": [
    "# Perform a linear regression on Max temperature vs. latitude for Southern hemisphere\n",
    "(slope, intercept, rvalue, pvalue, stderr) = stats.linregress(x_values, y_values)\n",
    "\n",
    "# caculate regression values\n",
    "regress_values = x_values * slope + intercept\n",
    "print(regress_values)"
   ]
  },
  {
   "cell_type": "code",
   "execution_count": 33,
   "metadata": {},
   "outputs": [
    {
     "name": "stdout",
     "output_type": "stream",
     "text": [
      "y = 0.16x +27.69\n"
     ]
    }
   ],
   "source": [
    "# result of line equation string\n",
    "line_equation1 = \"y = \" + str(round(slope,2)) + \"x +\" + str(round(intercept,2))\n",
    "print(line_equation1)"
   ]
  },
  {
   "cell_type": "code",
   "execution_count": 39,
   "metadata": {},
   "outputs": [
    {
     "name": "stdout",
     "output_type": "stream",
     "text": [
      "The r-value is: 0.167609862153314\n"
     ]
    },
    {
     "data": {
      "image/png": "[encoded data removed]",
      "text/plain": [
       "<Figure size 432x288 with 1 Axes>"
      ]
     },
     "metadata": {
      "needs_background": "light"
     },
     "output_type": "display_data"
    },
    {
     "data": {
      "text/plain": [
       "<Figure size 432x288 with 0 Axes>"
      ]
     },
     "metadata": {},
     "output_type": "display_data"
    }
   ],
   "source": [
    "# Create plot for Southern Hemisphere\n",
    "plt.scatter(x_values,y_values)\n",
    "plt.plot(x_values,regress_values,\"r-\")\n",
    "\n",
    "# Label plot and annotate the line equation\n",
    "plt.xlabel(\"Latitude\")\n",
    "plt.ylabel(\"Max Tempe\")\n",
    "\n",
    "plt.scatter(x_values, y_values, facecolors=\"darkblue\", marker=\"o\", edgecolor=\"white\")\n",
    "plt.xlabel('Latitude')\n",
    "plt.ylabel('Max Temperature (F)')\n",
    "plt.title(\"Southern Hemisphere - City Latitude vs. Max Temperature (01/23/2022)\")\n",
    "\n",
    "#plt.text(0,0,line_equation1, color='red')\n",
    "plt.annotate({line_equation1},(0,0),fontsize=15,color=\"red\")\n",
    "\n",
    "# Print r value\n",
    "print(f\"The r-value is: {rvalue**2}\")\n",
    "\n",
    "plt.grid()\n",
    "plt.show()\n",
    "\n",
    "# save plot as png file\n",
    "plt.savefig(\"S_Hemi_CityLatitude_vs_MaxTemp_LinearReg\")"
   ]
  },
  {
   "cell_type": "markdown",
   "metadata": {},
   "source": [
    "####  Northern Hemisphere - Humidity (%) vs. Latitude Linear Regression"
   ]
  },
  {
   "cell_type": "code",
   "execution_count": null,
   "metadata": {},
   "outputs": [],
   "source": []
  },
  {
   "cell_type": "markdown",
   "metadata": {},
   "source": [
    "####  Southern Hemisphere - Humidity (%) vs. Latitude Linear Regression"
   ]
  },
  {
   "cell_type": "code",
   "execution_count": null,
   "metadata": {},
   "outputs": [],
   "source": []
  },
  {
   "cell_type": "markdown",
   "metadata": {},
   "source": [
    "####  Northern Hemisphere - Cloudiness (%) vs. Latitude Linear Regression"
   ]
  },
  {
   "cell_type": "code",
   "execution_count": null,
   "metadata": {},
   "outputs": [],
   "source": []
  },
  {
   "cell_type": "markdown",
   "metadata": {},
   "source": [
    "####  Southern Hemisphere - Cloudiness (%) vs. Latitude Linear Regression"
   ]
  },
  {
   "cell_type": "code",
   "execution_count": null,
   "metadata": {},
   "outputs": [],
   "source": []
  },
  {
   "cell_type": "markdown",
   "metadata": {},
   "source": [
    "####  Northern Hemisphere - Wind Speed (mph) vs. Latitude Linear Regression"
   ]
  },
  {
   "cell_type": "code",
   "execution_count": null,
   "metadata": {},
   "outputs": [],
   "source": []
  },
  {
   "cell_type": "markdown",
   "metadata": {},
   "source": [
    "####  Southern Hemisphere - Wind Speed (mph) vs. Latitude Linear Regression"
   ]
  },
  {
   "cell_type": "code",
   "execution_count": null,
   "metadata": {},
   "outputs": [],
   "source": []
  },
  {
   "cell_type": "code",
   "execution_count": null,
   "metadata": {},
   "outputs": [],
   "source": []
  }
 ],
 "metadata": {
  "anaconda-cloud": {},
  "kernel_info": {
   "name": "python3"
  },
  "kernelspec": {
   "display_name": "Python 3",
   "language": "python",
   "name": "python3"
  },
  "language_info": {
   "codemirror_mode": {
    "name": "ipython",
    "version": 3
   },
   "file_extension": ".py",
   "mimetype": "text/x-python",
   "name": "python",
   "nbconvert_exporter": "python",
   "pygments_lexer": "ipython3",
   "version": "3.8.8"
  },
  "latex_envs": {
   "LaTeX_envs_menu_present": true,
   "autoclose": false,
   "autocomplete": true,
   "bibliofile": "biblio.bib",
   "cite_by": "apalike",
   "current_citInitial": 1,
   "eqLabelWithNumbers": true,
   "eqNumInitial": 1,
   "hotkeys": {
    "equation": "Ctrl-E",
    "itemize": "Ctrl-I"
   },
   "labels_anchors": false,
   "latex_user_defs": false,
   "report_style_numbering": false,
   "user_envs_cfg": false
  },
  "nteract": {
   "version": "0.12.3"
  }
 },
 "nbformat": 4,
 "nbformat_minor": 2
}
