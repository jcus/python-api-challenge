{
 "cells": [
  {
   "cell_type": "markdown",
   "metadata": {},
   "source": [
    "# WeatherPy\n",
    "----\n",
    "\n",
    "#### Note\n",
    "* Instructions have been included for each segment. You do not have to follow them exactly, but they are included to help you think through the steps."
   ]
  },
  {
   "cell_type": "code",
   "execution_count": 1,
   "metadata": {},
   "outputs": [
    {
     "name": "stdout",
     "output_type": "stream",
     "text": [
      "Requirement already satisfied: citipy in c:\\programdata\\anaconda3\\lib\\site-packages (0.0.5)\n",
      "Requirement already satisfied: kdtree>=0.12 in c:\\programdata\\anaconda3\\lib\\site-packages (from citipy) (0.16)\n",
      "Note: you may need to restart the kernel to use updated packages.\n"
     ]
    }
   ],
   "source": [
    "pip install citipy"
   ]
  },
  {
   "cell_type": "code",
   "execution_count": 2,
   "metadata": {
    "scrolled": true
   },
   "outputs": [],
   "source": [
    "# Dependencies and Setup\n",
    "import matplotlib.pyplot as plt\n",
    "import pandas as pd\n",
    "import numpy as np\n",
    "import requests\n",
    "import time\n",
    "from scipy import stats\n",
    "#from scipy.stats import linregress\n",
    "import json\n",
    "\n",
    "# Incorporated citipy to determine city based on latitude and longitude\n",
    "from citipy import citipy\n",
    "\n",
    "## Import API key\n",
    "from api_keys import weather_api_key\n",
    "\n",
    "# under VBA add this line to .iginore to gnore the push/ modification of the config.py file\n",
    "# api_keys.py"
   ]
  },
  {
   "cell_type": "code",
   "execution_count": 3,
   "metadata": {},
   "outputs": [],
   "source": [
    "# Output File CSV\n",
    "output_data_file = \"output_data/cities.csv\"\n",
    "\n",
    "# Range of latitudes and longitudes\n",
    "lat_range = (-90, 90)\n",
    "lng_range = (-180, 180)"
   ]
  },
  {
   "cell_type": "markdown",
   "metadata": {},
   "source": [
    "# Generate Cities List"
   ]
  },
  {
   "cell_type": "code",
   "execution_count": 4,
   "metadata": {},
   "outputs": [],
   "source": [
    "# List for holding lat_lngs and cities\n",
    "lat_lngs = []\n",
    "cities = []\n",
    "\n",
    "# Create a set of random lat and lng combinations-- numpy, generate 1500 lats, lngs a piece\n",
    "lats = np.random.uniform(lat_range[0], lat_range[1], size=1500)\n",
    "lngs = np.random.uniform(lng_range[0], lng_range[1], size=1500)\n",
    "lat_lngs = zip(lats, lngs)"
   ]
  },
  {
   "cell_type": "code",
   "execution_count": 5,
   "metadata": {},
   "outputs": [
    {
     "data": {
      "text/plain": [
       "628"
      ]
     },
     "execution_count": 5,
     "metadata": {},
     "output_type": "execute_result"
    }
   ],
   "source": [
    "# Identify nearest city for each lat, lng combination\n",
    "for lat_lng in lat_lngs:\n",
    "    city = citipy.nearest_city(lat_lng[0], lat_lng[1]).city_name\n",
    "    \n",
    "    # If the city is unique, then add it to a our cities list\n",
    "    if city not in cities:\n",
    "        cities.append(city)\n",
    "\n",
    "# Print the city count to confirm sufficient count\n",
    "len(cities)"
   ]
  },
  {
   "cell_type": "markdown",
   "metadata": {},
   "source": [
    "### Perform API Calls\n",
    "* Perform a weather check on each city using a series of successive API calls.\n",
    "* Include a print log of each city as it'sbeing processed (with the city number and city name).\n"
   ]
  },
  {
   "cell_type": "code",
   "execution_count": 6,
   "metadata": {
    "scrolled": true
   },
   "outputs": [],
   "source": [
    "# the url info\n",
    "url = \"http://api.openweathermap.org/data/2.5/weather?\"\n",
    "units = \"metric\""
   ]
  },
  {
   "cell_type": "code",
   "execution_count": 7,
   "metadata": {},
   "outputs": [],
   "source": [
    "# url Query build\n",
    "Q_url = f\"{url}appid={weather_api_key}&units={units}&q=\"\n",
    "## url = f\"http://api.openweathermap.org/data/2.5/weather?units-imperial&APPID={weather_api_key}\""
   ]
  },
  {
   "cell_type": "code",
   "execution_count": 8,
   "metadata": {},
   "outputs": [
    {
     "name": "stdout",
     "output_type": "stream",
     "text": [
      "{\n",
      "      \"coord\": {\n",
      "            \"lon\": 178.4167,\n",
      "            \"lat\": 69.3833\n",
      "      },\n",
      "      \"weather\": [\n",
      "            {\n",
      "                  \"id\": 804,\n",
      "                  \"main\": \"Clouds\",\n",
      "                  \"description\": \"overcast clouds\",\n",
      "                  \"icon\": \"04n\"\n",
      "            }\n",
      "      ],\n",
      "      \"base\": \"stations\",\n",
      "      \"main\": {\n",
      "            \"temp\": -24.27,\n",
      "            \"feels_like\": -31.27,\n",
      "            \"temp_min\": -24.27,\n",
      "            \"temp_max\": -24.27,\n",
      "            \"pressure\": 1038,\n",
      "            \"humidity\": 97,\n",
      "            \"sea_level\": 1038,\n",
      "            \"grnd_level\": 1038\n",
      "      },\n",
      "      \"visibility\": 1665,\n",
      "      \"wind\": {\n",
      "            \"speed\": 3.21,\n",
      "            \"deg\": 288,\n",
      "            \"gust\": 5.7\n",
      "      },\n",
      "      \"clouds\": {\n",
      "            \"all\": 99\n",
      "      },\n",
      "      \"dt\": 1644946614,\n",
      "      \"sys\": {\n",
      "            \"country\": \"RU\",\n",
      "            \"sunrise\": 1644957211,\n",
      "            \"sunset\": 1644984458\n",
      "      },\n",
      "      \"timezone\": 43200,\n",
      "      \"id\": 2123814,\n",
      "      \"name\": \"Leningradskiy\",\n",
      "      \"cod\": 200\n",
      "}\n"
     ]
    }
   ],
   "source": [
    "# Get city weather data\n",
    "weather_response = requests.get(Q_url + city)\n",
    "weather_json = weather_response.json()\n",
    "# converts a Python object into a json string-- dumps\n",
    "print(json.dumps(weather_json, indent=6))\n",
    "#print(weather_json)"
   ]
  },
  {
   "cell_type": "code",
   "execution_count": 9,
   "metadata": {},
   "outputs": [
    {
     "name": "stdout",
     "output_type": "stream",
     "text": [
      "<Response [200]>\n"
     ]
    }
   ],
   "source": [
    "# set empty for list of variables\n",
    "city_name = []\n",
    "latitude = []\n",
    "longitude = []\n",
    "temperature = []\n",
    "humidity = []\n",
    "cloudiness = []\n",
    "wind_speed = []\n",
    "country = []\n",
    "date = []\n",
    "\n",
    "# start record counting\n",
    "processing_record = 1 \n",
    "\n",
    "# check if responsw correct\n",
    "print(weather_response)\n",
    "#print(cities)"
   ]
  },
  {
   "cell_type": "code",
   "execution_count": null,
   "metadata": {},
   "outputs": [
    {
     "name": "stdout",
     "output_type": "stream",
     "text": [
      "Beginning Data Retrieval      \n",
      "------------------------------\n",
      "Processing Record 1 | Kapaa\n",
      "Processing Record 2 | Saldanha\n",
      "Processing Record 3 | Machachi\n",
      "Processing Record 4 | Noril'sk\n",
      "City not found. Skipping...\n",
      "Processing Record 5 | Vaini\n",
      "Processing Record 6 | Avarua\n",
      "Processing Record 7 | Puerto Ayora\n",
      "Processing Record 8 | Garden City\n",
      "Processing Record 9 | Albany\n",
      "Processing Record 10 | Sembakung\n",
      "Processing Record 11 | El Salvador\n",
      "Processing Record 12 | Manokwari\n",
      "City not found. Skipping...\n",
      "Processing Record 13 | Lebu\n",
      "Processing Record 14 | Palmer\n",
      "Processing Record 15 | Castro\n",
      "City not found. Skipping...\n",
      "Processing Record 16 | Atuona\n",
      "Processing Record 17 | Tiksi\n",
      "Processing Record 18 | La Asuncion\n",
      "Processing Record 19 | Cap-aux-Meules\n",
      "Processing Record 20 | Aklavik\n",
      "Processing Record 21 | Lata\n",
      "Processing Record 22 | Airai\n",
      "Processing Record 23 | Bereda\n",
      "Processing Record 24 | Dingle\n",
      "City not found. Skipping...\n",
      "Processing Record 25 | Busselton\n",
      "Processing Record 26 | Touros\n",
      "Processing Record 27 | Punta Arenas\n",
      "Processing Record 28 | Elko\n",
      "Processing Record 29 | Hithadhoo\n",
      "City not found. Skipping...\n",
      "Processing Record 30 | Chipinge\n",
      "Processing Record 31 | Barrow\n",
      "Processing Record 32 | Bowen\n",
      "Processing Record 33 | Zhalantun\n",
      "Processing Record 34 | Ushuaia\n",
      "Processing Record 35 | Adrar\n",
      "Processing Record 36 | Augusto Corrêa\n",
      "City not found. Skipping...\n",
      "Processing Record 37 | Wattegama\n",
      "Processing Record 38 | Kungurtug\n",
      "Processing Record 39 | Alofi\n",
      "Processing Record 40 | Marawi\n",
      "Processing Record 41 | Alice Springs\n",
      "Processing Record 42 | Jamestown\n",
      "Processing Record 43 | Hirara\n",
      "Processing Record 44 | Ribeira Grande\n",
      "Processing Record 45 | George Town\n",
      "Processing Record 46 | Arraial do Cabo\n",
      "Processing Record 47 | Hilo\n",
      "Processing Record 48 | Thinadhoo\n",
      "Processing Record 49 | Eyl\n",
      "Processing Record 50 | Kavieng\n",
      "Processing Record 51 | Tasiilaq\n",
      "City not found. Skipping...\n",
      "Processing Record 52 | New Norfolk\n",
      "Processing Record 53 | Latung\n",
      "Processing Record 54 | Pisco\n",
      "City not found. Skipping...\n",
      "City not found. Skipping...\n",
      "Processing Record 55 | Provincia di Ferrara\n",
      "Processing Record 56 | Longyearbyen\n",
      "Processing Record 57 | Abū Zabad\n",
      "Processing Record 58 | Guerrero Negro\n",
      "Processing Record 59 | Cape Town\n",
      "Processing Record 60 | Hobart\n",
      "Processing Record 61 | Bredasdorp\n",
      "Processing Record 62 | Hambantota\n",
      "Processing Record 63 | Butaritari\n",
      "Processing Record 64 | Hūn\n",
      "Processing Record 65 | Qaanaaq\n",
      "Processing Record 66 | Dunedin\n",
      "Processing Record 67 | Bilibino\n",
      "Processing Record 68 | Mar del Plata\n",
      "Processing Record 69 | Rikitea\n",
      "Processing Record 70 | Talnakh\n",
      "Processing Record 71 | Emba\n",
      "Processing Record 72 | Tiznit Province\n",
      "Processing Record 73 | Saskylakh\n",
      "Processing Record 74 | Letterkenny\n",
      "City not found. Skipping...\n",
      "Processing Record 75 | Bulgan\n",
      "Processing Record 76 | Upernavik\n",
      "Processing Record 77 | Huilong\n",
      "Processing Record 78 | Izhma\n",
      "Processing Record 79 | Sarangani\n",
      "Processing Record 80 | Cockburn Town\n",
      "Processing Record 81 | Mataura\n",
      "Processing Record 82 | Khatanga\n",
      "Processing Record 83 | Chokurdakh\n",
      "Processing Record 84 | Oga\n",
      "Processing Record 85 | Camocim\n",
      "Processing Record 86 | Taseyevo\n",
      "Processing Record 87 | Saint Anthony\n",
      "Processing Record 88 | Jumla\n",
      "Processing Record 89 | Tommot\n",
      "City not found. Skipping...\n",
      "Processing Record 90 | Clyde River\n",
      "Processing Record 91 | Cayenne\n",
      "Processing Record 92 | Biak\n",
      "Processing Record 93 | Kaitangata\n",
      "Processing Record 94 | Mahébourg\n",
      "City not found. Skipping...\n",
      "Processing Record 95 | Provideniya\n",
      "Processing Record 96 | Houma\n",
      "Processing Record 97 | Hargeisa\n",
      "Processing Record 98 | Erdenet\n",
      "Processing Record 99 | Nanortalik\n",
      "Processing Record 100 | Waipawa\n",
      "Processing Record 101 | Aleksandrovsk-Sakhalinskiy\n",
      "Processing Record 102 | Saint-Philippe\n",
      "Processing Record 103 | Rijeka\n",
      "Processing Record 104 | Esperance\n",
      "Processing Record 105 | Kaeo\n",
      "Processing Record 106 | Haines Junction\n",
      "Processing Record 107 | Vardø\n",
      "Processing Record 108 | Kumul\n",
      "Processing Record 109 | Gimli\n",
      "Processing Record 110 | Itoman\n",
      "Processing Record 111 | Arnedo\n",
      "Processing Record 112 | Ponta Delgada\n",
      "Processing Record 113 | Jiuquan\n",
      "Processing Record 114 | Lompoc\n",
      "Processing Record 115 | Mugumu\n",
      "Processing Record 116 | Saint George\n",
      "Processing Record 117 | Bluff\n",
      "Processing Record 118 | Umluj\n",
      "Processing Record 119 | Hong Kong\n",
      "Processing Record 120 | Along\n",
      "Processing Record 121 | Kushiro\n",
      "Processing Record 122 | Katsuura\n",
      "Processing Record 123 | Ust'-Omchug\n",
      "Processing Record 124 | Salta\n",
      "Processing Record 125 | High Level\n",
      "Processing Record 126 | Buraidah\n",
      "Processing Record 127 | Leningradskiy\n",
      "Processing Record 128 | Ponta do Sol\n",
      "Processing Record 129 | Saint Paul Harbor\n",
      "Processing Record 130 | Serik\n",
      "City not found. Skipping...\n",
      "Processing Record 131 | Hermanus\n",
      "Processing Record 132 | North Bend\n",
      "City not found. Skipping...\n",
      "Processing Record 133 | Grindavik\n",
      "Processing Record 134 | Arroyo de la Encomienda\n",
      "Processing Record 135 | Yellowknife\n",
      "Processing Record 136 | Narsaq\n",
      "Processing Record 137 | Santa Cruz de la Sierra\n",
      "Processing Record 138 | Sibolga\n",
      "Processing Record 139 | Latur\n",
      "Processing Record 140 | Necochea\n",
      "Processing Record 141 | Neyyāttinkara\n",
      "Processing Record 142 | Te Anau\n",
      "Processing Record 143 | Itarema\n",
      "Processing Record 144 | Magadan\n",
      "Processing Record 145 | Belmonte\n",
      "Processing Record 146 | Beyneu\n",
      "Processing Record 147 | Harper\n",
      "Processing Record 148 | Sitka\n",
      "Processing Record 149 | Sangar\n",
      "Processing Record 150 | Scarborough\n",
      "Processing Record 151 | Sisimiut\n",
      "Processing Record 152 | Wainwright\n",
      "Processing Record 153 | Port Alfred\n",
      "Processing Record 154 | Pozo Colorado\n",
      "Processing Record 155 | Codajás\n",
      "Processing Record 156 | Klaksvík\n",
      "Processing Record 157 | Pangody\n",
      "City not found. Skipping...\n",
      "Processing Record 158 | Caravelas\n",
      "Processing Record 159 | Saint-Joseph\n",
      "Processing Record 160 | Frontignan\n",
      "Processing Record 161 | Thompson\n",
      "Processing Record 162 | Wuwei\n",
      "Processing Record 163 | Hamilton\n",
      "Processing Record 164 | Papara\n",
      "Processing Record 165 | Puerto Escondido\n",
      "Processing Record 166 | Darnah\n",
      "Processing Record 167 | Bethel\n",
      "Processing Record 168 | Fort Nelson\n",
      "City not found. Skipping...\n",
      "Processing Record 169 | Zavoronezhskoye\n",
      "Processing Record 170 | Yamada\n",
      "Processing Record 171 | Soloneshnoye\n",
      "Processing Record 172 | Kenai\n",
      "Processing Record 173 | Acapulco de Juárez\n",
      "Processing Record 174 | Kisangani\n",
      "Processing Record 175 | Adelanto\n",
      "Processing Record 176 | Kieta\n",
      "Processing Record 177 | Deputatsky\n",
      "Processing Record 178 | Canguçu\n",
      "City not found. Skipping...\n",
      "Processing Record 179 | Norman Wells\n",
      "City not found. Skipping...\n",
      "Processing Record 180 | São Filipe\n",
      "Processing Record 181 | Fare\n",
      "Processing Record 182 | Saint-Pierre\n",
      "Processing Record 183 | Liverpool\n",
      "Processing Record 184 | Laguna\n",
      "Processing Record 185 | Akdepe\n",
      "Processing Record 186 | Shirgaon\n",
      "Processing Record 187 | Datong\n",
      "Processing Record 188 | Labuhan\n",
      "Processing Record 189 | Vostok\n",
      "City not found. Skipping...\n",
      "Processing Record 190 | Dunda\n",
      "Processing Record 191 | Cabo San Lucas\n",
      "Processing Record 192 | Vila Franca do Campo\n",
      "Processing Record 193 | Ituberá\n",
      "Processing Record 194 | West Bay\n",
      "Processing Record 195 | Shumikha\n",
      "Processing Record 196 | Xiaoyi\n",
      "Processing Record 197 | Galesong\n",
      "Processing Record 198 | Xining\n",
      "Processing Record 199 | Gurupá\n",
      "Processing Record 200 | Tuktoyaktuk\n",
      "Processing Record 201 | Bonfim\n",
      "Processing Record 202 | Concepción\n",
      "Processing Record 203 | Bangolo\n",
      "Processing Record 204 | Gaza\n",
      "Processing Record 205 | Fortuna\n",
      "Processing Record 206 | San Patricio\n",
      "Processing Record 207 | Faanui\n",
      "Processing Record 208 | Karakol\n",
      "Processing Record 209 | Sonoita\n",
      "Processing Record 210 | Atar\n",
      "Processing Record 211 | Asunción Nochixtlán\n",
      "Processing Record 212 | Sechura\n",
      "Processing Record 213 | Buckeye\n",
      "Processing Record 214 | Tomatlán\n",
      "Processing Record 215 | Lavrentiya\n",
      "Processing Record 216 | Coahuayana Viejo\n",
      "Processing Record 217 | Jasper\n",
      "Processing Record 218 | Hobyo\n",
      "Processing Record 219 | Isangel\n",
      "Processing Record 220 | Pundaguitan\n",
      "Processing Record 221 | Lorengau\n",
      "Processing Record 222 | Vilyuysk\n",
      "Processing Record 223 | Muros\n",
      "Processing Record 224 | Pachino\n",
      "Processing Record 225 | Bam\n",
      "Processing Record 226 | Terebovlya\n",
      "Processing Record 227 | Bhisho\n",
      "Processing Record 228 | Ridgecrest\n",
      "Processing Record 229 | Silopi\n",
      "Processing Record 230 | Oktyabr'skoye\n",
      "Processing Record 231 | Nikolskoye\n"
     ]
    },
    {
     "name": "stdout",
     "output_type": "stream",
     "text": [
      "Processing Record 232 | Hasaki\n",
      "Processing Record 233 | Carnarvon\n",
      "Processing Record 234 | Inyonga\n",
      "Processing Record 235 | Kiryat Gat\n",
      "Processing Record 236 | Glencoe\n",
      "Processing Record 237 | ‘Ewa Beach\n",
      "City not found. Skipping...\n",
      "Processing Record 238 | Mwingi\n",
      "Processing Record 239 | Salalah\n",
      "Processing Record 240 | Lázaro Cárdenas\n",
      "Processing Record 241 | Ilulissat\n",
      "Processing Record 242 | Evensk\n",
      "Processing Record 243 | Namatanai\n",
      "Processing Record 244 | Ancud\n",
      "Processing Record 245 | Kutum\n",
      "Processing Record 246 | Diu\n",
      "Processing Record 247 | Dikson\n",
      "Processing Record 248 | Samarai\n",
      "City not found. Skipping...\n",
      "Processing Record 249 | Zonguldak\n",
      "Processing Record 250 | Conceição do Araguaia\n",
      "Processing Record 251 | El Dorado\n",
      "Processing Record 252 | Berlevåg\n",
      "Processing Record 253 | Torbay\n",
      "Processing Record 254 | Cedar Hill\n",
      "Processing Record 255 | Kerema\n",
      "Processing Record 256 | Geraldton\n"
     ]
    }
   ],
   "source": [
    "# data retrive process start\n",
    "\n",
    "# print to logger\n",
    "print(f\"Beginning Data Retrieval      \")\n",
    "print(f\"------------------------------\")\n",
    "\n",
    "# Loop through each city\n",
    "for city in cities:\n",
    "    \n",
    "    # try to get the response for each city\n",
    "    try:\n",
    "        #run API requests and retrive the data\n",
    "        response = requests.get(Q_url + city).json()\n",
    "        \n",
    "        ## add a time delay to avoid blowing out the API key\n",
    "        #time.sleep(1)\n",
    "        \n",
    "        city_name.append(response[\"name\"])\n",
    "        latitude.append(response[\"coord\"][\"lat\"])\n",
    "        longitude.append(response[\"coord\"][\"lon\"])\n",
    "        temperature.append(response[\"main\"][\"temp\"])\n",
    "        humidity.append(response[\"main\"][\"humidity\"])\n",
    "        cloudiness.append(response[\"clouds\"][\"all\"])\n",
    "        wind_speed.append(response[\"wind\"][\"speed\"])\n",
    "        country.append(response[\"sys\"][\"country\"])\n",
    "        date.append(response[\"dt\"])\n",
    "        city_record = response[\"name\"]\n",
    "        print(f\"Processing Record {processing_record} | {city_record}\")\n",
    "        \n",
    "        # increase record counting by 1\n",
    "        processing_record += 1\n",
    "        \n",
    "    except:\n",
    "        print(\"City not found. Skipping...\") \n",
    "    pass\n",
    "\n",
    "print(f\"------------------------------\")\n",
    "print(f\"Data Retrieval Complete!!    \")\n",
    "print(f\"------------------------------\")"
   ]
  },
  {
   "cell_type": "markdown",
   "metadata": {},
   "source": [
    "### Convert Raw Data to DataFrame\n",
    "* Export the city data into a .csv.\n",
    "* Display the DataFrame"
   ]
  },
  {
   "cell_type": "code",
   "execution_count": null,
   "metadata": {},
   "outputs": [],
   "source": [
    "# define dataframe then display\n",
    "weather_data = {\n",
    "    \"City\": city_name,\n",
    "    \"Latitude\": latitude,\n",
    "    \"Longitude\": longitude,\n",
    "    \"Temp\": temperature,\n",
    "    \"Humidity\": humidity,\n",
    "    \"Cloudiness\": cloudiness,\n",
    "    \"Wind Speed\": wind_speed,\n",
    "    \"Country\": country,\n",
    "    \"Date\": date\n",
    "}\n",
    "weatherDF = pd.DataFrame(weather_data)\n",
    "\n",
    "weatherDF.head()"
   ]
  },
  {
   "cell_type": "code",
   "execution_count": null,
   "metadata": {},
   "outputs": [],
   "source": [
    "# export data to CSV file\n",
    "weatherDF.to_csv(\"Weather_Output.csv\")"
   ]
  },
  {
   "cell_type": "markdown",
   "metadata": {},
   "source": [
    "## Inspect the data and remove the cities where the humidity > 100%.\n",
    "----\n",
    "Skip this step if there are no cities that have humidity > 100%. "
   ]
  },
  {
   "cell_type": "code",
   "execution_count": null,
   "metadata": {},
   "outputs": [],
   "source": [
    "#Lat\tLng\tMax Temp\tHumidity\tCloudiness\tWind Speed\tDate\n",
    "# count\t550.000000\t550.000000\t550.000000\t550.000000\t550.000000\t550.000000\t5.500000e+02"
   ]
  },
  {
   "cell_type": "code",
   "execution_count": null,
   "metadata": {},
   "outputs": [],
   "source": [
    "# Get the indices of cities that have humidity over 100%.\n",
    "# Int64Index([], dtype='int64')"
   ]
  },
  {
   "cell_type": "code",
   "execution_count": null,
   "metadata": {},
   "outputs": [],
   "source": [
    "# Make a new DataFrame equal to the city data to drop all humidity outliers by index.\n",
    "# Passing \"inplace=False\" will make a copy of the city_data DataFrame, which we call \"clean_city_data\".\n",
    "# City\tLat\tLng\tMax Temp\tHumidity\tCloudiness\tWind Speed\tCountry\tDate\n",
    "# 0\tbutaritari\t3.07\t172.79\t83.32\t74\t84\t10.42\tKI\t1593605283"
   ]
  },
  {
   "cell_type": "code",
   "execution_count": null,
   "metadata": {},
   "outputs": [],
   "source": []
  },
  {
   "cell_type": "markdown",
   "metadata": {},
   "source": [
    "## Plotting the Data\n",
    "* Use proper labeling of the plots using plot titles (including date of analysis) and axes labels.\n",
    "* Save the plotted figures as .pngs."
   ]
  },
  {
   "cell_type": "code",
   "execution_count": null,
   "metadata": {},
   "outputs": [],
   "source": [
    "## Create a series of scatter plots to showcase the following relationships:\n",
    "#  Temperature (F) vs. Latitude\n",
    "#  Humidity (%) vs. Latitude\n",
    "#  Cloudiness (%) vs. Latitude\n",
    "#  Wind Speed (mph) vs. Latitude"
   ]
  },
  {
   "cell_type": "code",
   "execution_count": null,
   "metadata": {},
   "outputs": [],
   "source": [
    "## Save plot to the selected directory. If the directory does not exist, it is created.\n",
    "\n",
    "#import os\n",
    "#import matplotlib.pyplot as plt\n",
    "\n",
    "#script_dir = os.path.dirname(__file__)\n",
    "#results_dir = os.path.join(script_dir, 'Results/')\n",
    "#plot_file_name = \"CityLatitude_vs_Temperature\"\n",
    "\n",
    "#if not os.path.isdir(results_dir):\n",
    "#    os.makedirs(results_dir)\n",
    "\n",
    "#plt.plot([1,2,3,4])\n",
    "#plt.ylabel('some numbers')\n",
    "#plt.savefig(results_dir + sample_file_name)"
   ]
  },
  {
   "cell_type": "markdown",
   "metadata": {},
   "source": [
    "## Latitude vs. Temperature Plot"
   ]
  },
  {
   "cell_type": "code",
   "execution_count": null,
   "metadata": {
    "scrolled": true
   },
   "outputs": [],
   "source": [
    "# Create a scatter plot for Temperature (F) vs. Latitude\n",
    "plt.scatter(weatherDF['Latitude'], weatherDF[\"Temp\"], facecolors = \"darkblue\", edgecolor =\"white\", marker=\"o\")\n",
    "\n",
    "plt.xlabel(\"Latitude\")\n",
    "plt.ylabel(\"Max Temperature (F)\")\n",
    "plt.title(\"City Latitude vs. Max Temperature (01/23/2022)\")\n",
    "\n",
    "plt.grid()\n",
    "plt.show()\n",
    "\n",
    "# save plot as png file\n",
    "plt.savefig(\"CityLatitude_vs_Temperature.png\")\n",
    "\n",
    "# bold print '\\033[1m'+ words +'\\033[0m'\n",
    "print('\\033[1m' +\"The relationship between City Latitude and Temperature shows as the scatter plot above. \\n\" \n",
    "      \"\\n\"\n",
    "      \"All latitude lines are parallel from East to West as circles to the equator, \\n\"\n",
    "      \"Temperature is inversely related to latitude. As latitude increases, the temperature falls, and vice versa. \\n\"+'\\033[0m')"
   ]
  },
  {
   "cell_type": "markdown",
   "metadata": {},
   "source": [
    "## Latitude vs. Humidity Plot"
   ]
  },
  {
   "cell_type": "code",
   "execution_count": null,
   "metadata": {},
   "outputs": [],
   "source": [
    "# Create a scatter plot for Humidity (%) vs. Latitude\n",
    "\n",
    "plt.scatter(weatherDF[\"Latitude\"], weatherDF[\"Humidity\"], facecolors = \"darkblue\", edgecolor =\"white\", marker=\"1\")\n",
    "\n",
    "plt.xlabel(\"Latitude\")\n",
    "plt.ylabel(\"Humidity (%)\")\n",
    "plt.title(\"City Latitude vs. Humidity (%) (01/23/2022)\")\n",
    "\n",
    "plt.grid()\n",
    "plt.show()\n",
    "\n",
    "# save plot as png file\n",
    "plt.savefig(\"CityLatitude_vs_Humidity.png\")\n",
    "\n",
    "# bold print '\\033[1m'+ words +'\\033[0m'\n",
    "print('\\033[1m' +\"The relationship between City Latitude and Humidity shows as the scatter plot above. \\n\" \n",
    "      \"Since the humidity also meansures water vapor in the air, warm air can possess more water vapor (moisture)\\n\"\n",
    "      \"then cold air, air will have a higher relative humidity if the air is cooler. The cities with higer Latitude \\n\"\n",
    "      \"will be moisture with the same amount of absolute/specific humidity, then the cities with lower latitude.\\n\"\n",
    "      +'\\033[0m')"
   ]
  },
  {
   "cell_type": "markdown",
   "metadata": {},
   "source": [
    "## Latitude vs. Cloudiness Plot"
   ]
  },
  {
   "cell_type": "code",
   "execution_count": null,
   "metadata": {},
   "outputs": [],
   "source": [
    "# Create a scatter plot for Cloudiness (%) vs. Latitude\n",
    "\n",
    "plt.scatter(weatherDF[\"Latitude\"], weatherDF[\"Cloudiness\"], facecolors = \"darkblue\", edgecolor =\"white\", marker=\"o\")\n",
    "\n",
    "plt.xlabel(\"Latitude\")\n",
    "plt.ylabel(\"Cloudiness (%)\")\n",
    "plt.title(\"City Latitude vs. Cloudiness (%)   (01/23/2022)\")\n",
    "\n",
    "plt.grid()\n",
    "plt.show()\n",
    "\n",
    "# save plot as png file\n",
    "plt.savefig(\"CityLatitude_vs_Cloudiness.png\")\n",
    "\n",
    "# bold print '\\033[1m'+ words +'\\033[0m'\n",
    "print('\\033[1m' +\n",
    "      \"The relationship between City Latitude and Cloudiness (%) shows as the scatter plot above. \\n\" \n",
    "      \"Clouds tend to form in abundance in the middle latitudes to north and south of the equator.\\n\"\n",
    "      \"There are three broad bands where Earth’s skies are most likely to be cloudy. \\n\"\n",
    "      +'\\033[0m')"
   ]
  },
  {
   "cell_type": "markdown",
   "metadata": {},
   "source": [
    "## Latitude vs. Wind Speed Plot"
   ]
  },
  {
   "cell_type": "code",
   "execution_count": null,
   "metadata": {},
   "outputs": [],
   "source": [
    "#Create a scatter plot for Wind Speed (mph) vs. Latitude\n",
    "\n",
    "plt.scatter(weatherDF[\"Latitude\"], weatherDF[\"Wind Speed\"], facecolors = \"darkblue\", edgecolor =\"white\", marker=\"o\")\n",
    "\n",
    "plt.xlabel(\"Latitude\")\n",
    "plt.ylabel(\"Wind Speed (mph)\")\n",
    "plt.title(\"City Latitude vs. Wind Speed (mph)   (01/23/2022)\")\n",
    "\n",
    "plt.grid()\n",
    "plt.show()\n",
    "\n",
    "# save plot as png file\n",
    "plt.savefig(\"CityLatitude_vs_WindSpeed.png\")\n",
    "\n",
    "# bold print '\\033[1m'+ words +'\\033[0m'\n",
    "print('\\033[1m' +\n",
    "      \"The relationship between City Latitude and Wind Speed (mph) shows as the scatter plot above. \\n\" \n",
    "      \"the speed of wind is determined by the magnitude of the air pressure difference make the air move \\n\"\n",
    "      \"from high pressure to low.  with greater speeds resulting from greater air pressure differences.\\n\"\n",
    "      \"Observations show that the wind speed increases equatorward in low latitudes while the wind speed decreases. \\n\"\n",
    "      +'\\033[0m')"
   ]
  },
  {
   "cell_type": "markdown",
   "metadata": {},
   "source": [
    "## Linear Regression"
   ]
  },
  {
   "cell_type": "code",
   "execution_count": null,
   "metadata": {},
   "outputs": [],
   "source": [
    "# Separate the plots into Northern Hemisphere (>=0 degrees latitude) and Southern Hemisphere (<0 degrees latitude):\n",
    "\n",
    "#Northern Hemisphere - Temperature (F) vs. Latitude\n",
    "#Southern Hemisphere - Temperature (F) vs. Latitude\n",
    "#Northern Hemisphere - Humidity (%) vs. Latitude\n",
    "#Southern Hemisphere - Humidity (%) vs. Latitude\n",
    "#Northern Hemisphere - Cloudiness (%) vs. Latitude\n",
    "#Southern Hemisphere - Cloudiness (%) vs. Latitude\n",
    "#Northern Hemisphere - Wind Speed (mph) vs. Latitude\n",
    "#Southern Hemisphere - Wind Speed (mph) vs. Latitude\n",
    "\n",
    "# explain what the linear regression is modeling. Describe any relationships and any other analysis\n",
    "\n",
    "#final notebook must:\n",
    "# Randomly select at least 500 unique (non-repeat) cities based on latitude and longitude.\n",
    "# Perform a weather check on each of the cities using a series of successive API calls.\n",
    "# Include a print log of each city as it's being processed with the city number and city name.\n",
    "# Save a CSV of all retrieved data and a PNG image for each scatter plot."
   ]
  },
  {
   "cell_type": "markdown",
   "metadata": {},
   "source": [
    "####  Northern Hemisphere - Max Temp vs. Latitude Linear Regression"
   ]
  },
  {
   "cell_type": "code",
   "execution_count": null,
   "metadata": {},
   "outputs": [],
   "source": [
    "# create dataframe for northern hemisphere\n",
    "N_hemisphere = weatherDF.loc[weatherDF[\"Latitude\"] >= 0]\n",
    "\n",
    "# Create a scatter plot for latitude vs temperature for northern hemisphere\n",
    "x_values = N_hemisphere[\"Latitude\"]\n",
    "y_values = N_hemisphere[\"Temp\"]\n",
    "plt.scatter(x_values, y_values, facecolors=\"darkblue\", marker=\"o\", edgecolor=\"white\")\n",
    "plt.xlabel('Latitude')\n",
    "plt.ylabel('Temperature (F)')\n",
    "plt.title(\"Nothern Hemisphere - City Latitude vs. Max Temperature (01/23/2022)\")\n",
    "\n",
    "plt.grid()\n",
    "plt.show()"
   ]
  },
  {
   "cell_type": "code",
   "execution_count": null,
   "metadata": {},
   "outputs": [],
   "source": [
    "# Perform a linear regression on Max temperature vs. latitude for Northern hemisphere\n",
    "(slope, intercept, rvalue, pvalue, stderr) = stats.linregress(x_values, y_values)\n",
    "\n",
    "# caculate regression values\n",
    "regress_values = x_values * slope + intercept\n",
    "print(regress_values)"
   ]
  },
  {
   "cell_type": "code",
   "execution_count": null,
   "metadata": {},
   "outputs": [],
   "source": [
    "# result of line equation string\n",
    "line_equation = \"y = \" + str(round(slope,2)) + \"x +\" + str(round(intercept,2))\n",
    "print(line_equation)"
   ]
  },
  {
   "cell_type": "code",
   "execution_count": null,
   "metadata": {},
   "outputs": [],
   "source": [
    "# Create plot for Northern hemisphere\n",
    "plt.scatter(x_values,y_values)\n",
    "plt.plot(x_values,regress_values,\"r-\")\n",
    "\n",
    "# Label plot and annotate the line equation\n",
    "plt.xlabel(\"Latitude\")\n",
    "plt.ylabel(\"Max Temperature\")\n",
    "\n",
    "#plt.text(1,1,line_equation, color='red')\n",
    "plt.annotate(line_equation,(0,0),fontsize=15,color=\"red\")\n",
    "\n",
    "# Print r value\n",
    "print(f\"The r-value is: {rvalue**2}\")\n",
    "\n",
    "plt.grid()\n",
    "plt.show()"
   ]
  },
  {
   "cell_type": "code",
   "execution_count": null,
   "metadata": {},
   "outputs": [],
   "source": [
    "# save plot as png file\n",
    "plt.savefig(\"N_hemisphere_CityLatitude_vs_Temp.png\")"
   ]
  },
  {
   "cell_type": "markdown",
   "metadata": {},
   "source": [
    "####  Southern Hemisphere - Max Temp vs. Latitude Linear Regression"
   ]
  },
  {
   "cell_type": "code",
   "execution_count": null,
   "metadata": {},
   "outputs": [],
   "source": [
    "# create dataframe for Southern Hemisphere\n",
    "S_hemisphere = weatherDF.loc[weatherDF[\"Latitude\"] < 0]\n",
    "\n",
    "# Create a scatter plot for latitude vs temperature for northern hemisphere\n",
    "x_values = S_hemisphere[\"Latitude\"]\n",
    "y_values = S_hemisphere[\"Temp\"]\n",
    "plt.scatter(x_values, y_values, facecolors=\"darkblue\", marker=\"o\", edgecolor=\"white\")\n",
    "plt.xlabel('Latitude')\n",
    "plt.ylabel('Temperature (F)')\n",
    "plt.title(\"Southern Hemisphere - City Latitude vs. Max Temperature (01/23/2022)\")\n",
    "\n",
    "plt.grid()\n",
    "plt.show()"
   ]
  },
  {
   "cell_type": "code",
   "execution_count": null,
   "metadata": {},
   "outputs": [],
   "source": [
    "# Perform a linear regression on Max temperature vs. latitude for Southern hemisphere\n",
    "(slope, intercept, rvalue, pvalue, stderr) = stats.linregress(x_values, y_values)\n",
    "\n",
    "# caculate regression values\n",
    "regress_values = x_values * slope + intercept\n",
    "print(regress_values)"
   ]
  },
  {
   "cell_type": "code",
   "execution_count": null,
   "metadata": {},
   "outputs": [],
   "source": [
    "# result of line equation string\n",
    "line_equation1 = \"y = \" + str(round(slope,2)) + \"x +\" + str(round(intercept,2))\n",
    "print(line_equation1)"
   ]
  },
  {
   "cell_type": "code",
   "execution_count": null,
   "metadata": {},
   "outputs": [],
   "source": [
    "# Create plot for Southern Hemisphere\n",
    "plt.scatter(x_values,y_values)\n",
    "plt.plot(x_values,regress_values,\"r-\")\n",
    "\n",
    "# Label plot and annotate the line equation\n",
    "plt.xlabel(\"Latitude\")\n",
    "plt.ylabel(\"Max Tempe\")\n",
    "\n",
    "#plt.text(0,0,line_equation1, color='red')\n",
    "plt.annotate(line_equation1,(0,0),fontsize=15,color=\"red\")\n",
    "\n",
    "# Print r value\n",
    "print(f\"The r-value is: {rvalue**2}\")\n",
    "\n",
    "plt.grid()\n",
    "plt.show()"
   ]
  },
  {
   "cell_type": "markdown",
   "metadata": {},
   "source": [
    "####  Northern Hemisphere - Humidity (%) vs. Latitude Linear Regression"
   ]
  },
  {
   "cell_type": "code",
   "execution_count": null,
   "metadata": {},
   "outputs": [],
   "source": []
  },
  {
   "cell_type": "markdown",
   "metadata": {},
   "source": [
    "####  Southern Hemisphere - Humidity (%) vs. Latitude Linear Regression"
   ]
  },
  {
   "cell_type": "code",
   "execution_count": null,
   "metadata": {},
   "outputs": [],
   "source": []
  },
  {
   "cell_type": "markdown",
   "metadata": {},
   "source": [
    "####  Northern Hemisphere - Cloudiness (%) vs. Latitude Linear Regression"
   ]
  },
  {
   "cell_type": "code",
   "execution_count": null,
   "metadata": {},
   "outputs": [],
   "source": []
  },
  {
   "cell_type": "markdown",
   "metadata": {},
   "source": [
    "####  Southern Hemisphere - Cloudiness (%) vs. Latitude Linear Regression"
   ]
  },
  {
   "cell_type": "code",
   "execution_count": null,
   "metadata": {},
   "outputs": [],
   "source": []
  },
  {
   "cell_type": "markdown",
   "metadata": {},
   "source": [
    "####  Northern Hemisphere - Wind Speed (mph) vs. Latitude Linear Regression"
   ]
  },
  {
   "cell_type": "code",
   "execution_count": null,
   "metadata": {},
   "outputs": [],
   "source": []
  },
  {
   "cell_type": "markdown",
   "metadata": {},
   "source": [
    "####  Southern Hemisphere - Wind Speed (mph) vs. Latitude Linear Regression"
   ]
  },
  {
   "cell_type": "code",
   "execution_count": null,
   "metadata": {},
   "outputs": [],
   "source": []
  },
  {
   "cell_type": "code",
   "execution_count": null,
   "metadata": {},
   "outputs": [],
   "source": []
  }
 ],
 "metadata": {
  "anaconda-cloud": {},
  "kernel_info": {
   "name": "python3"
  },
  "kernelspec": {
   "display_name": "Python 3",
   "language": "python",
   "name": "python3"
  },
  "language_info": {
   "codemirror_mode": {
    "name": "ipython",
    "version": 3
   },
   "file_extension": ".py",
   "mimetype": "text/x-python",
   "name": "python",
   "nbconvert_exporter": "python",
   "pygments_lexer": "ipython3",
   "version": "3.8.8"
  },
  "latex_envs": {
   "LaTeX_envs_menu_present": true,
   "autoclose": false,
   "autocomplete": true,
   "bibliofile": "biblio.bib",
   "cite_by": "apalike",
   "current_citInitial": 1,
   "eqLabelWithNumbers": true,
   "eqNumInitial": 1,
   "hotkeys": {
    "equation": "Ctrl-E",
    "itemize": "Ctrl-I"
   },
   "labels_anchors": false,
   "latex_user_defs": false,
   "report_style_numbering": false,
   "user_envs_cfg": false
  },
  "nteract": {
   "version": "0.12.3"
  }
 },
 "nbformat": 4,
 "nbformat_minor": 2
}
