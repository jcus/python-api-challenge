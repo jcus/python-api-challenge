{
 "cells": [
  {
   "cell_type": "markdown",
   "metadata": {},
   "source": [
    "# WeatherPy\n",
    "----\n",
    "\n",
    "#### Note\n",
    "* Instructions have been included for each segment. You do not have to follow them exactly, but they are included to help you think through the steps."
   ]
  },
  {
   "cell_type": "code",
   "execution_count": 1,
   "metadata": {},
   "outputs": [
    {
     "name": "stdout",
     "output_type": "stream",
     "text": [
      "Requirement already satisfied: citipy in c:\\programdata\\anaconda3\\lib\\site-packages (0.0.5)Note: you may need to restart the kernel to use updated packages.\n",
      "\n",
      "Requirement already satisfied: kdtree>=0.12 in c:\\programdata\\anaconda3\\lib\\site-packages (from citipy) (0.16)\n"
     ]
    }
   ],
   "source": [
    "pip install citipy"
   ]
  },
  {
   "cell_type": "code",
   "execution_count": 2,
   "metadata": {
    "scrolled": true
   },
   "outputs": [],
   "source": [
    "# Dependencies and Setup\n",
    "import matplotlib.pyplot as plt\n",
    "import pandas as pd\n",
    "import numpy as np\n",
    "import requests\n",
    "import time\n",
    "from scipy import stats\n",
    "#from scipy.stats import linregress\n",
    "import json\n",
    "\n",
    "# Incorporated citipy to determine city based on latitude and longitude\n",
    "from citipy import citipy\n",
    "\n",
    "## Import API key\n",
    "from api_keys import weather_api_key\n",
    "\n",
    "# under VBA add this line to .iginore to gnore the push/ modification of the config.py file\n",
    "# api_keys.py"
   ]
  },
  {
   "cell_type": "code",
   "execution_count": 3,
   "metadata": {},
   "outputs": [],
   "source": [
    "# Output File CSV\n",
    "output_data_file = \"output_data/cities.csv\"\n",
    "\n",
    "# Range of latitudes and longitudes\n",
    "lat_range = (-90, 90)\n",
    "lng_range = (-180, 180)"
   ]
  },
  {
   "cell_type": "markdown",
   "metadata": {},
   "source": [
    "# Generate Cities List"
   ]
  },
  {
   "cell_type": "code",
   "execution_count": 4,
   "metadata": {},
   "outputs": [],
   "source": [
    "# List for holding lat_lngs and cities\n",
    "lat_lngs = []\n",
    "cities = []\n",
    "\n",
    "# Create a set of random lat and lng combinations-- numpy, generate 1500 lats, lngs a piece\n",
    "lats = np.random.uniform(lat_range[0], lat_range[1], size=1500)\n",
    "lngs = np.random.uniform(lng_range[0], lng_range[1], size=1500)\n",
    "lat_lngs = zip(lats, lngs)"
   ]
  },
  {
   "cell_type": "code",
   "execution_count": 5,
   "metadata": {},
   "outputs": [
    {
     "data": {
      "text/plain": [
       "636"
      ]
     },
     "execution_count": 5,
     "metadata": {},
     "output_type": "execute_result"
    }
   ],
   "source": [
    "# Identify nearest city for each lat, lng combination\n",
    "for lat_lng in lat_lngs:\n",
    "    city = citipy.nearest_city(lat_lng[0], lat_lng[1]).city_name\n",
    "    \n",
    "    # If the city is unique, then add it to a our cities list\n",
    "    if city not in cities:\n",
    "        cities.append(city)\n",
    "\n",
    "# Print the city count to confirm sufficient count\n",
    "len(cities)"
   ]
  },
  {
   "cell_type": "markdown",
   "metadata": {},
   "source": [
    "### Perform API Calls\n",
    "* Perform a weather check on each city using a series of successive API calls.\n",
    "* Include a print log of each city as it'sbeing processed (with the city number and city name).\n"
   ]
  },
  {
   "cell_type": "code",
   "execution_count": 6,
   "metadata": {
    "scrolled": true
   },
   "outputs": [],
   "source": [
    "# the url info\n",
    "url = \"http://api.openweathermap.org/data/2.5/weather?\"\n",
    "units = \"metric\""
   ]
  },
  {
   "cell_type": "code",
   "execution_count": 7,
   "metadata": {},
   "outputs": [],
   "source": [
    "# url Query build\n",
    "Q_url = f\"{url}appid={weather_api_key}&units={units}&q=\"\n",
    "## url = f\"http://api.openweathermap.org/data/2.5/weather?units-imperial&APPID={weather_api_key}\""
   ]
  },
  {
   "cell_type": "code",
   "execution_count": 8,
   "metadata": {},
   "outputs": [
    {
     "name": "stdout",
     "output_type": "stream",
     "text": [
      "{\n",
      "      \"coord\": {\n",
      "            \"lon\": 34.2961,\n",
      "            \"lat\": -12.9274\n",
      "      },\n",
      "      \"weather\": [\n",
      "            {\n",
      "                  \"id\": 500,\n",
      "                  \"main\": \"Rain\",\n",
      "                  \"description\": \"light rain\",\n",
      "                  \"icon\": \"10n\"\n",
      "            }\n",
      "      ],\n",
      "      \"base\": \"stations\",\n",
      "      \"main\": {\n",
      "            \"temp\": 22.48,\n",
      "            \"feels_like\": 23.13,\n",
      "            \"temp_min\": 22.48,\n",
      "            \"temp_max\": 22.48,\n",
      "            \"pressure\": 1011,\n",
      "            \"humidity\": 90,\n",
      "            \"sea_level\": 1011,\n",
      "            \"grnd_level\": 956\n",
      "      },\n",
      "      \"visibility\": 10000,\n",
      "      \"wind\": {\n",
      "            \"speed\": 1.22,\n",
      "            \"deg\": 267,\n",
      "            \"gust\": 1.42\n",
      "      },\n",
      "      \"rain\": {\n",
      "            \"1h\": 0.21\n",
      "      },\n",
      "      \"clouds\": {\n",
      "            \"all\": 100\n",
      "      },\n",
      "      \"dt\": 1644950304,\n",
      "      \"sys\": {\n",
      "            \"country\": \"MW\",\n",
      "            \"sunrise\": 1644896502,\n",
      "            \"sunset\": 1644941548\n",
      "      },\n",
      "      \"timezone\": 7200,\n",
      "      \"id\": 924705,\n",
      "      \"name\": \"Nkhotakota\",\n",
      "      \"cod\": 200\n",
      "}\n"
     ]
    }
   ],
   "source": [
    "# Get city weather data\n",
    "weather_response = requests.get(Q_url + city)\n",
    "weather_json = weather_response.json()\n",
    "# converts a Python object into a json string-- dumps\n",
    "print(json.dumps(weather_json, indent=6))\n",
    "#print(weather_json)"
   ]
  },
  {
   "cell_type": "code",
   "execution_count": 9,
   "metadata": {},
   "outputs": [
    {
     "name": "stdout",
     "output_type": "stream",
     "text": [
      "<Response [200]>\n"
     ]
    }
   ],
   "source": [
    "# set empty for list of variables\n",
    "city_name = []\n",
    "latitude = []\n",
    "longitude = []\n",
    "temperature = []\n",
    "humidity = []\n",
    "cloudiness = []\n",
    "wind_speed = []\n",
    "country = []\n",
    "date = []\n",
    "\n",
    "# start record counting\n",
    "processing_record = 1 \n",
    "\n",
    "# check if responsw correct\n",
    "print(weather_response)\n",
    "#print(cities)"
   ]
  },
  {
   "cell_type": "code",
   "execution_count": 10,
   "metadata": {},
   "outputs": [
    {
     "name": "stdout",
     "output_type": "stream",
     "text": [
      "Beginning Data Retrieval      \n",
      "------------------------------\n",
      "Processing Record 1 | Qaanaaq\n",
      "Processing Record 2 | Longyearbyen\n",
      "Processing Record 3 | Busselton\n",
      "Processing Record 4 | Ancud\n",
      "City not found. Skipping...\n",
      "Processing Record 5 | Cape Town\n",
      "Processing Record 6 | Bethel\n",
      "Processing Record 7 | Avarua\n",
      "City not found. Skipping...\n",
      "Processing Record 8 | Tarancón\n",
      "Processing Record 9 | Albany\n",
      "City not found. Skipping...\n",
      "Processing Record 10 | Mataura\n",
      "Processing Record 11 | Caucayá\n",
      "Processing Record 12 | Punta Arenas\n",
      "City not found. Skipping...\n",
      "Processing Record 13 | Khovd\n",
      "Processing Record 14 | Emerald\n",
      "Processing Record 15 | Rikitea\n",
      "City not found. Skipping...\n",
      "Processing Record 16 | Tilichiki\n",
      "Processing Record 17 | East London\n",
      "City not found. Skipping...\n",
      "Processing Record 18 | Mandera\n",
      "Processing Record 19 | Atuona\n",
      "Processing Record 20 | Tambura\n",
      "Processing Record 21 | Kuito\n",
      "Processing Record 22 | Fomboni\n",
      "Processing Record 23 | Marquette\n",
      "Processing Record 24 | Mar del Plata\n",
      "Processing Record 25 | Hanmer Springs\n",
      "Processing Record 26 | Touros\n",
      "Processing Record 27 | Port Hedland\n",
      "Processing Record 28 | Yellowknife\n",
      "City not found. Skipping...\n",
      "Processing Record 29 | Kenora\n",
      "City not found. Skipping...\n",
      "Processing Record 30 | Jaicós\n",
      "Processing Record 31 | Puerto Peñasco\n",
      "Processing Record 32 | Masumbwe\n",
      "Processing Record 33 | Ushuaia\n",
      "Processing Record 34 | Hualmay\n",
      "Processing Record 35 | Carutapera\n",
      "Processing Record 36 | Kiunga\n",
      "City not found. Skipping...\n",
      "City not found. Skipping...\n",
      "Processing Record 37 | Mukhen\n",
      "Processing Record 38 | Bluff\n",
      "Processing Record 39 | Karaton\n",
      "Processing Record 40 | Puerto Ayora\n",
      "Processing Record 41 | Khatanga\n",
      "Processing Record 42 | Kutum\n",
      "Processing Record 43 | San Cristobal\n",
      "Processing Record 44 | Hong Kong\n",
      "Processing Record 45 | La Rioja\n",
      "Processing Record 46 | Topchikha\n",
      "Processing Record 47 | Gorontalo\n",
      "Processing Record 48 | Haines Junction\n",
      "City not found. Skipping...\n",
      "City not found. Skipping...\n",
      "Processing Record 49 | San Patricio\n",
      "Processing Record 50 | Borovskoy\n",
      "Processing Record 51 | New Norfolk\n",
      "Processing Record 52 | Bandi̇̄pur\n",
      "Processing Record 53 | Saskylakh\n",
      "City not found. Skipping...\n",
      "Processing Record 54 | Butaritari\n",
      "Processing Record 55 | Nizwá\n",
      "Processing Record 56 | Korla\n",
      "Processing Record 57 | Carnarvon\n",
      "Processing Record 58 | Astara\n",
      "Processing Record 59 | Vaini\n",
      "Processing Record 60 | Port Elizabeth\n",
      "Processing Record 61 | Aklavik\n",
      "Processing Record 62 | Yekimovichi\n",
      "Processing Record 63 | Nishihara\n",
      "Processing Record 64 | Khani\n",
      "Processing Record 65 | Mehamn\n",
      "Processing Record 66 | Kaeo\n",
      "Processing Record 67 | Coquimbo\n",
      "Processing Record 68 | Muzhi\n",
      "Processing Record 69 | Hobart\n",
      "Processing Record 70 | Penzance\n",
      "Processing Record 71 | Jamestown\n",
      "Processing Record 72 | Lorengau\n",
      "Processing Record 73 | Port Alfred\n",
      "Processing Record 74 | Barrow\n",
      "Processing Record 75 | Staryy Nadym\n",
      "Processing Record 76 | Hasaki\n",
      "Processing Record 77 | Cayenne\n",
      "Processing Record 78 | Aksu\n",
      "Processing Record 79 | Clyde River\n",
      "Processing Record 80 | Severo-Kuril'sk\n",
      "Processing Record 81 | Mahuta\n",
      "Processing Record 82 | Ballina\n",
      "Processing Record 83 | Marzuq\n",
      "Processing Record 84 | Imaichi\n",
      "Processing Record 85 | Palatka\n",
      "Processing Record 86 | Bengkulu\n",
      "Processing Record 87 | Pisco\n",
      "Processing Record 88 | Brownsville\n",
      "Processing Record 89 | Provideniya\n",
      "Processing Record 90 | Faanui\n",
      "Processing Record 91 | Chepareria\n",
      "Processing Record 92 | Ponta do Sol\n",
      "Processing Record 93 | Farafangana\n",
      "Processing Record 94 | Prince Rupert\n",
      "Processing Record 95 | Nantucket\n",
      "Processing Record 96 | Hermanus\n",
      "Processing Record 97 | Laramie\n",
      "Processing Record 98 | Breza\n",
      "Processing Record 99 | Tsogni\n",
      "Processing Record 100 | Bahía Blanca\n",
      "City not found. Skipping...\n",
      "Processing Record 101 | Lavrentiya\n",
      "Processing Record 102 | Bariloche\n",
      "Processing Record 103 | Inhambane\n",
      "Processing Record 104 | Zhanakorgan\n",
      "Processing Record 105 | Sibu\n",
      "Processing Record 106 | Saint George\n",
      "Processing Record 107 | Upernavik\n",
      "Processing Record 108 | Novobiryusinskiy\n",
      "Processing Record 109 | Saint-Philippe\n",
      "Processing Record 110 | Yerbogachën\n",
      "City not found. Skipping...\n",
      "Processing Record 111 | Nikolskoye\n",
      "Processing Record 112 | Srednekolymsk\n",
      "Processing Record 113 | Arman'\n",
      "Processing Record 114 | Oranjemund\n",
      "Processing Record 115 | Saint-Joseph\n",
      "Processing Record 116 | Norman Wells\n",
      "Processing Record 117 | Grants Pass\n",
      "Processing Record 118 | Paraúna\n",
      "Processing Record 119 | Yerofey Pavlovich\n",
      "Processing Record 120 | Souillac\n",
      "Processing Record 121 | Hailar\n",
      "Processing Record 122 | Temyasovo\n",
      "Processing Record 123 | Eureka\n",
      "Processing Record 124 | Chapais\n",
      "Processing Record 125 | Comodoro Rivadavia\n",
      "Processing Record 126 | Golspie\n",
      "Processing Record 127 | Katsuura\n",
      "Processing Record 128 | Bredasdorp\n",
      "Processing Record 129 | Khanbari\n",
      "Processing Record 130 | Gazli\n",
      "Processing Record 131 | Sīwah\n",
      "Processing Record 132 | Kiryat Gat\n",
      "Processing Record 133 | Bambous Virieux\n",
      "Processing Record 134 | Ostrovnoy\n",
      "Processing Record 135 | Ribeira Grande\n",
      "Processing Record 136 | Shahr-e Bābak\n",
      "Processing Record 137 | Pontal do Paraná\n",
      "City not found. Skipping...\n",
      "Processing Record 138 | Hithadhoo\n",
      "Processing Record 139 | Lufilufi\n",
      "Processing Record 140 | Antofagasta\n",
      "Processing Record 141 | Kahului\n",
      "Processing Record 142 | Altamira\n",
      "Processing Record 143 | Qazanbulaq\n",
      "Processing Record 144 | Chumikan\n",
      "Processing Record 145 | Saint Anthony\n",
      "Processing Record 146 | Östersund\n",
      "Processing Record 147 | ‘Āhuimanu\n",
      "Processing Record 148 | Mitzic\n",
      "Processing Record 149 | Diego de Almagro\n",
      "Processing Record 150 | Havelock\n",
      "Processing Record 151 | Hambantota\n",
      "Processing Record 152 | Alice Springs\n",
      "Processing Record 153 | Pevek\n",
      "Processing Record 154 | Jinchang\n",
      "Processing Record 155 | São Filipe\n",
      "Processing Record 156 | Parker\n",
      "Processing Record 157 | Alenquer\n",
      "Processing Record 158 | Aranos\n",
      "Processing Record 159 | Djibouti\n",
      "Processing Record 160 | Bandarbeyla\n",
      "Processing Record 161 | Richards Bay\n",
      "Processing Record 162 | Albania\n",
      "Processing Record 163 | Mercedes\n",
      "Processing Record 164 | Dawei\n",
      "Processing Record 165 | Fethiye\n",
      "Processing Record 166 | Merauke\n",
      "Processing Record 167 | Wagar\n",
      "Processing Record 168 | Majene\n",
      "Processing Record 169 | Champerico\n",
      "Processing Record 170 | Cabedelo\n",
      "Processing Record 171 | Hilo\n",
      "Processing Record 172 | Thompson\n",
      "Processing Record 173 | Olafsvik\n",
      "Processing Record 174 | Dargaville\n",
      "Processing Record 175 | Lerwick\n",
      "Processing Record 176 | Port Blair\n",
      "Processing Record 177 | Mahon\n",
      "Processing Record 178 | Laguna\n",
      "Processing Record 179 | Răstoliţa\n",
      "Processing Record 180 | Cabinda\n",
      "Processing Record 181 | Krasnomayskiy\n",
      "City not found. Skipping...\n",
      "Processing Record 182 | Lompoc\n",
      "City not found. Skipping...\n",
      "Processing Record 183 | Lebu\n",
      "Processing Record 184 | Dikson\n",
      "Processing Record 185 | Saint Paul Harbor\n",
      "Processing Record 186 | Zhangzhou\n",
      "Processing Record 187 | Castro\n",
      "Processing Record 188 | Grindavik\n",
      "City not found. Skipping...\n",
      "Processing Record 189 | Changping\n",
      "Processing Record 190 | Zeya\n",
      "Processing Record 191 | Barra de Tecoanapa\n",
      "Processing Record 192 | Llangefni\n",
      "Processing Record 193 | Esso\n",
      "Processing Record 194 | Diré\n",
      "Processing Record 195 | Praia\n",
      "Processing Record 196 | Tasiilaq\n",
      "Processing Record 197 | Kapaa\n",
      "Processing Record 198 | Sinnamary\n",
      "Processing Record 199 | Divo\n",
      "Processing Record 200 | Avera\n",
      "Processing Record 201 | Vila Velha\n",
      "Processing Record 202 | Saldanha\n",
      "Processing Record 203 | Cherskiy\n",
      "Processing Record 204 | Hue\n",
      "Processing Record 205 | Ribas do Rio Pardo\n",
      "Processing Record 206 | Gratkorn\n",
      "Processing Record 207 | Sinegor'ye\n",
      "Processing Record 208 | Narsaq\n",
      "Processing Record 209 | La Rioja\n",
      "Processing Record 210 | Ardmore\n",
      "Processing Record 211 | Manyana\n",
      "Processing Record 212 | Chenzhou\n",
      "Processing Record 213 | Honiara\n",
      "Processing Record 214 | Perevolotskiy\n",
      "Processing Record 215 | Kisanga\n",
      "Processing Record 216 | San Miguel de Cozumel\n",
      "Processing Record 217 | Pangkalanbuun\n",
      "Processing Record 218 | Leningradskiy\n",
      "Processing Record 219 | Mount Gambier\n",
      "City not found. Skipping...\n",
      "Processing Record 220 | Krasnosel'kup\n",
      "Processing Record 221 | Port Hardy\n",
      "Processing Record 222 | Kachug\n",
      "Processing Record 223 | Lüderitz\n",
      "Processing Record 224 | Camopi\n",
      "Processing Record 225 | Baijiantan\n",
      "Processing Record 226 | Tanout\n",
      "Processing Record 227 | Lufkin\n",
      "Processing Record 228 | Pucallpa\n",
      "City not found. Skipping...\n"
     ]
    },
    {
     "name": "stdout",
     "output_type": "stream",
     "text": [
      "Processing Record 229 | Jacareacanga\n",
      "Processing Record 230 | College\n",
      "Processing Record 231 | Burayevo\n",
      "Processing Record 232 | Galesong\n",
      "Processing Record 233 | Acapulco de Juárez\n",
      "Processing Record 234 | Kaitangata\n",
      "Processing Record 235 | Ixtapa\n",
      "Processing Record 236 | Winnemucca\n",
      "Processing Record 237 | Xining\n",
      "Processing Record 238 | Suez\n",
      "Processing Record 239 | Tuktoyaktuk\n",
      "Processing Record 240 | Cidreira\n",
      "Processing Record 241 | Griffith\n",
      "Processing Record 242 | Tiksi\n",
      "Processing Record 243 | Port Macquarie\n",
      "Processing Record 244 | Tocopilla\n",
      "Processing Record 245 | St. George's\n",
      "Processing Record 246 | São José da Coroa Grande\n",
      "Processing Record 247 | Buraidah\n",
      "Processing Record 248 | Atar\n",
      "Processing Record 249 | Khātra\n",
      "Processing Record 250 | Samarai\n",
      "Processing Record 251 | Chokurdakh\n",
      "Processing Record 252 | Rio Grande\n",
      "Processing Record 253 | Hammerfest\n",
      "Processing Record 254 | Chui\n",
      "Processing Record 255 | Evensk\n",
      "Processing Record 256 | Pahrump\n",
      "Processing Record 257 | Lębork\n",
      "Processing Record 258 | Murdochville\n",
      "Processing Record 259 | San Quintín\n",
      "Processing Record 260 | Buala\n",
      "Processing Record 261 | Vestmannaeyjar\n",
      "Processing Record 262 | Petropavlovsk-Kamchatskiy\n",
      "Processing Record 263 | Beipiao\n",
      "Processing Record 264 | Necochea\n",
      "Processing Record 265 | Kattivākkam\n",
      "Processing Record 266 | Aberdeen\n",
      "Processing Record 267 | Pangnirtung\n",
      "Processing Record 268 | Yenagoa\n",
      "City not found. Skipping...\n",
      "Processing Record 269 | Wahiawā\n",
      "Processing Record 270 | Klaksvík\n",
      "Processing Record 271 | Arraial do Cabo\n",
      "Processing Record 272 | Bosaso\n",
      "Processing Record 273 | Vredendal\n",
      "Processing Record 274 | Joquicingo\n",
      "Processing Record 275 | Berlevåg\n",
      "Processing Record 276 | Channel-Port aux Basques\n",
      "Processing Record 277 | Yumen\n",
      "Processing Record 278 | São Desidério\n",
      "Processing Record 279 | West Wendover\n",
      "City not found. Skipping...\n",
      "Processing Record 280 | Beian\n",
      "Processing Record 281 | Torbay\n",
      "Processing Record 282 | Sosnovo-Ozerskoye\n",
      "Processing Record 283 | Kazachinskoye\n",
      "Processing Record 284 | Nanortalik\n",
      "Processing Record 285 | Vysotskoye\n",
      "Processing Record 286 | Kirakira\n",
      "Processing Record 287 | Zhigansk\n",
      "Processing Record 288 | Kununurra\n",
      "Processing Record 289 | Alekseyevsk\n",
      "Processing Record 290 | Kendrapara\n",
      "Processing Record 291 | Basco\n",
      "Processing Record 292 | Padang\n",
      "Processing Record 293 | General Pico\n",
      "Processing Record 294 | Araouane\n",
      "Processing Record 295 | Novyye Gorki\n",
      "Processing Record 296 | Adrar\n",
      "Processing Record 297 | Obo\n",
      "Processing Record 298 | Townsville\n",
      "Processing Record 299 | Velizh\n",
      "Processing Record 300 | Talnakh\n",
      "Processing Record 301 | Camacupa\n",
      "City not found. Skipping...\n",
      "Processing Record 302 | Egvekinot\n",
      "City not found. Skipping...\n",
      "Processing Record 303 | Isangel\n",
      "Processing Record 304 | Wanning\n",
      "Processing Record 305 | Golden\n",
      "Processing Record 306 | Qasigiannguit\n",
      "Processing Record 307 | Laas\n",
      "City not found. Skipping...\n",
      "Processing Record 308 | Shīeli\n",
      "Processing Record 309 | Superior\n",
      "Processing Record 310 | Abong Mbang\n",
      "Processing Record 311 | Ugoofaaru\n",
      "Processing Record 312 | Fortuna\n",
      "Processing Record 313 | Chipinge\n",
      "Processing Record 314 | General Roca\n",
      "Processing Record 315 | Geraldton\n",
      "Processing Record 316 | Kushiro\n",
      "Processing Record 317 | Cham\n",
      "Processing Record 318 | Banda Aceh\n",
      "Processing Record 319 | Ubari\n",
      "Processing Record 320 | Birobidzhan\n",
      "Processing Record 321 | Samaná\n",
      "Processing Record 322 | Iglesias\n",
      "City not found. Skipping...\n",
      "City not found. Skipping...\n",
      "Processing Record 323 | Tobermory\n",
      "Processing Record 324 | Pundaguitan\n",
      "Processing Record 325 | Whitefish Bay\n",
      "Processing Record 326 | Cumana\n",
      "Processing Record 327 | Alofi\n",
      "Processing Record 328 | Walvis Bay\n",
      "Processing Record 329 | Meulaboh\n",
      "Processing Record 330 | Morón\n",
      "Processing Record 331 | Vanimo\n",
      "Processing Record 332 | Grand Gaube\n",
      "Processing Record 333 | Pauini\n",
      "Processing Record 334 | Lagoa\n",
      "Processing Record 335 | Henties Bay\n",
      "Processing Record 336 | Vostok\n",
      "Processing Record 337 | Yeppoon\n",
      "Processing Record 338 | Tuatapere\n",
      "Processing Record 339 | Almaty\n",
      "Processing Record 340 | Lengshuitan\n",
      "Processing Record 341 | Mae Sot\n",
      "Processing Record 342 | Fredericksburg\n",
      "Processing Record 343 | Sokolo\n",
      "Processing Record 344 | Khandyga\n",
      "Processing Record 345 | Oktyabr'skiy\n",
      "City not found. Skipping...\n",
      "Processing Record 346 | Port Moresby\n",
      "Processing Record 347 | Zapolyarnyy\n",
      "Processing Record 348 | Eyl\n",
      "Processing Record 349 | Nouadhibou\n",
      "Processing Record 350 | Zhovkva\n",
      "Processing Record 351 | Manjacaze\n",
      "Processing Record 352 | Manta\n",
      "Processing Record 353 | Esperance\n",
      "Processing Record 354 | Vardø\n",
      "City not found. Skipping...\n",
      "Processing Record 355 | Mahébourg\n",
      "Processing Record 356 | Farah\n",
      "Processing Record 357 | Alugan\n",
      "Processing Record 358 | Piploda\n",
      "Processing Record 359 | Togur\n",
      "Processing Record 360 | Vao\n",
      "Processing Record 361 | Whitehorse\n",
      "Processing Record 362 | Rūdbār\n",
      "Processing Record 363 | Turaif\n",
      "Processing Record 364 | Margate\n",
      "Processing Record 365 | Batemans Bay\n",
      "Processing Record 366 | Abulug\n",
      "Processing Record 367 | Karratha\n",
      "Processing Record 368 | Pinawa\n",
      "Processing Record 369 | Tual\n",
      "Processing Record 370 | Dombarovskiy\n",
      "Processing Record 371 | Zambezi\n",
      "Processing Record 372 | Port Hawkesbury\n",
      "Processing Record 373 | Sioux Lookout\n",
      "Processing Record 374 | Erzincan Province\n",
      "Processing Record 375 | Takoradze\n",
      "Processing Record 376 | Kavieng\n",
      "Processing Record 377 | Kristinestad\n",
      "Processing Record 378 | Waitati\n",
      "Processing Record 379 | Jalu\n",
      "Processing Record 380 | Ahipara\n",
      "Processing Record 381 | Muhafazat Lahij\n",
      "Processing Record 382 | Puerto Padre\n",
      "Processing Record 383 | Bud\n",
      "City not found. Skipping...\n",
      "Processing Record 384 | Malatya Province\n",
      "Processing Record 385 | Agadir\n",
      "Processing Record 386 | Salalah\n",
      "Processing Record 387 | Puerto Berrío\n",
      "Processing Record 388 | San Miguel de Tucumán\n",
      "Processing Record 389 | Sayansk\n",
      "Processing Record 390 | Soure\n",
      "Processing Record 391 | Prado\n",
      "Processing Record 392 | San Jose\n",
      "Processing Record 393 | Svetlaya\n",
      "Processing Record 394 | Assiut\n",
      "Processing Record 395 | Chardara\n",
      "Processing Record 396 | Nioro\n",
      "Processing Record 397 | Iqaluit\n",
      "Processing Record 398 | Hofn\n",
      "Processing Record 399 | Laem Sing\n",
      "Processing Record 400 | Nabire\n",
      "Processing Record 401 | Kushima\n",
      "Processing Record 402 | Sterling\n",
      "Processing Record 403 | Wilmington\n",
      "Processing Record 404 | Kerema\n",
      "City not found. Skipping...\n",
      "Processing Record 405 | Stornoway\n",
      "Processing Record 406 | Flinders\n",
      "Processing Record 407 | Pitimbu\n",
      "City not found. Skipping...\n",
      "Processing Record 408 | Puli\n",
      "City not found. Skipping...\n",
      "Processing Record 409 | Banjar\n",
      "Processing Record 410 | Portland\n",
      "Processing Record 411 | Nome\n",
      "Processing Record 412 | Palora\n",
      "City not found. Skipping...\n",
      "Processing Record 413 | Luanda\n",
      "Processing Record 414 | Dzerzhinskoye\n",
      "Processing Record 415 | Kidal\n",
      "Processing Record 416 | Chapleau\n",
      "Processing Record 417 | Los Llanos de Aridane\n",
      "City not found. Skipping...\n",
      "Processing Record 418 | Preobrazheniye\n",
      "Processing Record 419 | Constitución\n",
      "Processing Record 420 | Bichura\n",
      "Processing Record 421 | San Jose de Guanipa\n",
      "Processing Record 422 | Luján\n",
      "Processing Record 423 | Auki\n",
      "Processing Record 424 | Daru\n",
      "Processing Record 425 | Dolores\n",
      "Processing Record 426 | Gambo\n",
      "Processing Record 427 | Nikolayevka\n",
      "Processing Record 428 | Hamilton\n",
      "Processing Record 429 | Sitka\n",
      "Processing Record 430 | Hastings\n",
      "Processing Record 431 | Moose Factory\n",
      "Processing Record 432 | Camabatela\n",
      "City not found. Skipping...\n",
      "Processing Record 433 | Chara\n",
      "Processing Record 434 | Faya\n",
      "Processing Record 435 | Boralday\n",
      "Processing Record 436 | Ilo\n",
      "Processing Record 437 | Cabo San Lucas\n",
      "Processing Record 438 | Warah\n",
      "Processing Record 439 | Aars\n",
      "Processing Record 440 | Arlit\n",
      "Processing Record 441 | Kyaukse\n",
      "Processing Record 442 | Mujiayingzi\n",
      "Processing Record 443 | Kenai\n",
      "Processing Record 444 | Tarakan\n",
      "Processing Record 445 | Anadyr\n",
      "Processing Record 446 | Lata\n",
      "Processing Record 447 | Fuyu\n",
      "City not found. Skipping...\n",
      "City not found. Skipping...\n",
      "Processing Record 448 | Ippy\n",
      "Processing Record 449 | Mae Sai\n",
      "Processing Record 450 | Guerrero Negro\n",
      "Processing Record 451 | Pozo Colorado\n",
      "Processing Record 452 | Mabaruma\n",
      "Processing Record 453 | Santa Helena de Goiás\n",
      "Processing Record 454 | Boa Vista\n",
      "Processing Record 455 | Vidim\n",
      "Processing Record 456 | Muros\n",
      "Processing Record 457 | Hobyo\n",
      "Processing Record 458 | Naze\n"
     ]
    },
    {
     "name": "stdout",
     "output_type": "stream",
     "text": [
      "Processing Record 459 | Tomatlán\n",
      "Processing Record 460 | Lochgilphead\n",
      "Processing Record 461 | Kruisfontein\n",
      "Processing Record 462 | Tsumeb\n",
      "Processing Record 463 | Mumbwa\n",
      "City not found. Skipping...\n",
      "Processing Record 464 | Skibbereen\n",
      "Processing Record 465 | Kupang\n",
      "Processing Record 466 | Acarí\n",
      "Processing Record 467 | Tiruchchendur\n",
      "Processing Record 468 | Dingle\n",
      "Processing Record 469 | Lázaro Cárdenas\n",
      "Processing Record 470 | Darnah\n",
      "Processing Record 471 | Kuala Selangor\n",
      "Processing Record 472 | Nelson Bay\n",
      "Processing Record 473 | Nardaran\n",
      "Processing Record 474 | Kysyl-Syr\n",
      "Processing Record 475 | Nandigāma\n",
      "Processing Record 476 | Kyra\n",
      "Processing Record 477 | Ketchikan\n",
      "Processing Record 478 | Kirya\n",
      "Processing Record 479 | Charlestown\n",
      "Processing Record 480 | Tepalcatepec\n",
      "Processing Record 481 | Airai\n",
      "Processing Record 482 | Tura\n",
      "Processing Record 483 | Northam\n",
      "Processing Record 484 | Altay\n",
      "Processing Record 485 | Mossamedes\n",
      "Processing Record 486 | Kiruna\n",
      "Processing Record 487 | George Town\n",
      "Processing Record 488 | Broome\n",
      "Processing Record 489 | Sergeevka\n",
      "Processing Record 490 | Itoman\n",
      "Processing Record 491 | Barreirinhas\n",
      "Processing Record 492 | Cobija\n",
      "Processing Record 493 | Zhuhai\n",
      "Processing Record 494 | Juradó\n",
      "Processing Record 495 | Santo Amaro\n",
      "Processing Record 496 | Carbonia\n",
      "Processing Record 497 | Bemidji\n",
      "Processing Record 498 | Lewisporte\n",
      "Processing Record 499 | Mareeba\n",
      "Processing Record 500 | Goroka\n",
      "Processing Record 501 | Sarāhan\n",
      "Processing Record 502 | Muli\n",
      "City not found. Skipping...\n",
      "Processing Record 503 | Great Bend\n",
      "Processing Record 504 | Mendeleyevsk\n",
      "Processing Record 505 | Malakal\n",
      "Processing Record 506 | Viedma\n",
      "Processing Record 507 | Puerto Escondido\n",
      "Processing Record 508 | Huarmey\n",
      "Processing Record 509 | Chastyye\n",
      "Processing Record 510 | Talakan\n",
      "Processing Record 511 | Ouango\n",
      "Processing Record 512 | Waingapu\n",
      "Processing Record 513 | La Libertad\n",
      "Processing Record 514 | Dongsheng\n",
      "Processing Record 515 | Myanaung\n",
      "Processing Record 516 | Mackay\n",
      "Processing Record 517 | Oxford\n",
      "City not found. Skipping...\n",
      "Processing Record 518 | Narón\n",
      "Processing Record 519 | Behbahān\n",
      "Processing Record 520 | Shumskiy\n",
      "Processing Record 521 | Asău\n",
      "Processing Record 522 | Gold Coast\n",
      "Processing Record 523 | San Angelo\n",
      "Processing Record 524 | Annau\n",
      "Processing Record 525 | Great Falls\n",
      "City not found. Skipping...\n",
      "City not found. Skipping...\n",
      "Processing Record 526 | Homer\n",
      "Processing Record 527 | Issenye\n",
      "Processing Record 528 | Paamiut\n",
      "Processing Record 529 | Launceston\n",
      "Processing Record 530 | Hajós\n",
      "Processing Record 531 | Namatanai\n",
      "Processing Record 532 | Pangai\n",
      "Processing Record 533 | Marabu\n",
      "Processing Record 534 | Šiauliai\n",
      "Processing Record 535 | Jamiltepec\n",
      "Processing Record 536 | Orikum\n",
      "City not found. Skipping...\n",
      "Processing Record 537 | Eydhafushi\n",
      "Processing Record 538 | Tazovsky\n",
      "Processing Record 539 | Frolovo\n",
      "Processing Record 540 | Plouzané\n",
      "Processing Record 541 | Byron Bay\n",
      "Processing Record 542 | Umm Kaddadah\n",
      "Processing Record 543 | Kurchum\n",
      "Processing Record 544 | Luyang\n",
      "Processing Record 545 | Big Rapids\n",
      "Processing Record 546 | Nuuk\n",
      "Processing Record 547 | Sola\n",
      "Processing Record 548 | Mount Isa\n",
      "City not found. Skipping...\n",
      "Processing Record 549 | Tiznit Province\n",
      "Processing Record 550 | Bardsīr\n",
      "City not found. Skipping...\n",
      "Processing Record 551 | Kargasok\n",
      "Processing Record 552 | Departamento de Maldonado\n",
      "Processing Record 553 | Orimattila\n",
      "Processing Record 554 | Karauli\n",
      "Processing Record 555 | Lumatil\n",
      "Processing Record 556 | Calama\n",
      "Processing Record 557 | Ust-Nera\n",
      "Processing Record 558 | Ambon City\n",
      "Processing Record 559 | Sembabule\n",
      "Processing Record 560 | Sabha\n",
      "Processing Record 561 | Fichē\n",
      "Processing Record 562 | Inza\n",
      "Processing Record 563 | Umluj\n",
      "Processing Record 564 | Bethanien\n",
      "Processing Record 565 | Semey\n",
      "Processing Record 566 | Żnin\n",
      "Processing Record 567 | Panabá\n",
      "Processing Record 568 | Utica\n",
      "Processing Record 569 | Ossora\n",
      "Processing Record 570 | Tommot\n",
      "Processing Record 571 | Suruç\n",
      "Processing Record 572 | Marsh Harbour\n",
      "City not found. Skipping...\n",
      "Processing Record 573 | Imeni Poliny Osipenko\n",
      "Processing Record 574 | Tautira\n",
      "Processing Record 575 | Bilibino\n",
      "City not found. Skipping...\n",
      "Processing Record 576 | Kavaratti\n",
      "Processing Record 577 | Saint-Augustin\n",
      "Processing Record 578 | Cockburn Town\n",
      "City not found. Skipping...\n",
      "Processing Record 579 | Awjilah\n",
      "Processing Record 580 | Pilar\n",
      "Processing Record 581 | Ipixuna\n",
      "Processing Record 582 | Port-Gentil\n",
      "Processing Record 583 | Tshane\n",
      "Processing Record 584 | Little Current\n",
      "Processing Record 585 | Ilulissat\n",
      "Processing Record 586 | Nkhotakota\n",
      "------------------------------\n",
      "Data Retrieval Complete!!    \n",
      "------------------------------\n"
     ]
    }
   ],
   "source": [
    "# data retrive process start\n",
    "\n",
    "# print to logger\n",
    "print(f\"Beginning Data Retrieval      \")\n",
    "print(f\"------------------------------\")\n",
    "\n",
    "# Loop through each city\n",
    "for city in cities:\n",
    "    \n",
    "    # try to get the response for each city\n",
    "    try:\n",
    "        #run API requests and retrive the data\n",
    "        response = requests.get(Q_url + city).json()\n",
    "        \n",
    "        ## add a time delay to avoid blowing out the API key\n",
    "        #time.sleep(1)\n",
    "        \n",
    "        city_name.append(response[\"name\"])\n",
    "        latitude.append(response[\"coord\"][\"lat\"])\n",
    "        longitude.append(response[\"coord\"][\"lon\"])\n",
    "        temperature.append(response[\"main\"][\"temp\"])\n",
    "        humidity.append(response[\"main\"][\"humidity\"])\n",
    "        cloudiness.append(response[\"clouds\"][\"all\"])\n",
    "        wind_speed.append(response[\"wind\"][\"speed\"])\n",
    "        country.append(response[\"sys\"][\"country\"])\n",
    "        date.append(response[\"dt\"])\n",
    "        city_record = response[\"name\"]\n",
    "        print(f\"Processing Record {processing_record} | {city_record}\")\n",
    "        \n",
    "        # increase record counting by 1\n",
    "        processing_record += 1\n",
    "        \n",
    "    except:\n",
    "        print(\"City not found. Skipping...\") \n",
    "    pass\n",
    "\n",
    "print(f\"------------------------------\")\n",
    "print(f\"Data Retrieval Complete!!    \")\n",
    "print(f\"------------------------------\")"
   ]
  },
  {
   "cell_type": "markdown",
   "metadata": {},
   "source": [
    "### Convert Raw Data to DataFrame\n",
    "* Export the city data into a .csv.\n",
    "* Display the DataFrame"
   ]
  },
  {
   "cell_type": "code",
   "execution_count": 11,
   "metadata": {},
   "outputs": [
    {
     "data": {
      "text/html": [
       "<div>\n",
       "<style scoped>\n",
       "    .dataframe tbody tr th:only-of-type {\n",
       "        vertical-align: middle;\n",
       "    }\n",
       "\n",
       "    .dataframe tbody tr th {\n",
       "        vertical-align: top;\n",
       "    }\n",
       "\n",
       "    .dataframe thead th {\n",
       "        text-align: right;\n",
       "    }\n",
       "</style>\n",
       "<table border=\"1\" class=\"dataframe\">\n",
       "  <thead>\n",
       "    <tr style=\"text-align: right;\">\n",
       "      <th></th>\n",
       "      <th>City</th>\n",
       "      <th>Latitude</th>\n",
       "      <th>Longitude</th>\n",
       "      <th>Temp</th>\n",
       "      <th>Humidity</th>\n",
       "      <th>Cloudiness</th>\n",
       "      <th>Wind Speed</th>\n",
       "      <th>Country</th>\n",
       "      <th>Date</th>\n",
       "    </tr>\n",
       "  </thead>\n",
       "  <tbody>\n",
       "    <tr>\n",
       "      <th>0</th>\n",
       "      <td>Qaanaaq</td>\n",
       "      <td>77.4840</td>\n",
       "      <td>-69.3632</td>\n",
       "      <td>-27.80</td>\n",
       "      <td>79</td>\n",
       "      <td>95</td>\n",
       "      <td>2.96</td>\n",
       "      <td>GL</td>\n",
       "      <td>1644950304</td>\n",
       "    </tr>\n",
       "    <tr>\n",
       "      <th>1</th>\n",
       "      <td>Longyearbyen</td>\n",
       "      <td>78.2186</td>\n",
       "      <td>15.6401</td>\n",
       "      <td>-9.09</td>\n",
       "      <td>86</td>\n",
       "      <td>100</td>\n",
       "      <td>3.60</td>\n",
       "      <td>SJ</td>\n",
       "      <td>1644950304</td>\n",
       "    </tr>\n",
       "    <tr>\n",
       "      <th>2</th>\n",
       "      <td>Busselton</td>\n",
       "      <td>-33.6500</td>\n",
       "      <td>115.3333</td>\n",
       "      <td>20.58</td>\n",
       "      <td>74</td>\n",
       "      <td>0</td>\n",
       "      <td>5.07</td>\n",
       "      <td>AU</td>\n",
       "      <td>1644950305</td>\n",
       "    </tr>\n",
       "    <tr>\n",
       "      <th>3</th>\n",
       "      <td>Ancud</td>\n",
       "      <td>-41.8697</td>\n",
       "      <td>-73.8203</td>\n",
       "      <td>17.29</td>\n",
       "      <td>81</td>\n",
       "      <td>100</td>\n",
       "      <td>4.44</td>\n",
       "      <td>CL</td>\n",
       "      <td>1644950305</td>\n",
       "    </tr>\n",
       "    <tr>\n",
       "      <th>4</th>\n",
       "      <td>Cape Town</td>\n",
       "      <td>-33.9258</td>\n",
       "      <td>18.4232</td>\n",
       "      <td>21.77</td>\n",
       "      <td>72</td>\n",
       "      <td>20</td>\n",
       "      <td>4.63</td>\n",
       "      <td>ZA</td>\n",
       "      <td>1644950249</td>\n",
       "    </tr>\n",
       "  </tbody>\n",
       "</table>\n",
       "</div>"
      ],
      "text/plain": [
       "           City  Latitude  Longitude   Temp  Humidity  Cloudiness  Wind Speed  \\\n",
       "0       Qaanaaq   77.4840   -69.3632 -27.80        79          95        2.96   \n",
       "1  Longyearbyen   78.2186    15.6401  -9.09        86         100        3.60   \n",
       "2     Busselton  -33.6500   115.3333  20.58        74           0        5.07   \n",
       "3         Ancud  -41.8697   -73.8203  17.29        81         100        4.44   \n",
       "4     Cape Town  -33.9258    18.4232  21.77        72          20        4.63   \n",
       "\n",
       "  Country        Date  \n",
       "0      GL  1644950304  \n",
       "1      SJ  1644950304  \n",
       "2      AU  1644950305  \n",
       "3      CL  1644950305  \n",
       "4      ZA  1644950249  "
      ]
     },
     "execution_count": 11,
     "metadata": {},
     "output_type": "execute_result"
    }
   ],
   "source": [
    "# define dataframe then display\n",
    "weather_data = {\n",
    "    \"City\": city_name,\n",
    "    \"Latitude\": latitude,\n",
    "    \"Longitude\": longitude,\n",
    "    \"Temp\": temperature,\n",
    "    \"Humidity\": humidity,\n",
    "    \"Cloudiness\": cloudiness,\n",
    "    \"Wind Speed\": wind_speed,\n",
    "    \"Country\": country,\n",
    "    \"Date\": date\n",
    "}\n",
    "weatherDF = pd.DataFrame(weather_data)\n",
    "\n",
    "weatherDF.head()"
   ]
  },
  {
   "cell_type": "code",
   "execution_count": 12,
   "metadata": {},
   "outputs": [],
   "source": [
    "# export data to CSV file\n",
    "weatherDF.to_csv(\"Weather_Output.csv\")"
   ]
  },
  {
   "cell_type": "markdown",
   "metadata": {},
   "source": [
    "## Inspect the data and remove the cities where the humidity > 100%.\n",
    "----\n",
    "Skip this step if there are no cities that have humidity > 100%. "
   ]
  },
  {
   "cell_type": "code",
   "execution_count": 13,
   "metadata": {},
   "outputs": [],
   "source": [
    "#Lat\tLng\tMax Temp\tHumidity\tCloudiness\tWind Speed\tDate\n",
    "# count\t550.000000\t550.000000\t550.000000\t550.000000\t550.000000\t550.000000\t5.500000e+02"
   ]
  },
  {
   "cell_type": "code",
   "execution_count": 14,
   "metadata": {},
   "outputs": [],
   "source": [
    "# Get the indices of cities that have humidity over 100%.\n",
    "# Int64Index([], dtype='int64')"
   ]
  },
  {
   "cell_type": "code",
   "execution_count": 15,
   "metadata": {},
   "outputs": [],
   "source": [
    "# Make a new DataFrame equal to the city data to drop all humidity outliers by index.\n",
    "# Passing \"inplace=False\" will make a copy of the city_data DataFrame, which we call \"clean_city_data\".\n",
    "# City\tLat\tLng\tMax Temp\tHumidity\tCloudiness\tWind Speed\tCountry\tDate\n",
    "# 0\tbutaritari\t3.07\t172.79\t83.32\t74\t84\t10.42\tKI\t1593605283"
   ]
  },
  {
   "cell_type": "code",
   "execution_count": null,
   "metadata": {},
   "outputs": [],
   "source": []
  },
  {
   "cell_type": "markdown",
   "metadata": {},
   "source": [
    "## Plotting the Data\n",
    "* Use proper labeling of the plots using plot titles (including date of analysis) and axes labels.\n",
    "* Save the plotted figures as .pngs."
   ]
  },
  {
   "cell_type": "code",
   "execution_count": 16,
   "metadata": {},
   "outputs": [],
   "source": [
    "## Create a series of scatter plots to showcase the following relationships:\n",
    "#  Temperature (F) vs. Latitude\n",
    "#  Humidity (%) vs. Latitude\n",
    "#  Cloudiness (%) vs. Latitude\n",
    "#  Wind Speed (mph) vs. Latitude"
   ]
  },
  {
   "cell_type": "code",
   "execution_count": 17,
   "metadata": {},
   "outputs": [],
   "source": [
    "## Save plot to the selected directory. If the directory does not exist, it is created.\n",
    "\n",
    "#import os\n",
    "#import matplotlib.pyplot as plt\n",
    "\n",
    "#script_dir = os.path.dirname(__file__)\n",
    "#results_dir = os.path.join(script_dir, 'Results/')\n",
    "#plot_file_name = \"CityLatitude_vs_Temperature\"\n",
    "\n",
    "#if not os.path.isdir(results_dir):\n",
    "#    os.makedirs(results_dir)\n",
    "\n",
    "#plt.plot([1,2,3,4])\n",
    "#plt.ylabel('some numbers')\n",
    "#plt.savefig(results_dir + sample_file_name)"
   ]
  },
  {
   "cell_type": "markdown",
   "metadata": {},
   "source": [
    "## Latitude vs. Temperature Plot"
   ]
  },
  {
   "cell_type": "code",
   "execution_count": 18,
   "metadata": {
    "scrolled": true
   },
   "outputs": [
    {
     "data": {
      "image/png": "[encoded data removed]",
      "text/plain": [
       "<Figure size 432x288 with 1 Axes>"
      ]
     },
     "metadata": {
      "needs_background": "light"
     },
     "output_type": "display_data"
    },
    {
     "name": "stdout",
     "output_type": "stream",
     "text": [
      "\u001b[1mThe relationship between City Latitude and Temperature shows as the scatter plot above. \n",
      "\n",
      "All latitude lines are parallel from East to West as circles to the equator, \n",
      "Temperature is inversely related to latitude.  \n",
      "As latitude increases, the temperature falls, and vice versa. \n",
      "\u001b[0m\n"
     ]
    }
   ],
   "source": [
    "# Create a scatter plot for Temperature (F) vs. Latitude\n",
    "plt.scatter(weatherDF['Latitude'], weatherDF[\"Temp\"], facecolors = \"darkblue\", edgecolor =\"white\", marker=\"o\")\n",
    "\n",
    "plt.xlabel(\"Latitude\")\n",
    "plt.ylabel(\"Max Temperature (F)\")\n",
    "plt.title(\"City Latitude vs. Max Temperature (01/23/2022)\")\n",
    "\n",
    "# save plot as png file before show\n",
    "plt.savefig(\"CityLatitude_vs_Temp.png\")\n",
    "\n",
    "plt.grid()\n",
    "plt.show()\n",
    "\n",
    "# bold print '\\033[1m'+ words +'\\033[0m'\n",
    "print('\\033[1m' +\"The relationship between City Latitude and Temperature shows as the scatter plot above. \\n\" \n",
    "      \"\\n\"\n",
    "      \"All latitude lines are parallel from East to West as circles to the equator, \\n\"\n",
    "      \"Temperature is inversely related to latitude.  \\n\"\n",
    "      \"As latitude increases, the temperature falls, and vice versa. \\n\"+'\\033[0m')"
   ]
  },
  {
   "cell_type": "markdown",
   "metadata": {},
   "source": [
    "## Latitude vs. Humidity Plot"
   ]
  },
  {
   "cell_type": "code",
   "execution_count": 19,
   "metadata": {},
   "outputs": [
    {
     "data": {
      "image/png": "[encoded data removed]",
      "text/plain": [
       "<Figure size 432x288 with 1 Axes>"
      ]
     },
     "metadata": {
      "needs_background": "light"
     },
     "output_type": "display_data"
    },
    {
     "name": "stdout",
     "output_type": "stream",
     "text": [
      "\u001b[1mThe relationship between City Latitude and Humidity shows as the scatter plot above. \n",
      "Since the humidity also meansures water vapor in the air, warm air can possess more water vapor (moisture)\n",
      "then cold air, air will have a higher relative humidity if the air is cooler. The cities with higer Latitude \n",
      "will be moisture with the same amount of absolute/specific humidity, then the cities with lower latitude.\n",
      "\u001b[0m\n"
     ]
    }
   ],
   "source": [
    "# Create a scatter plot for Humidity (%) vs. Latitude\n",
    "\n",
    "plt.scatter(weatherDF[\"Latitude\"], weatherDF[\"Humidity\"], facecolors = \"darkblue\", edgecolor =\"white\", marker=\"1\")\n",
    "\n",
    "plt.xlabel(\"Latitude\")\n",
    "plt.ylabel(\"Humidity (%)\")\n",
    "plt.title(\"City Latitude vs. Humidity (%) (01/23/2022)\")\n",
    "\n",
    "# save plot as png file\n",
    "plt.savefig(\"CityLatitude_vs_Humidity.png\")\n",
    "\n",
    "plt.grid()\n",
    "plt.show()\n",
    "\n",
    "# bold print '\\033[1m'+ words +'\\033[0m'\n",
    "print('\\033[1m' +\"The relationship between City Latitude and Humidity shows as the scatter plot above. \\n\" \n",
    "      \"Since the humidity also meansures water vapor in the air, warm air can possess more water vapor (moisture)\\n\"\n",
    "      \"then cold air, air will have a higher relative humidity if the air is cooler. The cities with higer Latitude \\n\"\n",
    "      \"will be moisture with the same amount of absolute/specific humidity, then the cities with lower latitude.\\n\"\n",
    "      +'\\033[0m')"
   ]
  },
  {
   "cell_type": "markdown",
   "metadata": {},
   "source": [
    "## Latitude vs. Cloudiness Plot"
   ]
  },
  {
   "cell_type": "code",
   "execution_count": 20,
   "metadata": {},
   "outputs": [
    {
     "data": {
      "image/png": "[encoded data removed]",
      "text/plain": [
       "<Figure size 432x288 with 1 Axes>"
      ]
     },
     "metadata": {
      "needs_background": "light"
     },
     "output_type": "display_data"
    },
    {
     "name": "stdout",
     "output_type": "stream",
     "text": [
      "\u001b[1mThe relationship between City Latitude and Cloudiness (%) shows as the scatter plot above. \n",
      "Clouds tend to form in abundance in the middle latitudes to north and south of the equator.\n",
      "There are three broad bands where Earth’s skies are most likely to be cloudy. \n",
      "\u001b[0m\n"
     ]
    }
   ],
   "source": [
    "# Create a scatter plot for Cloudiness (%) vs. Latitude\n",
    "\n",
    "plt.scatter(weatherDF[\"Latitude\"], weatherDF[\"Cloudiness\"], facecolors = \"darkblue\", edgecolor =\"white\", marker=\"o\")\n",
    "\n",
    "plt.xlabel(\"Latitude\")\n",
    "plt.ylabel(\"Cloudiness (%)\")\n",
    "plt.title(\"City Latitude vs. Cloudiness (%)   (01/23/2022)\")\n",
    "\n",
    "# save plot as png file before show\n",
    "plt.savefig(\"CityLatitude_vs_Cloudiness.png\")\n",
    "\n",
    "plt.grid()\n",
    "plt.show()\n",
    "\n",
    "# bold print '\\033[1m'+ words +'\\033[0m'\n",
    "print('\\033[1m' +\n",
    "      \"The relationship between City Latitude and Cloudiness (%) shows as the scatter plot above. \\n\" \n",
    "      \"Clouds tend to form in abundance in the middle latitudes to north and south of the equator.\\n\"\n",
    "      \"There are three broad bands where Earth’s skies are most likely to be cloudy. \\n\"\n",
    "      +'\\033[0m')"
   ]
  },
  {
   "cell_type": "markdown",
   "metadata": {},
   "source": [
    "## Latitude vs. Wind Speed Plot"
   ]
  },
  {
   "cell_type": "code",
   "execution_count": 21,
   "metadata": {},
   "outputs": [
    {
     "data": {
      "image/png": "[encoded data removed]",
      "text/plain": [
       "<Figure size 432x288 with 1 Axes>"
      ]
     },
     "metadata": {
      "needs_background": "light"
     },
     "output_type": "display_data"
    },
    {
     "name": "stdout",
     "output_type": "stream",
     "text": [
      "\u001b[1mThe relationship between City Latitude and Wind Speed (mph) shows as the scatter plot above. \n",
      "the speed of wind is determined by the magnitude of the air pressure difference make the air move \n",
      "from high pressure to low.  with greater speeds resulting from greater air pressure differences.\n",
      "Observations show that the wind speed increases equatorward in low latitudes while the wind speed decreases. \n",
      "\u001b[0m\n"
     ]
    }
   ],
   "source": [
    "#Create a scatter plot for Wind Speed (mph) vs. Latitude\n",
    "\n",
    "plt.scatter(weatherDF[\"Latitude\"], weatherDF[\"Wind Speed\"], facecolors = \"darkblue\", edgecolor =\"white\", marker=\"o\")\n",
    "\n",
    "plt.xlabel(\"Latitude\")\n",
    "plt.ylabel(\"Wind Speed (mph)\")\n",
    "plt.title(\"City Latitude vs. Wind Speed (mph)   (01/23/2022)\")\n",
    "\n",
    "# save plot as png file\n",
    "plt.savefig(\"CityLatitude_vs_WindSpeed.png\")\n",
    "\n",
    "plt.grid()\n",
    "plt.show()\n",
    "\n",
    "# bold print '\\033[1m'+ words +'\\033[0m'\n",
    "print('\\033[1m' +\n",
    "      \"The relationship between City Latitude and Wind Speed (mph) shows as the scatter plot above. \\n\" \n",
    "      \"the speed of wind is determined by the magnitude of the air pressure difference make the air move \\n\"\n",
    "      \"from high pressure to low.  with greater speeds resulting from greater air pressure differences.\\n\"\n",
    "      \"Observations show that the wind speed increases equatorward in low latitudes while the wind speed decreases. \\n\"\n",
    "      +'\\033[0m')"
   ]
  },
  {
   "cell_type": "markdown",
   "metadata": {},
   "source": [
    "## Linear Regression"
   ]
  },
  {
   "cell_type": "code",
   "execution_count": 22,
   "metadata": {},
   "outputs": [],
   "source": [
    "# Separate the plots into Northern Hemisphere (>=0 degrees latitude) and Southern Hemisphere (<0 degrees latitude):\n",
    "\n",
    "#Northern Hemisphere - Temperature (F) vs. Latitude\n",
    "#Southern Hemisphere - Temperature (F) vs. Latitude\n",
    "#Northern Hemisphere - Humidity (%) vs. Latitude\n",
    "#Southern Hemisphere - Humidity (%) vs. Latitude\n",
    "#Northern Hemisphere - Cloudiness (%) vs. Latitude\n",
    "#Southern Hemisphere - Cloudiness (%) vs. Latitude\n",
    "#Northern Hemisphere - Wind Speed (mph) vs. Latitude\n",
    "#Southern Hemisphere - Wind Speed (mph) vs. Latitude\n",
    "\n",
    "# explain what the linear regression is modeling. Describe any relationships and any other analysis\n",
    "\n",
    "#final notebook must:\n",
    "# Randomly select at least 500 unique (non-repeat) cities based on latitude and longitude.\n",
    "# Perform a weather check on each of the cities using a series of successive API calls.\n",
    "# Include a print log of each city as it's being processed with the city number and city name.\n",
    "# Save a CSV of all retrieved data and a PNG image for each scatter plot."
   ]
  },
  {
   "cell_type": "markdown",
   "metadata": {},
   "source": [
    "####  Northern Hemisphere - Max Temp vs. Latitude Linear Regression"
   ]
  },
  {
   "cell_type": "code",
   "execution_count": 23,
   "metadata": {},
   "outputs": [
    {
     "data": {
      "image/png": "[encoded data removed]",
      "text/plain": [
       "<Figure size 432x288 with 1 Axes>"
      ]
     },
     "metadata": {
      "needs_background": "light"
     },
     "output_type": "display_data"
    }
   ],
   "source": [
    "# create dataframe for northern hemisphere\n",
    "N_hemisphere = weatherDF.loc[weatherDF[\"Latitude\"] >= 0]\n",
    "\n",
    "# Create a scatter plot for latitude vs temperature for northern hemisphere\n",
    "x_values = N_hemisphere[\"Latitude\"]\n",
    "y_values = N_hemisphere[\"Temp\"]\n",
    "plt.scatter(x_values, y_values, facecolors=\"darkblue\", marker=\"o\", edgecolor=\"white\")\n",
    "plt.xlabel('Latitude')\n",
    "plt.ylabel('Temperature (F)')\n",
    "plt.title(\"Nothern Hemisphere - City Latitude vs. Max Temperature (01/23/2022)\")\n",
    "\n",
    "plt.grid()\n",
    "plt.show()"
   ]
  },
  {
   "cell_type": "code",
   "execution_count": 24,
   "metadata": {},
   "outputs": [
    {
     "name": "stdout",
     "output_type": "stream",
     "text": [
      "0     -28.507807\n",
      "1     -29.113440\n",
      "5       1.264988\n",
      "7       2.388451\n",
      "8       0.251835\n",
      "         ...    \n",
      "576    -6.859692\n",
      "577    17.679565\n",
      "578    11.375164\n",
      "583    -2.534109\n",
      "584   -21.691924\n",
      "Name: Latitude, Length: 398, dtype: float64\n"
     ]
    }
   ],
   "source": [
    "# Perform a linear regression on Max temperature vs. latitude for Northern hemisphere\n",
    "(slope, intercept, rvalue, pvalue, stderr) = stats.linregress(x_values, y_values)\n",
    "\n",
    "# caculate regression values\n",
    "regress_values = x_values * slope + intercept\n",
    "print(regress_values)"
   ]
  },
  {
   "cell_type": "code",
   "execution_count": 25,
   "metadata": {},
   "outputs": [
    {
     "name": "stdout",
     "output_type": "stream",
     "text": [
      "y = -0.82x +35.37\n"
     ]
    }
   ],
   "source": [
    "# result of line equation string\n",
    "line_equation = \"y = \" + str(round(slope,2)) + \"x +\" + str(round(intercept,2))\n",
    "print(line_equation)"
   ]
  },
  {
   "cell_type": "code",
   "execution_count": null,
   "metadata": {},
   "outputs": [],
   "source": [
    "# Create plot for Northern hemisphere\n",
    "plt.scatter(x_values,y_values)\n",
    "plt.plot(x_values,regress_values,\"r-\")\n",
    "\n",
    "# Label plot and annotate the line equation\n",
    "plt.xlabel(\"Latitude\")\n",
    "plt.ylabel(\"Max Temperature\")\n",
    "\n",
    "#plt.text(1,1,line_equation, color='red')\n",
    "plt.annotate(line_equation,(0,0),fontsize=15,color=\"red\")\n",
    "\n",
    "# Print r value\n",
    "print(f\"The r-value is: {rvalue**2}\")\n",
    "\n",
    "# save plot as png file\n",
    "plt.savefig(\"N_hemisphere_CityLatitude_vs_Temp.png\")\n",
    "\n",
    "plt.grid()\n",
    "plt.show()"
   ]
  },
  {
   "cell_type": "markdown",
   "metadata": {},
   "source": [
    "####  Southern Hemisphere - Max Temp vs. Latitude Linear Regression"
   ]
  },
  {
   "cell_type": "code",
   "execution_count": null,
   "metadata": {},
   "outputs": [],
   "source": [
    "# create dataframe for Southern Hemisphere\n",
    "S_hemisphere = weatherDF.loc[weatherDF[\"Latitude\"] < 0]\n",
    "\n",
    "# Create a scatter plot for latitude vs temperature for northern hemisphere\n",
    "x_values = S_hemisphere[\"Latitude\"]\n",
    "y_values = S_hemisphere[\"Temp\"]\n",
    "plt.scatter(x_values, y_values, facecolors=\"darkblue\", marker=\"o\", edgecolor=\"white\")\n",
    "plt.xlabel('Latitude')\n",
    "plt.ylabel('Temperature (F)')\n",
    "plt.title(\"Southern Hemisphere - City Latitude vs. Max Temperature (01/23/2022)\")\n",
    "\n",
    "plt.grid()\n",
    "plt.show()"
   ]
  },
  {
   "cell_type": "code",
   "execution_count": null,
   "metadata": {},
   "outputs": [],
   "source": [
    "# Perform a linear regression on Max temperature vs. latitude for Southern hemisphere\n",
    "(slope, intercept, rvalue, pvalue, stderr) = stats.linregress(x_values, y_values)\n",
    "\n",
    "# caculate regression values\n",
    "regress_values = x_values * slope + intercept\n",
    "print(regress_values)"
   ]
  },
  {
   "cell_type": "code",
   "execution_count": null,
   "metadata": {},
   "outputs": [],
   "source": [
    "# result of line equation string\n",
    "line_equation1 = \"y = \" + str(round(slope,2)) + \"x +\" + str(round(intercept,2))\n",
    "print(line_equation1)"
   ]
  },
  {
   "cell_type": "code",
   "execution_count": null,
   "metadata": {},
   "outputs": [],
   "source": [
    "# Create plot for Southern Hemisphere\n",
    "plt.scatter(x_values,y_values)\n",
    "plt.plot(x_values,regress_values,\"r-\")\n",
    "\n",
    "# Label plot and annotate the line equation\n",
    "plt.xlabel(\"Latitude\")\n",
    "plt.ylabel(\"Max Tempe\")\n",
    "\n",
    "plt.scatter(x_values, y_values, facecolors=\"darkblue\", marker=\"o\", edgecolor=\"white\")\n",
    "plt.xlabel('Latitude')\n",
    "plt.ylabel('Max Temperature (F)')\n",
    "plt.title(\"Southern Hemisphere - City Latitude vs. Max Temperature (01/23/2022)\")\n",
    "\n",
    "#plt.text(0,0,line_equation1, color='red')\n",
    "plt.annotate({line_equation1},(0,0),fontsize=15,color=\"red\")\n",
    "\n",
    "# Print r value\n",
    "print(f\"The r-value is: {rvalue**2}\")\n",
    "\n",
    "# save plot as png file\n",
    "plt.savefig(\"S_Hemi_CityLatitude_vs_MaxTemp_LinearReg\")\n",
    "\n",
    "plt.grid()\n",
    "plt.show()"
   ]
  },
  {
   "cell_type": "markdown",
   "metadata": {},
   "source": [
    "####  Northern Hemisphere - Humidity (%) vs. Latitude Linear Regression"
   ]
  },
  {
   "cell_type": "code",
   "execution_count": null,
   "metadata": {},
   "outputs": [],
   "source": []
  },
  {
   "cell_type": "markdown",
   "metadata": {},
   "source": [
    "####  Southern Hemisphere - Humidity (%) vs. Latitude Linear Regression"
   ]
  },
  {
   "cell_type": "code",
   "execution_count": null,
   "metadata": {},
   "outputs": [],
   "source": []
  },
  {
   "cell_type": "markdown",
   "metadata": {},
   "source": [
    "####  Northern Hemisphere - Cloudiness (%) vs. Latitude Linear Regression"
   ]
  },
  {
   "cell_type": "code",
   "execution_count": null,
   "metadata": {},
   "outputs": [],
   "source": []
  },
  {
   "cell_type": "markdown",
   "metadata": {},
   "source": [
    "####  Southern Hemisphere - Cloudiness (%) vs. Latitude Linear Regression"
   ]
  },
  {
   "cell_type": "code",
   "execution_count": null,
   "metadata": {},
   "outputs": [],
   "source": []
  },
  {
   "cell_type": "markdown",
   "metadata": {},
   "source": [
    "####  Northern Hemisphere - Wind Speed (mph) vs. Latitude Linear Regression"
   ]
  },
  {
   "cell_type": "code",
   "execution_count": null,
   "metadata": {},
   "outputs": [],
   "source": []
  },
  {
   "cell_type": "markdown",
   "metadata": {},
   "source": [
    "####  Southern Hemisphere - Wind Speed (mph) vs. Latitude Linear Regression"
   ]
  },
  {
   "cell_type": "code",
   "execution_count": null,
   "metadata": {},
   "outputs": [],
   "source": []
  },
  {
   "cell_type": "code",
   "execution_count": null,
   "metadata": {},
   "outputs": [],
   "source": []
  }
 ],
 "metadata": {
  "anaconda-cloud": {},
  "kernel_info": {
   "name": "python3"
  },
  "kernelspec": {
   "display_name": "Python 3",
   "language": "python",
   "name": "python3"
  },
  "language_info": {
   "codemirror_mode": {
    "name": "ipython",
    "version": 3
   },
   "file_extension": ".py",
   "mimetype": "text/x-python",
   "name": "python",
   "nbconvert_exporter": "python",
   "pygments_lexer": "ipython3",
   "version": "3.8.8"
  },
  "latex_envs": {
   "LaTeX_envs_menu_present": true,
   "autoclose": false,
   "autocomplete": true,
   "bibliofile": "biblio.bib",
   "cite_by": "apalike",
   "current_citInitial": 1,
   "eqLabelWithNumbers": true,
   "eqNumInitial": 1,
   "hotkeys": {
    "equation": "Ctrl-E",
    "itemize": "Ctrl-I"
   },
   "labels_anchors": false,
   "latex_user_defs": false,
   "report_style_numbering": false,
   "user_envs_cfg": false
  },
  "nteract": {
   "version": "0.12.3"
  }
 },
 "nbformat": 4,
 "nbformat_minor": 2
}
