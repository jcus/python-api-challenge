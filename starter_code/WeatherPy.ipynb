{
 "cells": [
  {
   "cell_type": "markdown",
   "metadata": {},
   "source": [
    "# WeatherPy\n",
    "----\n",
    "\n",
    "#### Note\n",
    "* Instructions have been included for each segment. You do not have to follow them exactly, but they are included to help you think through the steps."
   ]
  },
  {
   "cell_type": "code",
   "execution_count": 1,
   "metadata": {},
   "outputs": [
    {
     "name": "stdout",
     "output_type": "stream",
     "text": [
      "Requirement already satisfied: citipy in c:\\programdata\\anaconda3\\lib\\site-packages (0.0.5)\n",
      "Requirement already satisfied: kdtree>=0.12 in c:\\programdata\\anaconda3\\lib\\site-packages (from citipy) (0.16)\n",
      "Note: you may need to restart the kernel to use updated packages.\n"
     ]
    }
   ],
   "source": [
    "pip install citipy"
   ]
  },
  {
   "cell_type": "code",
   "execution_count": 2,
   "metadata": {
    "scrolled": true
   },
   "outputs": [],
   "source": [
    "# Dependencies and Setup\n",
    "import matplotlib.pyplot as plt\n",
    "import pandas as pd\n",
    "import numpy as np\n",
    "import requests\n",
    "import time\n",
    "from scipy import stats\n",
    "#from scipy.stats import linregress\n",
    "import json\n",
    "\n",
    "# Incorporated citipy to determine city based on latitude and longitude\n",
    "from citipy import citipy\n",
    "\n",
    "## Import API key\n",
    "from api_keys import weather_api_key\n",
    "\n",
    "# under VBA add this line to .iginore to gnore the push/ modification of the config.py file\n",
    "# api_keys.py"
   ]
  },
  {
   "cell_type": "code",
   "execution_count": 3,
   "metadata": {},
   "outputs": [],
   "source": [
    "# Output File CSV\n",
    "output_data_file = \"output_data/cities.csv\"\n",
    "\n",
    "# Range of latitudes and longitudes\n",
    "lat_range = (-90, 90)\n",
    "lng_range = (-180, 180)"
   ]
  },
  {
   "cell_type": "markdown",
   "metadata": {},
   "source": [
    "# Generate Cities List"
   ]
  },
  {
   "cell_type": "code",
   "execution_count": 4,
   "metadata": {},
   "outputs": [],
   "source": [
    "# List for holding lat_lngs and cities\n",
    "lat_lngs = []\n",
    "cities = []\n",
    "\n",
    "# Create a set of random lat and lng combinations-- numpy, generate 1500 lats, lngs a piece\n",
    "lats = np.random.uniform(lat_range[0], lat_range[1], size=1500)\n",
    "lngs = np.random.uniform(lng_range[0], lng_range[1], size=1500)\n",
    "lat_lngs = zip(lats, lngs)"
   ]
  },
  {
   "cell_type": "code",
   "execution_count": 5,
   "metadata": {},
   "outputs": [
    {
     "data": {
      "text/plain": [
       "612"
      ]
     },
     "execution_count": 5,
     "metadata": {},
     "output_type": "execute_result"
    }
   ],
   "source": [
    "# Identify nearest city for each lat, lng combination\n",
    "for lat_lng in lat_lngs:\n",
    "    city = citipy.nearest_city(lat_lng[0], lat_lng[1]).city_name\n",
    "    \n",
    "    # If the city is unique, then add it to a our cities list\n",
    "    if city not in cities:\n",
    "        cities.append(city)\n",
    "\n",
    "# Print the city count to confirm sufficient count\n",
    "len(cities)"
   ]
  },
  {
   "cell_type": "markdown",
   "metadata": {},
   "source": [
    "### Perform API Calls\n",
    "* Perform a weather check on each city using a series of successive API calls.\n",
    "* Include a print log of each city as it'sbeing processed (with the city number and city name).\n"
   ]
  },
  {
   "cell_type": "code",
   "execution_count": 6,
   "metadata": {
    "scrolled": true
   },
   "outputs": [],
   "source": [
    "# the url info\n",
    "url = \"http://api.openweathermap.org/data/2.5/weather?\"\n",
    "units = \"metric\""
   ]
  },
  {
   "cell_type": "code",
   "execution_count": 7,
   "metadata": {},
   "outputs": [],
   "source": [
    "# url Query build\n",
    "Q_url = f\"{url}appid={weather_api_key}&units={units}&q=\"\n",
    "## url = f\"http://api.openweathermap.org/data/2.5/weather?units-imperial&APPID={weather_api_key}\""
   ]
  },
  {
   "cell_type": "code",
   "execution_count": 8,
   "metadata": {},
   "outputs": [
    {
     "name": "stdout",
     "output_type": "stream",
     "text": [
      "{\n",
      "      \"coord\": {\n",
      "            \"lon\": -70.9167,\n",
      "            \"lat\": -53.15\n",
      "      },\n",
      "      \"weather\": [\n",
      "            {\n",
      "                  \"id\": 801,\n",
      "                  \"main\": \"Clouds\",\n",
      "                  \"description\": \"few clouds\",\n",
      "                  \"icon\": \"02n\"\n",
      "            }\n",
      "      ],\n",
      "      \"base\": \"stations\",\n",
      "      \"main\": {\n",
      "            \"temp\": 7.06,\n",
      "            \"feels_like\": 3.1,\n",
      "            \"temp_min\": 7.06,\n",
      "            \"temp_max\": 7.84,\n",
      "            \"pressure\": 995,\n",
      "            \"humidity\": 81\n",
      "      },\n",
      "      \"visibility\": 10000,\n",
      "      \"wind\": {\n",
      "            \"speed\": 7.2,\n",
      "            \"deg\": 270\n",
      "      },\n",
      "      \"clouds\": {\n",
      "            \"all\": 20\n",
      "      },\n",
      "      \"dt\": 1646456706,\n",
      "      \"sys\": {\n",
      "            \"type\": 1,\n",
      "            \"id\": 8487,\n",
      "            \"country\": \"CL\",\n",
      "            \"sunrise\": 1646475447,\n",
      "            \"sunset\": 1646523190\n",
      "      },\n",
      "      \"timezone\": -10800,\n",
      "      \"id\": 3874787,\n",
      "      \"name\": \"Punta Arenas\",\n",
      "      \"cod\": 200\n",
      "}\n"
     ]
    }
   ],
   "source": [
    "# Get city weather data\n",
    "weather_response = requests.get(Q_url + city)\n",
    "weather_json = weather_response.json()\n",
    "# converts a Python object into a json string-- dumps\n",
    "print(json.dumps(weather_json, indent=6))\n",
    "#print(weather_json)"
   ]
  },
  {
   "cell_type": "code",
   "execution_count": 9,
   "metadata": {},
   "outputs": [
    {
     "name": "stdout",
     "output_type": "stream",
     "text": [
      "<Response [200]>\n"
     ]
    }
   ],
   "source": [
    "# set empty for list of variables\n",
    "city_name = []\n",
    "latitude = []\n",
    "longitude = []\n",
    "temperature = []\n",
    "humidity = []\n",
    "cloudiness = []\n",
    "wind_speed = []\n",
    "country = []\n",
    "date = []\n",
    "\n",
    "# start record counting\n",
    "processing_record = 1 \n",
    "\n",
    "# check if responsw correct\n",
    "print(weather_response)\n",
    "#print(cities)"
   ]
  },
  {
   "cell_type": "code",
   "execution_count": 10,
   "metadata": {},
   "outputs": [
    {
     "name": "stdout",
     "output_type": "stream",
     "text": [
      "Beginning Data Retrieval      \n",
      "------------------------------\n",
      "Processing Record 1 | Chui\n",
      "Processing Record 2 | Provideniya\n",
      "Processing Record 3 | Saint-Philippe\n",
      "Processing Record 4 | Qaanaaq\n",
      "Processing Record 5 | Castro\n",
      "Processing Record 6 | Khatanga\n",
      "Processing Record 7 | Bambous Virieux\n",
      "Processing Record 8 | Cidreira\n",
      "Processing Record 9 | Chiang Khong\n",
      "Processing Record 10 | Ponta do Sol\n",
      "Processing Record 11 | Kohlu\n",
      "Processing Record 12 | Japura\n",
      "City not found. Skipping...\n",
      "Processing Record 13 | Avarua\n",
      "Processing Record 14 | Phuthaditjhaba\n",
      "Processing Record 15 | Mataura\n",
      "Processing Record 16 | Verkhoyansk\n",
      "Processing Record 17 | Iquitos\n",
      "Processing Record 18 | Ushuaia\n",
      "Processing Record 19 | Butaritari\n",
      "Processing Record 20 | Isangel\n",
      "Processing Record 21 | Hobart\n",
      "Processing Record 22 | Barrow\n",
      "Processing Record 23 | Makkah al Mukarramah\n",
      "Processing Record 24 | Iqaluit\n",
      "Processing Record 25 | Alofi\n",
      "Processing Record 26 | George Town\n",
      "Processing Record 27 | Leningradskiy\n",
      "City not found. Skipping...\n",
      "Processing Record 28 | Mahébourg\n",
      "Processing Record 29 | Faya\n",
      "Processing Record 30 | Kapaa\n",
      "Processing Record 31 | Vila Velha\n",
      "Processing Record 32 | Yellowknife\n",
      "Processing Record 33 | Yatou\n",
      "Processing Record 34 | Lebu\n",
      "Processing Record 35 | Faanui\n",
      "Processing Record 36 | Moerai\n",
      "Processing Record 37 | Hithadhoo\n",
      "Processing Record 38 | New Baltimore\n",
      "Processing Record 39 | Morón\n",
      "Processing Record 40 | Verkhnevilyuysk\n",
      "Processing Record 41 | Kota Kinabalu\n",
      "City not found. Skipping...\n",
      "Processing Record 42 | Hengyang\n",
      "Processing Record 43 | Busselton\n",
      "Processing Record 44 | Lima\n",
      "Processing Record 45 | Ribeira Grande\n",
      "Processing Record 46 | Narsaq\n",
      "Processing Record 47 | Mweka\n",
      "Processing Record 48 | Valparaíso\n",
      "Processing Record 49 | Tecolutla\n",
      "Processing Record 50 | Aksarka\n",
      "Processing Record 51 | Bluff\n",
      "Processing Record 52 | Sobolevo\n",
      "Processing Record 53 | New Norfolk\n",
      "Processing Record 54 | Invermere\n",
      "Processing Record 55 | Dikson\n",
      "Processing Record 56 | Bilibino\n",
      "Processing Record 57 | Cafarnaum\n",
      "Processing Record 58 | Thompson\n",
      "Processing Record 59 | Punta Arenas\n",
      "Processing Record 60 | Saskylakh\n",
      "Processing Record 61 | Albany\n",
      "Processing Record 62 | Fairbanks\n",
      "City not found. Skipping...\n",
      "Processing Record 63 | Porto Belo\n",
      "Processing Record 64 | Bethel\n",
      "Processing Record 65 | Ilovlya\n",
      "Processing Record 66 | Benghazi\n",
      "City not found. Skipping...\n",
      "Processing Record 67 | San Patricio\n",
      "Processing Record 68 | Pacific Grove\n",
      "Processing Record 69 | Rikitea\n",
      "Processing Record 70 | College\n",
      "Processing Record 71 | Kangaatsiaq\n",
      "Processing Record 72 | Camaná\n",
      "Processing Record 73 | Tasiilaq\n",
      "Processing Record 74 | Saint Anthony\n",
      "Processing Record 75 | Atuona\n",
      "Processing Record 76 | Cariati\n",
      "Processing Record 77 | Talnakh\n",
      "Processing Record 78 | Port Alfred\n",
      "Processing Record 79 | Bredasdorp\n",
      "Processing Record 80 | Itarema\n",
      "Processing Record 81 | Kollam\n",
      "Processing Record 82 | Sayyan\n",
      "Processing Record 83 | Nanortalik\n",
      "Processing Record 84 | Mariehamn\n",
      "Processing Record 85 | Taoudenni\n",
      "Processing Record 86 | Buin\n",
      "Processing Record 87 | Tiksi\n",
      "Processing Record 88 | Emerald\n",
      "City not found. Skipping...\n",
      "Processing Record 89 | Pangody\n",
      "Processing Record 90 | Norman Wells\n",
      "Processing Record 91 | Waverly\n",
      "Processing Record 92 | Tual\n",
      "Processing Record 93 | Joshīmath\n",
      "Processing Record 94 | Adré\n",
      "Processing Record 95 | Paphos\n",
      "Processing Record 96 | Montevideo\n",
      "Processing Record 97 | Tuktoyaktuk\n",
      "Processing Record 98 | Port Hedland\n",
      "Processing Record 99 | Alta Floresta\n",
      "Processing Record 100 | Nikolskoye\n",
      "Processing Record 101 | Svetlaya\n",
      "Processing Record 102 | Kofelē\n",
      "Processing Record 103 | São João da Barra\n",
      "Processing Record 104 | Hermanus\n",
      "Processing Record 105 | Vaini\n",
      "Processing Record 106 | Phan Thiet\n",
      "Processing Record 107 | San Quintín\n",
      "Processing Record 108 | Port Lincoln\n",
      "Processing Record 109 | Kavieng\n",
      "Processing Record 110 | Chara\n",
      "Processing Record 111 | Upernavik\n",
      "Processing Record 112 | Torbay\n",
      "City not found. Skipping...\n",
      "Processing Record 113 | Clyde River\n",
      "Processing Record 114 | Omsukchan\n",
      "Processing Record 115 | Saint George\n",
      "Processing Record 116 | Chokurdakh\n",
      "Processing Record 117 | Severo-Kuril'sk\n",
      "Processing Record 118 | Barra do Bugres\n",
      "Processing Record 119 | Meadow Lake\n",
      "Processing Record 120 | Belaya Gora\n",
      "Processing Record 121 | Lagoa\n",
      "City not found. Skipping...\n",
      "Processing Record 122 | Guozhen\n",
      "Processing Record 123 | Ranong\n",
      "Processing Record 124 | Nishihara\n",
      "Processing Record 125 | Callaguip\n",
      "Processing Record 126 | Batemans Bay\n",
      "Processing Record 127 | Lastoursville\n",
      "Processing Record 128 | Jamestown\n",
      "Processing Record 129 | Cape Town\n",
      "Processing Record 130 | Dunedin\n",
      "City not found. Skipping...\n",
      "City not found. Skipping...\n",
      "Processing Record 131 | Bodden Town\n",
      "Processing Record 132 | Necoclí\n",
      "Processing Record 133 | Aklavik\n",
      "Processing Record 134 | Bengkulu\n",
      "Processing Record 135 | Nome\n",
      "Processing Record 136 | Ostrovnoy\n",
      "City not found. Skipping...\n",
      "Processing Record 137 | Fort Nelson\n",
      "Processing Record 138 | Thohoyandou\n",
      "Processing Record 139 | Mar del Plata\n",
      "Processing Record 140 | Kununurra\n",
      "Processing Record 141 | East London\n",
      "Processing Record 142 | South Kazakhstan Region\n",
      "Processing Record 143 | Saint Paul Harbor\n",
      "Processing Record 144 | Hilo\n",
      "Processing Record 145 | Dunda\n",
      "Processing Record 146 | Hong Kong\n",
      "Processing Record 147 | Kiryat Gat\n",
      "Processing Record 148 | Mansar\n",
      "Processing Record 149 | Klaksvík\n",
      "Processing Record 150 | Barsovo\n",
      "Processing Record 151 | Hualmay\n",
      "Processing Record 152 | Makarov\n",
      "Processing Record 153 | Fayaoué\n",
      "Processing Record 154 | Tautira\n",
      "Processing Record 155 | Safranbolu\n",
      "Processing Record 156 | San Miguel de Cozumel\n",
      "Processing Record 157 | Benicarló\n",
      "Processing Record 158 | Batagay-Alyta\n",
      "Processing Record 159 | Kruisfontein\n",
      "Processing Record 160 | Biloela\n",
      "Processing Record 161 | São Félix do Xingu\n",
      "Processing Record 162 | Najrān\n",
      "Processing Record 163 | Havelian\n",
      "Processing Record 164 | Oeiras\n",
      "City not found. Skipping...\n",
      "Processing Record 165 | Tura\n",
      "Processing Record 166 | Sioux Lookout\n",
      "City not found. Skipping...\n",
      "Processing Record 167 | Pevek\n",
      "Processing Record 168 | Ancud\n",
      "City not found. Skipping...\n",
      "Processing Record 169 | Rassvet\n",
      "Processing Record 170 | Portland\n",
      "Processing Record 171 | Mandan\n",
      "City not found. Skipping...\n",
      "Processing Record 172 | Batagay\n",
      "Processing Record 173 | Xinxiang\n",
      "Processing Record 174 | Riyadh\n",
      "Processing Record 175 | Coyhaique\n",
      "Processing Record 176 | Shiyan\n",
      "Processing Record 177 | Biak\n",
      "Processing Record 178 | Abhā\n",
      "Processing Record 179 | Juneau\n",
      "Processing Record 180 | Airai\n",
      "Processing Record 181 | Cuamba\n",
      "City not found. Skipping...\n",
      "Processing Record 182 | Puerto Ayora\n",
      "Processing Record 183 | Semnan\n",
      "Processing Record 184 | Srednekolymsk\n",
      "City not found. Skipping...\n",
      "Processing Record 185 | Qinhuangdao\n",
      "Processing Record 186 | Bahía de Caráquez\n",
      "Processing Record 187 | Māngrol\n",
      "Processing Record 188 | Edson\n",
      "Processing Record 189 | Fortuna\n",
      "Processing Record 190 | Lompoc\n",
      "Processing Record 191 | Altay\n",
      "Processing Record 192 | Lorengau\n",
      "Processing Record 193 | Tessalit\n",
      "Processing Record 194 | Clarence Town\n",
      "Processing Record 195 | Viedma\n",
      "Processing Record 196 | Araouane\n",
      "Processing Record 197 | Meulaboh\n",
      "Processing Record 198 | Malanje\n",
      "Processing Record 199 | Malbork\n",
      "City not found. Skipping...\n",
      "Processing Record 200 | Le Port\n",
      "Processing Record 201 | Saldanha\n",
      "Processing Record 202 | Cairns\n",
      "Processing Record 203 | Kavaratti\n",
      "Processing Record 204 | Pishin\n",
      "Processing Record 205 | Xining\n",
      "Processing Record 206 | Bafra\n",
      "Processing Record 207 | Semey\n",
      "Processing Record 208 | Matara\n",
      "Processing Record 209 | Marystown\n",
      "Processing Record 210 | Saint-Pierre\n",
      "Processing Record 211 | Longyearbyen\n",
      "Processing Record 212 | Carnarvon\n",
      "Processing Record 213 | Cabo San Lucas\n",
      "City not found. Skipping...\n",
      "Processing Record 214 | Launceston\n",
      "Processing Record 215 | Río Gallegos\n",
      "City not found. Skipping...\n",
      "Processing Record 216 | Sambava\n",
      "Processing Record 217 | Flinders\n",
      "Processing Record 218 | Kysyl-Syr\n",
      "Processing Record 219 | Mwene-Ditu\n",
      "Processing Record 220 | Kathmandu\n",
      "Processing Record 221 | Cankuzo Province\n",
      "Processing Record 222 | Wonthaggi\n",
      "Processing Record 223 | Santa Cruz Cabrália\n",
      "Processing Record 224 | Porto-Novo\n",
      "Processing Record 225 | Evensk\n",
      "City not found. Skipping...\n",
      "Processing Record 226 | Mount Isa\n",
      "Processing Record 227 | Nerchinskiy Zavod\n"
     ]
    },
    {
     "name": "stdout",
     "output_type": "stream",
     "text": [
      "Processing Record 228 | Skibbereen\n",
      "Processing Record 229 | Atasū\n",
      "City not found. Skipping...\n",
      "City not found. Skipping...\n",
      "Processing Record 230 | Turaif\n",
      "Processing Record 231 | Vostok\n",
      "Processing Record 232 | Hofn\n",
      "Processing Record 233 | Oodweyne\n",
      "Processing Record 234 | Dubbo\n",
      "Processing Record 235 | Raymond\n",
      "Processing Record 236 | Pemangkat\n",
      "Processing Record 237 | Presidencia Roque Sáenz Peña\n",
      "Processing Record 238 | Gamba\n",
      "Processing Record 239 | Bandarbeyla\n",
      "Processing Record 240 | Cherskiy\n",
      "Processing Record 241 | Astara\n",
      "Processing Record 242 | Inírida\n",
      "Processing Record 243 | Tuatapere\n",
      "Processing Record 244 | Oktyabr'skiy\n",
      "Processing Record 245 | Cartagena\n",
      "Processing Record 246 | Kaitangata\n",
      "Processing Record 247 | Hamilton\n",
      "Processing Record 248 | Thanh Hoa\n",
      "Processing Record 249 | Hasaki\n",
      "Processing Record 250 | Sakaraha\n",
      "Processing Record 251 | Mumford\n",
      "Processing Record 252 | Dingle\n",
      "City not found. Skipping...\n",
      "Processing Record 253 | Shenjiamen\n",
      "Processing Record 254 | Honningsvåg\n",
      "Processing Record 255 | Yulara\n",
      "Processing Record 256 | Visby\n",
      "Processing Record 257 | Yārāda\n",
      "Processing Record 258 | Benguela\n",
      "Processing Record 259 | Doha\n",
      "Processing Record 260 | Tarko-Sale\n",
      "City not found. Skipping...\n",
      "Processing Record 261 | Hearst\n",
      "Processing Record 262 | Abu Samrah\n",
      "Processing Record 263 | Yazoo City\n",
      "Processing Record 264 | Aksu\n",
      "Processing Record 265 | Lingao\n",
      "Processing Record 266 | Djibouti\n",
      "Processing Record 267 | Kalnciems\n",
      "Processing Record 268 | Esperance\n",
      "Processing Record 269 | Oxapampa\n",
      "Processing Record 270 | Zeya\n",
      "City not found. Skipping...\n",
      "Processing Record 271 | Iralaya\n",
      "Processing Record 272 | Lüderitz\n",
      "Processing Record 273 | Mount Gambier\n",
      "Processing Record 274 | Motygino\n",
      "City not found. Skipping...\n",
      "Processing Record 275 | Cape Canaveral\n",
      "Processing Record 276 | Mongo\n",
      "Processing Record 277 | General Roca\n",
      "Processing Record 278 | Aasiaat\n",
      "Processing Record 279 | Hare Bay\n",
      "Processing Record 280 | Kahului\n",
      "Processing Record 281 | Gizo Government Station\n",
      "Processing Record 282 | Dongsheng\n",
      "Processing Record 283 | Dwārka\n",
      "Processing Record 284 | Hobyo\n",
      "Processing Record 285 | Victor Harbor\n",
      "Processing Record 286 | Kargasok\n",
      "Processing Record 287 | Nantucket\n",
      "Processing Record 288 | Mandalgovi\n",
      "Processing Record 289 | Puerto Escondido\n",
      "Processing Record 290 | Livingstone\n",
      "Processing Record 291 | Port Elizabeth\n",
      "Processing Record 292 | Arraial do Cabo\n",
      "Processing Record 293 | Waitati\n",
      "Processing Record 294 | Holme\n",
      "City not found. Skipping...\n",
      "Processing Record 295 | Adrar\n",
      "Processing Record 296 | Baruun-Urt\n",
      "Processing Record 297 | Nueva Loja\n",
      "Processing Record 298 | Sola\n",
      "Processing Record 299 | Smithers\n",
      "Processing Record 300 | Sitka\n",
      "Processing Record 301 | Gubkinskiy\n",
      "Processing Record 302 | Poum\n",
      "Processing Record 303 | Chunskiy\n",
      "Processing Record 304 | Botngård\n",
      "Processing Record 305 | Tungor\n",
      "Processing Record 306 | Istmina\n",
      "Processing Record 307 | Chadiza\n",
      "City not found. Skipping...\n",
      "Processing Record 308 | Gamboma\n",
      "Processing Record 309 | Treinta y Tres\n",
      "Processing Record 310 | Nuuk\n",
      "Processing Record 311 | Teya\n",
      "Processing Record 312 | Port-Gentil\n",
      "Processing Record 313 | Laas\n",
      "Processing Record 314 | Yangi Marg`ilon\n",
      "Processing Record 315 | San Cristobal\n",
      "Processing Record 316 | Nicolás Bravo\n",
      "Processing Record 317 | Cururupu\n",
      "Processing Record 318 | Vredendal\n",
      "Processing Record 319 | Dekar\n",
      "Processing Record 320 | Guangming\n",
      "Processing Record 321 | Ayorou\n",
      "Processing Record 322 | Esterhazy\n",
      "City not found. Skipping...\n",
      "Processing Record 323 | Cayenne\n",
      "Processing Record 324 | Saint-Louis\n",
      "Processing Record 325 | Hervey Bay\n",
      "Processing Record 326 | Itatiaia\n",
      "Processing Record 327 | Kvitok\n",
      "Processing Record 328 | Opuwo\n",
      "Processing Record 329 | Katherine\n",
      "Processing Record 330 | Prince Rupert\n",
      "Processing Record 331 | Sena Madureira\n",
      "Processing Record 332 | Ugoofaaru\n",
      "Processing Record 333 | Burhaniye\n",
      "Processing Record 334 | Nouadhibou\n",
      "Processing Record 335 | São Gonçalo do Amarante\n",
      "Processing Record 336 | Escalerillas\n",
      "Processing Record 337 | Dhidhdhoo\n",
      "Processing Record 338 | Awjilah\n",
      "Processing Record 339 | San Angelo\n",
      "Processing Record 340 | Kango\n",
      "Processing Record 341 | Potosí\n",
      "City not found. Skipping...\n",
      "Processing Record 342 | Novopokrovka\n",
      "Processing Record 343 | Te Anau\n",
      "Processing Record 344 | Maple Creek\n",
      "Processing Record 345 | Bull Savanna\n",
      "Processing Record 346 | Zhicheng\n",
      "Processing Record 347 | Askino\n",
      "Processing Record 348 | Charcas\n",
      "Processing Record 349 | Road Town\n",
      "Processing Record 350 | Baharly\n",
      "Processing Record 351 | La Rioja\n",
      "Processing Record 352 | Vallentuna\n",
      "Processing Record 353 | Shimanovsk\n",
      "Processing Record 354 | Shimoda\n",
      "Processing Record 355 | Manbij\n",
      "Processing Record 356 | Smidovich\n",
      "Processing Record 357 | Lábrea\n",
      "City not found. Skipping...\n",
      "Processing Record 358 | Sohag\n",
      "Processing Record 359 | Ilhabela\n",
      "Processing Record 360 | Nelson Bay\n",
      "Processing Record 361 | Byron Bay\n",
      "City not found. Skipping...\n",
      "Processing Record 362 | Ialibu\n",
      "Processing Record 363 | Nísia Floresta\n",
      "Processing Record 364 | Vanimo\n",
      "Processing Record 365 | Saint-Augustin\n",
      "Processing Record 366 | Mehamn\n",
      "Processing Record 367 | Yar-Sale\n",
      "City not found. Skipping...\n",
      "Processing Record 368 | Río Cuarto\n",
      "City not found. Skipping...\n",
      "Processing Record 369 | Krasnoborsk\n",
      "Processing Record 370 | Fuerte Olimpo\n",
      "Processing Record 371 | Souillac\n",
      "Processing Record 372 | Kozhva\n",
      "Processing Record 373 | Menongue\n",
      "Processing Record 374 | Fuyang\n",
      "City not found. Skipping...\n",
      "Processing Record 375 | Obo\n",
      "Processing Record 376 | Tegul'det\n",
      "Processing Record 377 | Zhigansk\n",
      "Processing Record 378 | Esmeralda\n",
      "City not found. Skipping...\n",
      "Processing Record 379 | Ilulissat\n",
      "Processing Record 380 | Fernley\n",
      "Processing Record 381 | Pitimbu\n",
      "Processing Record 382 | Sinnai\n",
      "Processing Record 383 | Cardston\n",
      "Processing Record 384 | Baculin\n",
      "Processing Record 385 | Simpang\n",
      "Processing Record 386 | Cotonou\n",
      "Processing Record 387 | Gigmoto\n",
      "Processing Record 388 | Wagar\n",
      "City not found. Skipping...\n",
      "Processing Record 389 | Banda Aceh\n",
      "City not found. Skipping...\n",
      "Processing Record 390 | Obihiro\n",
      "Processing Record 391 | Husavik\n",
      "Processing Record 392 | Yuncheng\n",
      "Processing Record 393 | Cockburn Town\n",
      "Processing Record 394 | Xaçmaz\n",
      "Processing Record 395 | Bayan\n",
      "Processing Record 396 | Geraldton\n",
      "Processing Record 397 | Bocaiúva\n",
      "Processing Record 398 | Stade\n",
      "Processing Record 399 | Katsuura\n",
      "City not found. Skipping...\n",
      "Processing Record 400 | Havre-St-Pierre\n",
      "City not found. Skipping...\n",
      "Processing Record 401 | Srīvardhan\n",
      "Processing Record 402 | Nioro\n",
      "Processing Record 403 | Port Augusta\n",
      "Processing Record 404 | Águas Formosas\n",
      "City not found. Skipping...\n",
      "Processing Record 405 | Ribeira Brava\n",
      "Processing Record 406 | Rambha\n",
      "Processing Record 407 | Kawalu\n",
      "Processing Record 408 | Serang\n",
      "Processing Record 409 | Severnoye\n",
      "Processing Record 410 | Coffs Harbour\n",
      "Processing Record 411 | Kosonsoy\n",
      "Processing Record 412 | Káto Glykóvrysi\n",
      "City not found. Skipping...\n",
      "Processing Record 413 | West Helena\n",
      "Processing Record 414 | Hambantota\n",
      "City not found. Skipping...\n",
      "Processing Record 415 | Rocha\n",
      "Processing Record 416 | Longview\n",
      "Processing Record 417 | Vaasa\n",
      "Processing Record 418 | Flin Flon\n",
      "Processing Record 419 | Hornepayne\n",
      "Processing Record 420 | Voyvozh\n",
      "Processing Record 421 | Esmeraldas\n",
      "Processing Record 422 | Shubarkuduk\n",
      "Processing Record 423 | Devonport\n",
      "City not found. Skipping...\n",
      "Processing Record 424 | Coquimbo\n",
      "Processing Record 425 | Sørland\n",
      "Processing Record 426 | Windhoek\n",
      "Processing Record 427 | Chhabra\n",
      "Processing Record 428 | Ossora\n",
      "Processing Record 429 | Comodoro Rivadavia\n",
      "Processing Record 430 | Dutse\n",
      "Processing Record 431 | Killybegs\n",
      "Processing Record 432 | Ambon City\n",
      "Processing Record 433 | Abasolo\n",
      "Processing Record 434 | Ahipara\n",
      "Processing Record 435 | Ayan\n",
      "Processing Record 436 | Gobabis\n",
      "Processing Record 437 | Bulawayo\n",
      "City not found. Skipping...\n",
      "Processing Record 438 | Saurimo\n",
      "Processing Record 439 | Lata\n",
      "Processing Record 440 | Gladstone\n",
      "Processing Record 441 | Olafsvik\n",
      "City not found. Skipping...\n",
      "City not found. Skipping...\n",
      "Processing Record 442 | Arman'\n",
      "Processing Record 443 | Imbituba\n",
      "Processing Record 444 | Weligama\n",
      "Processing Record 445 | Ribnitz-Damgarten\n",
      "Processing Record 446 | Iwaki\n",
      "Processing Record 447 | Shakhtinsk\n",
      "Processing Record 448 | Parabel'\n",
      "Processing Record 449 | Mersing\n"
     ]
    },
    {
     "name": "stdout",
     "output_type": "stream",
     "text": [
      "Processing Record 450 | Ambulu\n",
      "Processing Record 451 | Anadyr\n",
      "Processing Record 452 | Manggar\n",
      "Processing Record 453 | Usinsk\n",
      "Processing Record 454 | Havøysund\n",
      "Processing Record 455 | Quatre Cocos\n",
      "Processing Record 456 | Killam\n",
      "Processing Record 457 | Bārmer\n",
      "Processing Record 458 | Rochegda\n",
      "Processing Record 459 | Palmer\n",
      "Processing Record 460 | Nakonde\n",
      "Processing Record 461 | Mangit\n",
      "Processing Record 462 | Seymchan\n",
      "Processing Record 463 | Mabama\n",
      "Processing Record 464 | Waipawa\n",
      "Processing Record 465 | Ixtapa\n",
      "Processing Record 466 | Takoradze\n",
      "Processing Record 467 | Chimbote\n",
      "Processing Record 468 | Apastovo\n",
      "Processing Record 469 | Kismayo\n",
      "Processing Record 470 | Zorritos\n",
      "Processing Record 471 | Umluj\n",
      "Processing Record 472 | Savannah Bight\n",
      "Processing Record 473 | Diu\n",
      "City not found. Skipping...\n",
      "Processing Record 474 | Letlhakeng\n",
      "Processing Record 475 | Xinqing\n",
      "City not found. Skipping...\n",
      "Processing Record 476 | Iskateley\n",
      "Processing Record 477 | Vestmannaeyjar\n",
      "Processing Record 478 | Along\n",
      "Processing Record 479 | Harper\n",
      "City not found. Skipping...\n",
      "Processing Record 480 | Mabaruma\n",
      "Processing Record 481 | Pingliang\n",
      "Processing Record 482 | Nemuro\n",
      "Processing Record 483 | Terrace\n",
      "Processing Record 484 | Bathsheba\n",
      "Processing Record 485 | Bontang\n",
      "Processing Record 486 | Mossamedes\n",
      "Processing Record 487 | Kasongo-Lunda\n",
      "City not found. Skipping...\n",
      "Processing Record 488 | Codrington\n",
      "Processing Record 489 | Shanghai\n",
      "Processing Record 490 | Scarborough\n",
      "Processing Record 491 | The Valley\n",
      "Processing Record 492 | Dalipuga\n",
      "Processing Record 493 | Vilyuysk\n",
      "City not found. Skipping...\n",
      "Processing Record 494 | San Jose\n",
      "Processing Record 495 | Egvekinot\n",
      "Processing Record 496 | Botevgrad\n",
      "Processing Record 497 | Constitución\n",
      "Processing Record 498 | Kapoeta\n",
      "Processing Record 499 | Berlevåg\n",
      "Processing Record 500 | Chapais\n",
      "Processing Record 501 | Sabang\n",
      "Processing Record 502 | Grand-Santi\n",
      "Processing Record 503 | Great Falls\n",
      "Processing Record 504 | Petropavlovsk-Kamchatskiy\n",
      "Processing Record 505 | Nianzishan\n",
      "Processing Record 506 | Ulaanbaatar\n",
      "Processing Record 507 | Kalisz\n",
      "Processing Record 508 | Gerāsh\n",
      "Processing Record 509 | Bambanglipuro\n",
      "Processing Record 510 | Richards Bay\n",
      "Processing Record 511 | Point Pedro\n",
      "Processing Record 512 | Port Hardy\n",
      "Processing Record 513 | Témiscaming\n",
      "Processing Record 514 | Ulverstone\n",
      "Processing Record 515 | Mogadishu\n",
      "Processing Record 516 | Camacha\n",
      "Processing Record 517 | Altea\n",
      "Processing Record 518 | Aleksandrov Gay\n",
      "Processing Record 519 | Vao\n",
      "Processing Record 520 | Nicoya\n",
      "Processing Record 521 | Salinópolis\n",
      "Processing Record 522 | Keuruu\n",
      "Processing Record 523 | Kingston\n",
      "Processing Record 524 | Ginir\n",
      "Processing Record 525 | Aquiraz\n",
      "Processing Record 526 | Straumen\n",
      "City not found. Skipping...\n",
      "Processing Record 527 | Inuvik\n",
      "Processing Record 528 | Homer\n",
      "Processing Record 529 | Naberera\n",
      "Processing Record 530 | Pangnirtung\n",
      "Processing Record 531 | Plettenberg Bay\n",
      "Processing Record 532 | Deputatsky\n",
      "Processing Record 533 | Bereda\n",
      "Processing Record 534 | Coahuayana Viejo\n",
      "Processing Record 535 | Westport\n",
      "City not found. Skipping...\n",
      "City not found. Skipping...\n",
      "Processing Record 536 | Ust-Nera\n",
      "Processing Record 537 | Guerrero Negro\n",
      "Processing Record 538 | Palana\n",
      "Processing Record 539 | Klyuchevskiy\n",
      "Processing Record 540 | Mujiayingzi\n",
      "Processing Record 541 | Bonavista\n",
      "Processing Record 542 | Sakaiminato\n",
      "Processing Record 543 | Bar\n",
      "Processing Record 544 | Owando\n",
      "Processing Record 545 | Anshun\n",
      "Processing Record 546 | Shebalino\n",
      "City not found. Skipping...\n",
      "Processing Record 547 | Barkhan\n",
      "Processing Record 548 | Broken Hill\n",
      "Processing Record 549 | Gornopravdinsk\n",
      "Processing Record 550 | Koboko\n",
      "Processing Record 551 | Freetown\n",
      "Processing Record 552 | Touros\n",
      "Processing Record 553 | Rincon\n",
      "Processing Record 554 | Yaan\n",
      "Processing Record 555 | Port Pirie\n",
      "------------------------------\n",
      "Data Retrieval Complete!!    \n",
      "------------------------------\n"
     ]
    }
   ],
   "source": [
    "# data retrive process start\n",
    "\n",
    "# print to logger\n",
    "print(f\"Beginning Data Retrieval      \")\n",
    "print(f\"------------------------------\")\n",
    "\n",
    "# Loop through each city\n",
    "for city in cities:\n",
    "    \n",
    "    # try to get the response for each city\n",
    "    try:\n",
    "        #run API requests and retrive the data\n",
    "        response = requests.get(Q_url + city).json()\n",
    "        \n",
    "        ## add a time delay to avoid blowing out the API key\n",
    "        #time.sleep(1)\n",
    "        \n",
    "        city_name.append(response[\"name\"])\n",
    "        latitude.append(response[\"coord\"][\"lat\"])\n",
    "        longitude.append(response[\"coord\"][\"lon\"])\n",
    "        temperature.append(response[\"main\"][\"temp\"])\n",
    "        humidity.append(response[\"main\"][\"humidity\"])\n",
    "        cloudiness.append(response[\"clouds\"][\"all\"])\n",
    "        wind_speed.append(response[\"wind\"][\"speed\"])\n",
    "        country.append(response[\"sys\"][\"country\"])\n",
    "        date.append(response[\"dt\"])\n",
    "        city_record = response[\"name\"]\n",
    "        print(f\"Processing Record {processing_record} | {city_record}\")\n",
    "        \n",
    "        # increase record counting by 1\n",
    "        processing_record += 1\n",
    "        \n",
    "    except:\n",
    "        print(\"City not found. Skipping...\") \n",
    "    pass\n",
    "\n",
    "print(f\"------------------------------\")\n",
    "print(f\"Data Retrieval Complete!!    \")\n",
    "print(f\"------------------------------\")"
   ]
  },
  {
   "cell_type": "markdown",
   "metadata": {},
   "source": [
    "### Convert Raw Data to DataFrame\n",
    "* Export the city data into a .csv.\n",
    "* Display the DataFrame"
   ]
  },
  {
   "cell_type": "code",
   "execution_count": 15,
   "metadata": {},
   "outputs": [
    {
     "data": {
      "text/html": [
       "<div>\n",
       "<style scoped>\n",
       "    .dataframe tbody tr th:only-of-type {\n",
       "        vertical-align: middle;\n",
       "    }\n",
       "\n",
       "    .dataframe tbody tr th {\n",
       "        vertical-align: top;\n",
       "    }\n",
       "\n",
       "    .dataframe thead th {\n",
       "        text-align: right;\n",
       "    }\n",
       "</style>\n",
       "<table border=\"1\" class=\"dataframe\">\n",
       "  <thead>\n",
       "    <tr style=\"text-align: right;\">\n",
       "      <th></th>\n",
       "      <th>City</th>\n",
       "      <th>Latitude</th>\n",
       "      <th>Longitude</th>\n",
       "      <th>Temp</th>\n",
       "      <th>Humidity</th>\n",
       "      <th>Cloudiness</th>\n",
       "      <th>Wind Speed</th>\n",
       "      <th>Country</th>\n",
       "      <th>Date</th>\n",
       "    </tr>\n",
       "  </thead>\n",
       "  <tbody>\n",
       "    <tr>\n",
       "      <th>0</th>\n",
       "      <td>Chui</td>\n",
       "      <td>-33.6971</td>\n",
       "      <td>-53.4616</td>\n",
       "      <td>21.85</td>\n",
       "      <td>94</td>\n",
       "      <td>95</td>\n",
       "      <td>2.54</td>\n",
       "      <td>UY</td>\n",
       "      <td>1646456784</td>\n",
       "    </tr>\n",
       "    <tr>\n",
       "      <th>1</th>\n",
       "      <td>Provideniya</td>\n",
       "      <td>64.3833</td>\n",
       "      <td>-173.3000</td>\n",
       "      <td>-8.95</td>\n",
       "      <td>84</td>\n",
       "      <td>100</td>\n",
       "      <td>1.97</td>\n",
       "      <td>RU</td>\n",
       "      <td>1646456784</td>\n",
       "    </tr>\n",
       "    <tr>\n",
       "      <th>2</th>\n",
       "      <td>Saint-Philippe</td>\n",
       "      <td>-21.3585</td>\n",
       "      <td>55.7679</td>\n",
       "      <td>27.77</td>\n",
       "      <td>86</td>\n",
       "      <td>100</td>\n",
       "      <td>6.07</td>\n",
       "      <td>RE</td>\n",
       "      <td>1646456785</td>\n",
       "    </tr>\n",
       "    <tr>\n",
       "      <th>3</th>\n",
       "      <td>Qaanaaq</td>\n",
       "      <td>77.4840</td>\n",
       "      <td>-69.3632</td>\n",
       "      <td>-17.59</td>\n",
       "      <td>67</td>\n",
       "      <td>0</td>\n",
       "      <td>3.25</td>\n",
       "      <td>GL</td>\n",
       "      <td>1646456785</td>\n",
       "    </tr>\n",
       "    <tr>\n",
       "      <th>4</th>\n",
       "      <td>Castro</td>\n",
       "      <td>-24.7911</td>\n",
       "      <td>-50.0119</td>\n",
       "      <td>17.13</td>\n",
       "      <td>94</td>\n",
       "      <td>100</td>\n",
       "      <td>1.02</td>\n",
       "      <td>BR</td>\n",
       "      <td>1646456786</td>\n",
       "    </tr>\n",
       "  </tbody>\n",
       "</table>\n",
       "</div>"
      ],
      "text/plain": [
       "             City  Latitude  Longitude   Temp  Humidity  Cloudiness  \\\n",
       "0            Chui  -33.6971   -53.4616  21.85        94          95   \n",
       "1     Provideniya   64.3833  -173.3000  -8.95        84         100   \n",
       "2  Saint-Philippe  -21.3585    55.7679  27.77        86         100   \n",
       "3         Qaanaaq   77.4840   -69.3632 -17.59        67           0   \n",
       "4          Castro  -24.7911   -50.0119  17.13        94         100   \n",
       "\n",
       "   Wind Speed Country        Date  \n",
       "0        2.54      UY  1646456784  \n",
       "1        1.97      RU  1646456784  \n",
       "2        6.07      RE  1646456785  \n",
       "3        3.25      GL  1646456785  \n",
       "4        1.02      BR  1646456786  "
      ]
     },
     "execution_count": 15,
     "metadata": {},
     "output_type": "execute_result"
    }
   ],
   "source": [
    "# define dataframe then display\n",
    "weather_data = {\n",
    "    \"City\": city_name,\n",
    "    \"Latitude\": latitude,\n",
    "    \"Longitude\": longitude,\n",
    "    \"Temp\": temperature,\n",
    "    \"Humidity\": humidity,\n",
    "    \"Cloudiness\": cloudiness,\n",
    "    \"Wind Speed\": wind_speed,\n",
    "    \"Country\": country,\n",
    "    \"Date\": date\n",
    "}\n",
    "weatherDF = pd.DataFrame(weather_data)\n",
    "\n",
    "weatherDF.head()"
   ]
  },
  {
   "cell_type": "code",
   "execution_count": 26,
   "metadata": {},
   "outputs": [],
   "source": [
    "# export data to CSV file\n",
    "weatherDF.to_csv(\"Weather_Output.csv\")"
   ]
  },
  {
   "cell_type": "markdown",
   "metadata": {},
   "source": [
    "## Inspect the data and remove the cities where the humidity > 100%.\n",
    "----\n",
    "Skip this step if there are no cities that have humidity > 100%. "
   ]
  },
  {
   "cell_type": "code",
   "execution_count": 24,
   "metadata": {},
   "outputs": [
    {
     "data": {
      "text/html": [
       "<div>\n",
       "<style scoped>\n",
       "    .dataframe tbody tr th:only-of-type {\n",
       "        vertical-align: middle;\n",
       "    }\n",
       "\n",
       "    .dataframe tbody tr th {\n",
       "        vertical-align: top;\n",
       "    }\n",
       "\n",
       "    .dataframe thead th {\n",
       "        text-align: right;\n",
       "    }\n",
       "</style>\n",
       "<table border=\"1\" class=\"dataframe\">\n",
       "  <thead>\n",
       "    <tr style=\"text-align: right;\">\n",
       "      <th></th>\n",
       "      <th>Latitude</th>\n",
       "      <th>Longitude</th>\n",
       "      <th>Temp</th>\n",
       "      <th>Humidity</th>\n",
       "      <th>Cloudiness</th>\n",
       "      <th>Wind Speed</th>\n",
       "      <th>Date</th>\n",
       "    </tr>\n",
       "  </thead>\n",
       "  <tbody>\n",
       "    <tr>\n",
       "      <th>count</th>\n",
       "      <td>555.000000</td>\n",
       "      <td>555.000000</td>\n",
       "      <td>555.000000</td>\n",
       "      <td>555.000000</td>\n",
       "      <td>555.000000</td>\n",
       "      <td>555.000000</td>\n",
       "      <td>5.550000e+02</td>\n",
       "    </tr>\n",
       "    <tr>\n",
       "      <th>mean</th>\n",
       "      <td>19.182270</td>\n",
       "      <td>23.676392</td>\n",
       "      <td>11.209532</td>\n",
       "      <td>73.016216</td>\n",
       "      <td>59.969369</td>\n",
       "      <td>3.435550</td>\n",
       "      <td>1.646457e+09</td>\n",
       "    </tr>\n",
       "    <tr>\n",
       "      <th>std</th>\n",
       "      <td>34.544885</td>\n",
       "      <td>91.181774</td>\n",
       "      <td>16.449621</td>\n",
       "      <td>22.208759</td>\n",
       "      <td>38.502625</td>\n",
       "      <td>2.621508</td>\n",
       "      <td>1.239334e+02</td>\n",
       "    </tr>\n",
       "    <tr>\n",
       "      <th>min</th>\n",
       "      <td>-54.800000</td>\n",
       "      <td>-179.166700</td>\n",
       "      <td>-31.620000</td>\n",
       "      <td>7.000000</td>\n",
       "      <td>0.000000</td>\n",
       "      <td>0.000000</td>\n",
       "      <td>1.646456e+09</td>\n",
       "    </tr>\n",
       "    <tr>\n",
       "      <th>25%</th>\n",
       "      <td>-9.075450</td>\n",
       "      <td>-57.369300</td>\n",
       "      <td>-1.790000</td>\n",
       "      <td>65.000000</td>\n",
       "      <td>20.000000</td>\n",
       "      <td>1.540000</td>\n",
       "      <td>1.646457e+09</td>\n",
       "    </tr>\n",
       "    <tr>\n",
       "      <th>50%</th>\n",
       "      <td>21.116700</td>\n",
       "      <td>28.583300</td>\n",
       "      <td>17.120000</td>\n",
       "      <td>79.000000</td>\n",
       "      <td>72.000000</td>\n",
       "      <td>2.870000</td>\n",
       "      <td>1.646457e+09</td>\n",
       "    </tr>\n",
       "    <tr>\n",
       "      <th>75%</th>\n",
       "      <td>49.696750</td>\n",
       "      <td>106.478450</td>\n",
       "      <td>24.510000</td>\n",
       "      <td>90.000000</td>\n",
       "      <td>99.000000</td>\n",
       "      <td>4.610000</td>\n",
       "      <td>1.646457e+09</td>\n",
       "    </tr>\n",
       "    <tr>\n",
       "      <th>max</th>\n",
       "      <td>78.218600</td>\n",
       "      <td>178.416700</td>\n",
       "      <td>39.870000</td>\n",
       "      <td>100.000000</td>\n",
       "      <td>100.000000</td>\n",
       "      <td>21.000000</td>\n",
       "      <td>1.646457e+09</td>\n",
       "    </tr>\n",
       "  </tbody>\n",
       "</table>\n",
       "</div>"
      ],
      "text/plain": [
       "         Latitude   Longitude        Temp    Humidity  Cloudiness  Wind Speed  \\\n",
       "count  555.000000  555.000000  555.000000  555.000000  555.000000  555.000000   \n",
       "mean    19.182270   23.676392   11.209532   73.016216   59.969369    3.435550   \n",
       "std     34.544885   91.181774   16.449621   22.208759   38.502625    2.621508   \n",
       "min    -54.800000 -179.166700  -31.620000    7.000000    0.000000    0.000000   \n",
       "25%     -9.075450  -57.369300   -1.790000   65.000000   20.000000    1.540000   \n",
       "50%     21.116700   28.583300   17.120000   79.000000   72.000000    2.870000   \n",
       "75%     49.696750  106.478450   24.510000   90.000000   99.000000    4.610000   \n",
       "max     78.218600  178.416700   39.870000  100.000000  100.000000   21.000000   \n",
       "\n",
       "               Date  \n",
       "count  5.550000e+02  \n",
       "mean   1.646457e+09  \n",
       "std    1.239334e+02  \n",
       "min    1.646456e+09  \n",
       "25%    1.646457e+09  \n",
       "50%    1.646457e+09  \n",
       "75%    1.646457e+09  \n",
       "max    1.646457e+09  "
      ]
     },
     "execution_count": 24,
     "metadata": {},
     "output_type": "execute_result"
    }
   ],
   "source": [
    "#Lat\tLng\tMax Temp\tHumidity\tCloudiness\tWind Speed\tDate\n",
    "# count\t550.000000\t550.000000\t550.000000\t550.000000\t550.000000\t550.000000\t5.500000e+02# \n",
    "# Get the indices of cities that have humidity over 100%.\n",
    "weatherDF.describe()"
   ]
  },
  {
   "cell_type": "code",
   "execution_count": 27,
   "metadata": {},
   "outputs": [
    {
     "data": {
      "text/plain": [
       "Int64Index([], dtype='int64')"
      ]
     },
     "execution_count": 27,
     "metadata": {},
     "output_type": "execute_result"
    }
   ],
   "source": [
    "# Get the indices of cities that have humidity over 100%.\n",
    "extr_humidity = weatherDF[(weatherDF['Humidity']>100)].index\n",
    "extr_humidity"
   ]
  },
  {
   "cell_type": "code",
   "execution_count": 28,
   "metadata": {},
   "outputs": [],
   "source": [
    "# Make a new DataFrame equal to the city data to drop all humidity outliers by index.\n",
    "# Passing \"inplace=False\" will make a copy of the city_data DataFrame, which we call \"clean_city_data\".\n",
    "\n",
    "# City\tLat\tLng\tMax Temp\tHumidity\tCloudiness\tWind Speed\tCountry\tDate\n",
    "# 0\tbutaritari\t3.07\t172.79\t83.32\t74\t84\t10.42\tKI\t1593605283"
   ]
  },
  {
   "cell_type": "code",
   "execution_count": 32,
   "metadata": {},
   "outputs": [
    {
     "data": {
      "text/html": [
       "<div>\n",
       "<style scoped>\n",
       "    .dataframe tbody tr th:only-of-type {\n",
       "        vertical-align: middle;\n",
       "    }\n",
       "\n",
       "    .dataframe tbody tr th {\n",
       "        vertical-align: top;\n",
       "    }\n",
       "\n",
       "    .dataframe thead th {\n",
       "        text-align: right;\n",
       "    }\n",
       "</style>\n",
       "<table border=\"1\" class=\"dataframe\">\n",
       "  <thead>\n",
       "    <tr style=\"text-align: right;\">\n",
       "      <th></th>\n",
       "      <th>City</th>\n",
       "      <th>Latitude</th>\n",
       "      <th>Longitude</th>\n",
       "      <th>Temp</th>\n",
       "      <th>Humidity</th>\n",
       "      <th>Cloudiness</th>\n",
       "      <th>Wind Speed</th>\n",
       "      <th>Country</th>\n",
       "      <th>Date</th>\n",
       "    </tr>\n",
       "  </thead>\n",
       "  <tbody>\n",
       "    <tr>\n",
       "      <th>0</th>\n",
       "      <td>Chui</td>\n",
       "      <td>-33.6971</td>\n",
       "      <td>-53.4616</td>\n",
       "      <td>21.85</td>\n",
       "      <td>94</td>\n",
       "      <td>95</td>\n",
       "      <td>2.54</td>\n",
       "      <td>UY</td>\n",
       "      <td>1646456784</td>\n",
       "    </tr>\n",
       "    <tr>\n",
       "      <th>1</th>\n",
       "      <td>Provideniya</td>\n",
       "      <td>64.3833</td>\n",
       "      <td>-173.3000</td>\n",
       "      <td>-8.95</td>\n",
       "      <td>84</td>\n",
       "      <td>100</td>\n",
       "      <td>1.97</td>\n",
       "      <td>RU</td>\n",
       "      <td>1646456784</td>\n",
       "    </tr>\n",
       "    <tr>\n",
       "      <th>2</th>\n",
       "      <td>Saint-Philippe</td>\n",
       "      <td>-21.3585</td>\n",
       "      <td>55.7679</td>\n",
       "      <td>27.77</td>\n",
       "      <td>86</td>\n",
       "      <td>100</td>\n",
       "      <td>6.07</td>\n",
       "      <td>RE</td>\n",
       "      <td>1646456785</td>\n",
       "    </tr>\n",
       "    <tr>\n",
       "      <th>3</th>\n",
       "      <td>Qaanaaq</td>\n",
       "      <td>77.4840</td>\n",
       "      <td>-69.3632</td>\n",
       "      <td>-17.59</td>\n",
       "      <td>67</td>\n",
       "      <td>0</td>\n",
       "      <td>3.25</td>\n",
       "      <td>GL</td>\n",
       "      <td>1646456785</td>\n",
       "    </tr>\n",
       "    <tr>\n",
       "      <th>4</th>\n",
       "      <td>Castro</td>\n",
       "      <td>-24.7911</td>\n",
       "      <td>-50.0119</td>\n",
       "      <td>17.13</td>\n",
       "      <td>94</td>\n",
       "      <td>100</td>\n",
       "      <td>1.02</td>\n",
       "      <td>BR</td>\n",
       "      <td>1646456786</td>\n",
       "    </tr>\n",
       "  </tbody>\n",
       "</table>\n",
       "</div>"
      ],
      "text/plain": [
       "             City  Latitude  Longitude   Temp  Humidity  Cloudiness  \\\n",
       "0            Chui  -33.6971   -53.4616  21.85        94          95   \n",
       "1     Provideniya   64.3833  -173.3000  -8.95        84         100   \n",
       "2  Saint-Philippe  -21.3585    55.7679  27.77        86         100   \n",
       "3         Qaanaaq   77.4840   -69.3632 -17.59        67           0   \n",
       "4          Castro  -24.7911   -50.0119  17.13        94         100   \n",
       "\n",
       "   Wind Speed Country        Date  \n",
       "0        2.54      UY  1646456784  \n",
       "1        1.97      RU  1646456784  \n",
       "2        6.07      RE  1646456785  \n",
       "3        3.25      GL  1646456785  \n",
       "4        1.02      BR  1646456786  "
      ]
     },
     "execution_count": 32,
     "metadata": {},
     "output_type": "execute_result"
    }
   ],
   "source": [
    "clean_city_data = weatherDF.drop(extr_humidity, inplace=False)\n",
    "clean_city_data.head()"
   ]
  },
  {
   "cell_type": "code",
   "execution_count": 33,
   "metadata": {},
   "outputs": [],
   "source": [
    "# make a copy of the city_data DataFrame \"clean_city_data\" and export data to CSV file\n",
    "clean_city_data.to_csv(\"clean_city_data.csv\")"
   ]
  },
  {
   "cell_type": "markdown",
   "metadata": {},
   "source": [
    "## Plotting the Data\n",
    "* Use proper labeling of the plots using plot titles (including date of analysis) and axes labels.\n",
    "* Save the plotted figures as .pngs."
   ]
  },
  {
   "cell_type": "code",
   "execution_count": 34,
   "metadata": {},
   "outputs": [],
   "source": [
    "## Create a series of scatter plots to showcase the following relationships:\n",
    "#  Temperature (F) vs. Latitude\n",
    "#  Humidity (%) vs. Latitude\n",
    "#  Cloudiness (%) vs. Latitude\n",
    "#  Wind Speed (mph) vs. Latitude"
   ]
  },
  {
   "cell_type": "code",
   "execution_count": 35,
   "metadata": {},
   "outputs": [],
   "source": [
    "## Save plot to the selected directory. If the directory does not exist, it is created.\n",
    "\n",
    "#import os\n",
    "#import matplotlib.pyplot as plt\n",
    "\n",
    "#script_dir = os.path.dirname(__file__)\n",
    "#results_dir = os.path.join(script_dir, 'Results/')\n",
    "#plot_file_name = \"CityLatitude_vs_Temperature\"\n",
    "\n",
    "#if not os.path.isdir(results_dir):\n",
    "#    os.makedirs(results_dir)\n",
    "\n",
    "#plt.plot([1,2,3,4])\n",
    "#plt.ylabel('some numbers')\n",
    "#plt.savefig(results_dir + sample_file_name)"
   ]
  },
  {
   "cell_type": "markdown",
   "metadata": {},
   "source": [
    "## Latitude vs. Temperature Plot"
   ]
  },
  {
   "cell_type": "code",
   "execution_count": 36,
   "metadata": {
    "scrolled": true
   },
   "outputs": [
    {
     "data": {
      "image/png": "[encoded data removed]",
      "text/plain": [
       "<Figure size 432x288 with 1 Axes>"
      ]
     },
     "metadata": {
      "needs_background": "light"
     },
     "output_type": "display_data"
    },
    {
     "name": "stdout",
     "output_type": "stream",
     "text": [
      "\u001b[1mThe relationship between City Latitude and Temperature shows as the scatter plot above. \n",
      "\n",
      "All latitude lines are parallel from East to West as circles to the equator, \n",
      "Temperature is inversely related to latitude.  \n",
      "As latitude increases, the temperature falls, and vice versa. \n",
      "\u001b[0m\n"
     ]
    }
   ],
   "source": [
    "# Create a scatter plot for Temperature (F) vs. Latitude\n",
    "plt.scatter(weatherDF['Latitude'], weatherDF[\"Temp\"], facecolors = \"darkblue\", edgecolor =\"white\", marker=\"o\")\n",
    "\n",
    "plt.xlabel(\"Latitude\")\n",
    "plt.ylabel(\"Max Temperature (F)\")\n",
    "plt.title(\"City Latitude vs. Max Temperature (01/23/2022)\")\n",
    "\n",
    "# save plot as png file before show\n",
    "plt.savefig(\"CityLatitude_vs_Temp.png\")\n",
    "\n",
    "plt.grid()\n",
    "plt.show()\n",
    "\n",
    "# bold print '\\033[1m'+ words +'\\033[0m'\n",
    "print('\\033[1m' +\"The relationship between City Latitude and Temperature shows as the scatter plot above. \\n\" \n",
    "      \"\\n\"\n",
    "      \"All latitude lines are parallel from East to West as circles to the equator, \\n\"\n",
    "      \"Temperature is inversely related to latitude.  \\n\"\n",
    "      \"As latitude increases, the temperature falls, and vice versa. \\n\"+'\\033[0m')"
   ]
  },
  {
   "cell_type": "markdown",
   "metadata": {},
   "source": [
    "## Latitude vs. Humidity Plot"
   ]
  },
  {
   "cell_type": "code",
   "execution_count": 37,
   "metadata": {},
   "outputs": [
    {
     "data": {
      "image/png": "[encoded data removed]",
      "text/plain": [
       "<Figure size 432x288 with 1 Axes>"
      ]
     },
     "metadata": {
      "needs_background": "light"
     },
     "output_type": "display_data"
    },
    {
     "name": "stdout",
     "output_type": "stream",
     "text": [
      "\u001b[1mThe relationship between City Latitude and Humidity shows as the scatter plot above. \n",
      "Since the humidity also meansures water vapor in the air, warm air can possess more water vapor (moisture)\n",
      "then cold air, air will have a higher relative humidity if the air is cooler. The cities with higer Latitude \n",
      "will be moisture with the same amount of absolute/specific humidity, then the cities with lower latitude.\n",
      "\u001b[0m\n"
     ]
    }
   ],
   "source": [
    "# Create a scatter plot for Humidity (%) vs. Latitude\n",
    "\n",
    "plt.scatter(weatherDF[\"Latitude\"], weatherDF[\"Humidity\"], facecolors = \"darkblue\", edgecolor =\"white\", marker=\"1\")\n",
    "\n",
    "plt.xlabel(\"Latitude\")\n",
    "plt.ylabel(\"Humidity (%)\")\n",
    "plt.title(\"City Latitude vs. Humidity (%) (01/23/2022)\")\n",
    "\n",
    "# save plot as png file\n",
    "plt.savefig(\"CityLatitude_vs_Humidity.png\")\n",
    "\n",
    "plt.grid()\n",
    "plt.show()\n",
    "\n",
    "# bold print '\\033[1m'+ words +'\\033[0m'\n",
    "print('\\033[1m' +\"The relationship between City Latitude and Humidity shows as the scatter plot above. \\n\" \n",
    "      \"Since the humidity also meansures water vapor in the air, warm air can possess more water vapor (moisture)\\n\"\n",
    "      \"then cold air, air will have a higher relative humidity if the air is cooler. The cities with higer Latitude \\n\"\n",
    "      \"will be moisture with the same amount of absolute/specific humidity, then the cities with lower latitude.\\n\"\n",
    "      +'\\033[0m')"
   ]
  },
  {
   "cell_type": "markdown",
   "metadata": {},
   "source": [
    "## Latitude vs. Cloudiness Plot"
   ]
  },
  {
   "cell_type": "code",
   "execution_count": 38,
   "metadata": {},
   "outputs": [
    {
     "data": {
      "image/png": "[encoded data removed]",
      "text/plain": [
       "<Figure size 432x288 with 1 Axes>"
      ]
     },
     "metadata": {
      "needs_background": "light"
     },
     "output_type": "display_data"
    },
    {
     "name": "stdout",
     "output_type": "stream",
     "text": [
      "\u001b[1mThe relationship between City Latitude and Cloudiness (%) shows as the scatter plot above. \n",
      "Clouds tend to form in abundance in the middle latitudes to north and south of the equator.\n",
      "There are three broad bands where Earth’s skies are most likely to be cloudy. \n",
      "\u001b[0m\n"
     ]
    }
   ],
   "source": [
    "# Create a scatter plot for Cloudiness (%) vs. Latitude\n",
    "\n",
    "plt.scatter(weatherDF[\"Latitude\"], weatherDF[\"Cloudiness\"], facecolors = \"darkblue\", edgecolor =\"white\", marker=\"o\")\n",
    "\n",
    "plt.xlabel(\"Latitude\")\n",
    "plt.ylabel(\"Cloudiness (%)\")\n",
    "plt.title(\"City Latitude vs. Cloudiness (%)   (01/23/2022)\")\n",
    "\n",
    "# save plot as png file before show\n",
    "plt.savefig(\"CityLatitude_vs_Cloudiness.png\")\n",
    "\n",
    "plt.grid()\n",
    "plt.show()\n",
    "\n",
    "# bold print '\\033[1m'+ words +'\\033[0m'\n",
    "print('\\033[1m' +\n",
    "      \"The relationship between City Latitude and Cloudiness (%) shows as the scatter plot above. \\n\" \n",
    "      \"Clouds tend to form in abundance in the middle latitudes to north and south of the equator.\\n\"\n",
    "      \"There are three broad bands where Earth’s skies are most likely to be cloudy. \\n\"\n",
    "      +'\\033[0m')"
   ]
  },
  {
   "cell_type": "markdown",
   "metadata": {},
   "source": [
    "## Latitude vs. Wind Speed Plot"
   ]
  },
  {
   "cell_type": "code",
   "execution_count": 39,
   "metadata": {},
   "outputs": [
    {
     "data": {
      "image/png": "[encoded data removed]",
      "text/plain": [
       "<Figure size 432x288 with 1 Axes>"
      ]
     },
     "metadata": {
      "needs_background": "light"
     },
     "output_type": "display_data"
    },
    {
     "name": "stdout",
     "output_type": "stream",
     "text": [
      "\u001b[1mThe relationship between City Latitude and Wind Speed (mph) shows as the scatter plot above. \n",
      "the speed of wind is determined by the magnitude of the air pressure difference make the air move \n",
      "from high pressure to low.  with greater speeds resulting from greater air pressure differences.\n",
      "Observations show that the wind speed increases equatorward in low latitudes while the wind speed decreases. \n",
      "\u001b[0m\n"
     ]
    }
   ],
   "source": [
    "#Create a scatter plot for Wind Speed (mph) vs. Latitude\n",
    "\n",
    "plt.scatter(weatherDF[\"Latitude\"], weatherDF[\"Wind Speed\"], facecolors = \"darkblue\", edgecolor =\"white\", marker=\"o\")\n",
    "\n",
    "plt.xlabel(\"Latitude\")\n",
    "plt.ylabel(\"Wind Speed (mph)\")\n",
    "plt.title(\"City Latitude vs. Wind Speed (mph)   (01/23/2022)\")\n",
    "\n",
    "# save plot as png file\n",
    "plt.savefig(\"CityLatitude_vs_WindSpeed.png\")\n",
    "\n",
    "plt.grid()\n",
    "plt.show()\n",
    "\n",
    "# bold print '\\033[1m'+ words +'\\033[0m'\n",
    "print('\\033[1m' +\n",
    "      \"The relationship between City Latitude and Wind Speed (mph) shows as the scatter plot above. \\n\" \n",
    "      \"the speed of wind is determined by the magnitude of the air pressure difference make the air move \\n\"\n",
    "      \"from high pressure to low.  with greater speeds resulting from greater air pressure differences.\\n\"\n",
    "      \"Observations show that the wind speed increases equatorward in low latitudes while the wind speed decreases. \\n\"\n",
    "      +'\\033[0m')"
   ]
  },
  {
   "cell_type": "markdown",
   "metadata": {},
   "source": [
    "## Linear Regression"
   ]
  },
  {
   "cell_type": "code",
   "execution_count": 50,
   "metadata": {},
   "outputs": [],
   "source": [
    "# Separate the plots into Northern Hemisphere (>=0 degrees latitude) and Southern Hemisphere (<0 degrees latitude):\n",
    "\n",
    "#Northern Hemisphere - Temperature (F) vs. Latitude\n",
    "#Southern Hemisphere - Temperature (F) vs. Latitude\n",
    "#Northern Hemisphere - Humidity (%) vs. Latitude\n",
    "#Southern Hemisphere - Humidity (%) vs. Latitude\n",
    "#Northern Hemisphere - Cloudiness (%) vs. Latitude\n",
    "#Southern Hemisphere - Cloudiness (%) vs. Latitude\n",
    "#Northern Hemisphere - Wind Speed (mph) vs. Latitude\n",
    "#Southern Hemisphere - Wind Speed (mph) vs. Latitude\n",
    "\n",
    "# explain what the linear regression is modeling. Describe any relationships and any other analysis\n",
    "\n",
    "#final notebook must:\n",
    "# Randomly select at least 500 unique (non-repeat) cities based on latitude and longitude.\n",
    "# Perform a weather check on each of the cities using a series of successive API calls.\n",
    "# Include a print log of each city as it's being processed with the city number and city name.\n",
    "# Save a CSV of all retrieved data and a PNG image for each scatter plot.\n",
    "\n",
    "def linear_regression_plot(x_values, y_values, variable, equation_coordinates):\n",
    "\n",
    "    (slope, intercept, rvalue, pvalue, stderr) = linregress(x_values, y_values)\n",
    "    regress_values = x_values * slope + intercept\n",
    "    line_eq = 'y = ' + str(round(slope,2)) + 'x + ' + str(round(intercept,2))\n",
    "\n",
    "    # Plot scatter plot\n",
    "    plt.scatter(x_values, y_values)\n",
    "    \n",
    "    # Plot regression line\n",
    "    plt.plot(x_values, regress_values, 'r-')\n",
    "    plt.annotate(line_eq, equation_coordinates, fontsize=15, color='red')\n",
    "    \n",
    "    # Label plot\n",
    "    plt.xlabel('Latitude')\n",
    "    plt.ylabel(variable)\n",
    "    \n",
    "    # Print r-squared value\n",
    "    print(f'The r-squared value is: {rvalue**2}')\n",
    "    \n",
    "    # Show plot\n",
    "    plt.show()"
   ]
  },
  {
   "cell_type": "markdown",
   "metadata": {},
   "source": [
    "####  Northern Hemisphere - Max Temp vs. Latitude Linear Regression"
   ]
  },
  {
   "cell_type": "code",
   "execution_count": 51,
   "metadata": {},
   "outputs": [
    {
     "data": {
      "image/png": "[encoded data removed]",
      "text/plain": [
       "<Figure size 432x288 with 1 Axes>"
      ]
     },
     "metadata": {
      "needs_background": "light"
     },
     "output_type": "display_data"
    }
   ],
   "source": [
    "# create dataframe for northern hemisphere\n",
    "N_hemisphere = weatherDF.loc[weatherDF[\"Latitude\"] >= 0]\n",
    "\n",
    "# Create a scatter plot for latitude vs temperature for northern hemisphere\n",
    "x_values = N_hemisphere[\"Latitude\"]\n",
    "y_values = N_hemisphere[\"Temp\"]\n",
    "plt.scatter(x_values, y_values, facecolors=\"darkblue\", marker=\"o\", edgecolor=\"white\")\n",
    "plt.xlabel('Latitude')\n",
    "plt.ylabel('Temperature (F)')\n",
    "plt.title(\"Nothern Hemisphere - City Latitude vs. Max Temperature (01/23/2022)\")\n",
    "\n",
    "plt.grid()\n",
    "plt.show()"
   ]
  },
  {
   "cell_type": "code",
   "execution_count": 52,
   "metadata": {},
   "outputs": [
    {
     "name": "stdout",
     "output_type": "stream",
     "text": [
      "1     -12.796863\n",
      "3     -22.345319\n",
      "5     -18.324030\n",
      "8      19.361491\n",
      "9      10.319805\n",
      "         ...    \n",
      "548    -9.638534\n",
      "549    31.640950\n",
      "550    27.945385\n",
      "552    10.589990\n",
      "553    28.747631\n",
      "Name: Latitude, Length: 369, dtype: float64\n"
     ]
    }
   ],
   "source": [
    "# Perform a linear regression on Max temperature vs. latitude for Northern hemisphere\n",
    "(slope, intercept, rvalue, pvalue, stderr) = stats.linregress(x_values, y_values)\n",
    "\n",
    "# caculate regression values\n",
    "regress_values = x_values * slope + intercept\n",
    "print(regress_values)"
   ]
  },
  {
   "cell_type": "code",
   "execution_count": 53,
   "metadata": {},
   "outputs": [
    {
     "name": "stdout",
     "output_type": "stream",
     "text": [
      "y = -0.73x +34.13\n"
     ]
    }
   ],
   "source": [
    "# result of line equation string\n",
    "line_equation = \"y = \" + str(round(slope,2)) + \"x +\" + str(round(intercept,2))\n",
    "print(line_equation)"
   ]
  },
  {
   "cell_type": "code",
   "execution_count": 54,
   "metadata": {},
   "outputs": [
    {
     "name": "stdout",
     "output_type": "stream",
     "text": [
      "The r-value is: 0.8208500770805531\n"
     ]
    },
    {
     "data": {
      "image/png": "[encoded data removed]",
      "text/plain": [
       "<Figure size 432x288 with 1 Axes>"
      ]
     },
     "metadata": {
      "needs_background": "light"
     },
     "output_type": "display_data"
    }
   ],
   "source": [
    "# Create plot for Northern hemisphere\n",
    "plt.scatter(x_values,y_values)\n",
    "plt.plot(x_values,regress_values,\"r-\")\n",
    "\n",
    "# Label plot and annotate the line equation\n",
    "plt.xlabel(\"Latitude\")\n",
    "plt.ylabel(\"Max Temperature\")\n",
    "\n",
    "#plt.text(1,1,line_equation, color='red')\n",
    "plt.annotate(line_equation,(0,0),fontsize=15,color=\"red\")\n",
    "\n",
    "# Print r value\n",
    "print(f\"The r-value is: {rvalue**2}\")\n",
    "\n",
    "# save plot as png file\n",
    "plt.savefig(\"N_hemisphere_CityLatitude_vs_Temp.png\")\n",
    "\n",
    "plt.grid()\n",
    "plt.show()"
   ]
  },
  {
   "cell_type": "markdown",
   "metadata": {},
   "source": [
    "####  Southern Hemisphere - Max Temp vs. Latitude Linear Regression"
   ]
  },
  {
   "cell_type": "code",
   "execution_count": 55,
   "metadata": {},
   "outputs": [
    {
     "name": "stdout",
     "output_type": "stream",
     "text": [
      "The r-value is: 0.8208500770805531\n"
     ]
    },
    {
     "data": {
      "image/png": "[encoded data removed]",
      "text/plain": [
       "<Figure size 432x288 with 1 Axes>"
      ]
     },
     "metadata": {
      "needs_background": "light"
     },
     "output_type": "display_data"
    }
   ],
   "source": [
    "# create dataframe for Southern Hemisphere\n",
    "S_hemisphere = weatherDF.loc[weatherDF[\"Latitude\"] < 0]\n",
    "\n",
    "# Create a scatter plot for latitude vs temperature for northern hemisphere\n",
    "x_values = S_hemisphere[\"Latitude\"]\n",
    "y_values = S_hemisphere[\"Temp\"]\n",
    "plt.scatter(x_values, y_values, facecolors=\"darkblue\", marker=\"o\", edgecolor=\"white\")\n",
    "plt.xlabel('Latitude')\n",
    "plt.ylabel('Temperature (F)')\n",
    "plt.title(\"Southern Hemisphere - City Latitude vs. Max Temperature (01/23/2022)\")\n",
    "\n",
    "#plt.plot(x_values,regress_values,\"r-\")\n",
    "#plt.annotate(line_equation,(0,0),fontsize=15,color=\"red\")\n",
    "\n",
    "# Print r value\n",
    "print(f\"The r-value is: {rvalue**2}\")\n",
    "\n",
    "# save plot as png file\n",
    "plt.savefig(\"S_hemisphere_CityLat_vs_Temp.png\")\n",
    "\n",
    "plt.grid()\n",
    "plt.show()"
   ]
  },
  {
   "cell_type": "code",
   "execution_count": 56,
   "metadata": {},
   "outputs": [
    {
     "name": "stdout",
     "output_type": "stream",
     "text": [
      "0      21.407438\n",
      "2      23.316860\n",
      "4      22.785658\n",
      "6      23.474041\n",
      "7      21.951546\n",
      "         ...    \n",
      "530    21.352408\n",
      "543    26.547553\n",
      "547    21.677805\n",
      "551    25.817589\n",
      "554    21.486950\n",
      "Name: Latitude, Length: 186, dtype: float64\n"
     ]
    }
   ],
   "source": [
    "# Perform a linear regression on Max temperature vs. latitude for Southern hemisphere\n",
    "(slope, intercept, rvalue, pvalue, stderr) = stats.linregress(x_values, y_values)\n",
    "\n",
    "# caculate regression values\n",
    "regress_values = x_values * slope + intercept\n",
    "print(regress_values)"
   ]
  },
  {
   "cell_type": "code",
   "execution_count": 57,
   "metadata": {},
   "outputs": [
    {
     "name": "stdout",
     "output_type": "stream",
     "text": [
      "y = 0.15x +26.62\n"
     ]
    }
   ],
   "source": [
    "# result of line equation string\n",
    "line_equation1 = \"y = \" + str(round(slope,2)) + \"x +\" + str(round(intercept,2))\n",
    "print(line_equation1)"
   ]
  },
  {
   "cell_type": "code",
   "execution_count": 58,
   "metadata": {},
   "outputs": [
    {
     "name": "stdout",
     "output_type": "stream",
     "text": [
      "The r-value is: 0.126191257592118\n"
     ]
    },
    {
     "data": {
      "image/png": "[encoded data removed]",
      "text/plain": [
       "<Figure size 432x288 with 1 Axes>"
      ]
     },
     "metadata": {
      "needs_background": "light"
     },
     "output_type": "display_data"
    }
   ],
   "source": [
    "# Create plot for Southern Hemisphere\n",
    "plt.scatter(x_values,y_values)\n",
    "plt.plot(x_values,regress_values,\"r-\")\n",
    "\n",
    "# Label plot and annotate the line equation\n",
    "plt.xlabel(\"Latitude\")\n",
    "plt.ylabel(\"Max Tempe\")\n",
    "\n",
    "plt.scatter(x_values, y_values, facecolors=\"darkblue\", marker=\"o\", edgecolor=\"white\")\n",
    "plt.xlabel('Latitude')\n",
    "plt.ylabel('Max Temperature (F)')\n",
    "plt.title(\"Southern Hemisphere - City Latitude vs. Max Temperature (01/23/2022)\")\n",
    "\n",
    "#plt.text(0,0,line_equation1, color='red')\n",
    "plt.annotate({line_equation1},(0,0),fontsize=15,color=\"red\")\n",
    "\n",
    "# Print r value\n",
    "print(f\"The r-value is: {rvalue**2}\")\n",
    "\n",
    "# save plot as png file\n",
    "plt.savefig(\"S_Hemi_CityLatitude_vs_MaxTemp_LinearReg\")\n",
    "\n",
    "plt.grid()\n",
    "plt.show()"
   ]
  },
  {
   "cell_type": "markdown",
   "metadata": {},
   "source": [
    "####  Northern Hemisphere - Humidity (%) vs. Latitude Linear Regression"
   ]
  },
  {
   "cell_type": "code",
   "execution_count": null,
   "metadata": {},
   "outputs": [],
   "source": []
  },
  {
   "cell_type": "markdown",
   "metadata": {},
   "source": [
    "####  Southern Hemisphere - Humidity (%) vs. Latitude Linear Regression"
   ]
  },
  {
   "cell_type": "code",
   "execution_count": null,
   "metadata": {},
   "outputs": [],
   "source": []
  },
  {
   "cell_type": "markdown",
   "metadata": {},
   "source": [
    "####  Northern Hemisphere - Cloudiness (%) vs. Latitude Linear Regression"
   ]
  },
  {
   "cell_type": "code",
   "execution_count": null,
   "metadata": {},
   "outputs": [],
   "source": []
  },
  {
   "cell_type": "markdown",
   "metadata": {},
   "source": [
    "####  Southern Hemisphere - Cloudiness (%) vs. Latitude Linear Regression"
   ]
  },
  {
   "cell_type": "code",
   "execution_count": null,
   "metadata": {},
   "outputs": [],
   "source": []
  },
  {
   "cell_type": "markdown",
   "metadata": {},
   "source": [
    "####  Northern Hemisphere - Wind Speed (mph) vs. Latitude Linear Regression"
   ]
  },
  {
   "cell_type": "code",
   "execution_count": null,
   "metadata": {},
   "outputs": [],
   "source": []
  },
  {
   "cell_type": "markdown",
   "metadata": {},
   "source": [
    "####  Southern Hemisphere - Wind Speed (mph) vs. Latitude Linear Regression"
   ]
  },
  {
   "cell_type": "code",
   "execution_count": null,
   "metadata": {},
   "outputs": [],
   "source": []
  },
  {
   "cell_type": "code",
   "execution_count": null,
   "metadata": {},
   "outputs": [],
   "source": []
  }
 ],
 "metadata": {
  "anaconda-cloud": {},
  "kernel_info": {
   "name": "python3"
  },
  "kernelspec": {
   "display_name": "Python 3",
   "language": "python",
   "name": "python3"
  },
  "language_info": {
   "codemirror_mode": {
    "name": "ipython",
    "version": 3
   },
   "file_extension": ".py",
   "mimetype": "text/x-python",
   "name": "python",
   "nbconvert_exporter": "python",
   "pygments_lexer": "ipython3",
   "version": "3.8.8"
  },
  "latex_envs": {
   "LaTeX_envs_menu_present": true,
   "autoclose": false,
   "autocomplete": true,
   "bibliofile": "biblio.bib",
   "cite_by": "apalike",
   "current_citInitial": 1,
   "eqLabelWithNumbers": true,
   "eqNumInitial": 1,
   "hotkeys": {
    "equation": "Ctrl-E",
    "itemize": "Ctrl-I"
   },
   "labels_anchors": false,
   "latex_user_defs": false,
   "report_style_numbering": false,
   "user_envs_cfg": false
  },
  "nteract": {
   "version": "0.12.3"
  }
 },
 "nbformat": 4,
 "nbformat_minor": 2
}
