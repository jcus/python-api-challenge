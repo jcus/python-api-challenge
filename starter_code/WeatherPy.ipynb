{
 "cells": [
  {
   "cell_type": "markdown",
   "metadata": {},
   "source": [
    "# WeatherPy\n",
    "----\n",
    "\n",
    "#### Note\n",
    "* Instructions have been included for each segment. You do not have to follow them exactly, but they are included to help you think through the steps."
   ]
  },
  {
   "cell_type": "code",
   "execution_count": 1,
   "metadata": {},
   "outputs": [
    {
     "name": "stdout",
     "output_type": "stream",
     "text": [
      "Requirement already satisfied: citipy in c:\\programdata\\anaconda3\\lib\\site-packages (0.0.5)\n",
      "Requirement already satisfied: kdtree>=0.12 in c:\\programdata\\anaconda3\\lib\\site-packages (from citipy) (0.16)\n",
      "Note: you may need to restart the kernel to use updated packages.\n"
     ]
    }
   ],
   "source": [
    "pip install citipy"
   ]
  },
  {
   "cell_type": "code",
   "execution_count": 2,
   "metadata": {
    "scrolled": true
   },
   "outputs": [],
   "source": [
    "# Dependencies and Setup\n",
    "import matplotlib.pyplot as plt\n",
    "import pandas as pd\n",
    "import numpy as np\n",
    "import requests\n",
    "import time\n",
    "from scipy import stats\n",
    "#from scipy.stats import linregress\n",
    "import json\n",
    "\n",
    "# Incorporated citipy to determine city based on latitude and longitude\n",
    "from citipy import citipy\n",
    "\n",
    "## Import API key\n",
    "from api_keys import weather_api_key\n",
    "\n",
    "# under VBA add this line to .iginore to gnore the push/ modification of the config.py file\n",
    "# api_keys.py"
   ]
  },
  {
   "cell_type": "code",
   "execution_count": 3,
   "metadata": {},
   "outputs": [],
   "source": [
    "# Output File CSV\n",
    "output_data_file = \"output_data/cities.csv\"\n",
    "\n",
    "# Range of latitudes and longitudes\n",
    "lat_range = (-90, 90)\n",
    "lng_range = (-180, 180)"
   ]
  },
  {
   "cell_type": "markdown",
   "metadata": {},
   "source": [
    "# Generate Cities List"
   ]
  },
  {
   "cell_type": "code",
   "execution_count": 4,
   "metadata": {},
   "outputs": [],
   "source": [
    "# List for holding lat_lngs and cities\n",
    "lat_lngs = []\n",
    "cities = []\n",
    "\n",
    "# Create a set of random lat and lng combinations-- numpy, generate 1500 lats, lngs a piece\n",
    "lats = np.random.uniform(lat_range[0], lat_range[1], size=1500)\n",
    "lngs = np.random.uniform(lng_range[0], lng_range[1], size=1500)\n",
    "lat_lngs = zip(lats, lngs)"
   ]
  },
  {
   "cell_type": "code",
   "execution_count": 5,
   "metadata": {},
   "outputs": [
    {
     "data": {
      "text/plain": [
       "622"
      ]
     },
     "execution_count": 5,
     "metadata": {},
     "output_type": "execute_result"
    }
   ],
   "source": [
    "# Identify nearest city for each lat, lng combination\n",
    "for lat_lng in lat_lngs:\n",
    "    city = citipy.nearest_city(lat_lng[0], lat_lng[1]).city_name\n",
    "    \n",
    "    # If the city is unique, then add it to a our cities list\n",
    "    if city not in cities:\n",
    "        cities.append(city)\n",
    "\n",
    "# Print the city count to confirm sufficient count\n",
    "len(cities)"
   ]
  },
  {
   "cell_type": "markdown",
   "metadata": {},
   "source": [
    "### Perform API Calls\n",
    "* Perform a weather check on each city using a series of successive API calls.\n",
    "* Include a print log of each city as it'sbeing processed (with the city number and city name).\n"
   ]
  },
  {
   "cell_type": "code",
   "execution_count": 6,
   "metadata": {
    "scrolled": true
   },
   "outputs": [],
   "source": [
    "# the url info\n",
    "url = \"http://api.openweathermap.org/data/2.5/weather?\"\n",
    "units = \"metric\""
   ]
  },
  {
   "cell_type": "code",
   "execution_count": 7,
   "metadata": {},
   "outputs": [],
   "source": [
    "# url Query build\n",
    "Q_url = f\"{url}appid={weather_api_key}&units={units}&q=\"\n",
    "## url = f\"http://api.openweathermap.org/data/2.5/weather?units-imperial&APPID={weather_api_key}\""
   ]
  },
  {
   "cell_type": "code",
   "execution_count": 8,
   "metadata": {},
   "outputs": [
    {
     "name": "stdout",
     "output_type": "stream",
     "text": [
      "{\n",
      "      \"cod\": \"404\",\n",
      "      \"message\": \"city not found\"\n",
      "}\n"
     ]
    }
   ],
   "source": [
    "# Get city weather data\n",
    "weather_response = requests.get(Q_url + city)\n",
    "weather_json = weather_response.json()\n",
    "# converts a Python object into a json string-- dumps\n",
    "print(json.dumps(weather_json, indent=6))\n",
    "#print(weather_json)"
   ]
  },
  {
   "cell_type": "code",
   "execution_count": 9,
   "metadata": {},
   "outputs": [
    {
     "name": "stdout",
     "output_type": "stream",
     "text": [
      "<Response [404]>\n"
     ]
    }
   ],
   "source": [
    "# set empty for list of variables\n",
    "city_name = []\n",
    "latitude = []\n",
    "longitude = []\n",
    "temperature = []\n",
    "humidity = []\n",
    "cloudiness = []\n",
    "wind_speed = []\n",
    "country = []\n",
    "date = []\n",
    "\n",
    "# start record counting\n",
    "processing_record = 1 \n",
    "\n",
    "print(weather_response)\n",
    "#print(cities)"
   ]
  },
  {
   "cell_type": "code",
   "execution_count": 10,
   "metadata": {},
   "outputs": [
    {
     "name": "stdout",
     "output_type": "stream",
     "text": [
      "Beginning Data Retrieval      \n",
      "------------------------------\n",
      "Processing Record 1 | Dzhebariki-Khaya\n",
      "Processing Record 2 | Norman Wells\n",
      "Processing Record 3 | Turba\n",
      "Processing Record 4 | New Norfolk\n",
      "Processing Record 5 | Koslan\n",
      "Processing Record 6 | Prince Rupert\n",
      "City not found. Skipping...\n",
      "Processing Record 7 | Butaritari\n",
      "Processing Record 8 | Husavik\n",
      "Processing Record 9 | São José da Coroa Grande\n",
      "Processing Record 10 | Zeerust\n",
      "Processing Record 11 | Bethel\n",
      "Processing Record 12 | Tiksi\n",
      "City not found. Skipping...\n",
      "Processing Record 13 | Iqaluit\n",
      "Processing Record 14 | Busselton\n",
      "Processing Record 15 | Arraial do Cabo\n",
      "Processing Record 16 | Rocha\n",
      "Processing Record 17 | Cape Town\n",
      "Processing Record 18 | Coos Bay\n",
      "Processing Record 19 | Saldanha\n",
      "City not found. Skipping...\n",
      "City not found. Skipping...\n",
      "Processing Record 20 | Ushuaia\n",
      "Processing Record 21 | Mataura\n",
      "Processing Record 22 | Vysokopillya\n",
      "City not found. Skipping...\n",
      "Processing Record 23 | Kapaa\n",
      "Processing Record 24 | Kimbe\n",
      "City not found. Skipping...\n",
      "Processing Record 25 | Hobart\n",
      "Processing Record 26 | Kysyl-Syr\n",
      "Processing Record 27 | Tasiilaq\n",
      "Processing Record 28 | Bredasdorp\n",
      "Processing Record 29 | Clyde River\n",
      "Processing Record 30 | Saskylakh\n",
      "Processing Record 31 | Moree\n",
      "Processing Record 32 | Rikitea\n",
      "Processing Record 33 | Saint-Pierre\n",
      "Processing Record 34 | Kargopol'\n",
      "Processing Record 35 | Aklavik\n",
      "Processing Record 36 | Avarua\n",
      "City not found. Skipping...\n",
      "Processing Record 37 | Carnarvon\n",
      "Processing Record 38 | Soe\n",
      "Processing Record 39 | Vaini\n",
      "Processing Record 40 | Mahébourg\n",
      "Processing Record 41 | Atuona\n",
      "Processing Record 42 | Algeciras\n",
      "Processing Record 43 | Biryusinsk\n",
      "Processing Record 44 | Albany\n",
      "Processing Record 45 | Barrow\n",
      "Processing Record 46 | Riachão\n",
      "Processing Record 47 | Holt\n",
      "Processing Record 48 | Cidreira\n",
      "Processing Record 49 | Sigli\n",
      "Processing Record 50 | Tuatapere\n",
      "Processing Record 51 | Puerto Ayora\n",
      "Processing Record 52 | Thompson\n",
      "Processing Record 53 | Emerald\n",
      "Processing Record 54 | Torbay\n",
      "Processing Record 55 | Punta Arenas\n",
      "Processing Record 56 | Sørland\n",
      "Processing Record 57 | Bluff\n",
      "Processing Record 58 | East London\n",
      "Processing Record 59 | Cap Malheureux\n",
      "Processing Record 60 | Severo-Kuril'sk\n",
      "Processing Record 61 | Provideniya\n",
      "City not found. Skipping...\n",
      "Processing Record 62 | Ilhabela\n",
      "Processing Record 63 | Linkou\n",
      "Processing Record 64 | Leningradskiy\n",
      "Processing Record 65 | Jumla\n",
      "Processing Record 66 | Hilo\n",
      "Processing Record 67 | Taltal\n",
      "City not found. Skipping...\n",
      "Processing Record 68 | Nobeoka\n",
      "Processing Record 69 | Hithadhoo\n",
      "Processing Record 70 | Touros\n",
      "Processing Record 71 | Eastlake\n",
      "Processing Record 72 | Shāhpur\n",
      "Processing Record 73 | Saint Anthony\n",
      "Processing Record 74 | Srednekolymsk\n",
      "Processing Record 75 | Luwuk\n",
      "Processing Record 76 | Abu Samrah\n",
      "Processing Record 77 | Chui\n",
      "Processing Record 78 | Bourail\n",
      "Processing Record 79 | Tuktoyaktuk\n",
      "Processing Record 80 | Bariloche\n",
      "Processing Record 81 | Chokurdakh\n",
      "Processing Record 82 | Bonnyville\n",
      "City not found. Skipping...\n",
      "Processing Record 83 | Ferrol\n",
      "Processing Record 84 | Miraflores\n",
      "Processing Record 85 | Pitimbu\n",
      "Processing Record 86 | Saint-Philippe\n",
      "Processing Record 87 | Kalmunai\n",
      "Processing Record 88 | Buchanan\n",
      "City not found. Skipping...\n",
      "Processing Record 89 | Pangai\n",
      "Processing Record 90 | Qaanaaq\n",
      "Processing Record 91 | Yulara\n",
      "Processing Record 92 | Hermanus\n",
      "Processing Record 93 | Vostok\n",
      "Processing Record 94 | Klaksvík\n",
      "Processing Record 95 | Kavieng\n",
      "Processing Record 96 | Yagodnoye\n",
      "Processing Record 97 | Hwange\n",
      "Processing Record 98 | Baloži\n",
      "City not found. Skipping...\n",
      "Processing Record 99 | Ekenäs\n",
      "City not found. Skipping...\n",
      "Processing Record 100 | Sahuaripa\n",
      "Processing Record 101 | Longyearbyen\n",
      "Processing Record 102 | Nioro\n",
      "Processing Record 103 | Salalah\n",
      "Processing Record 104 | Māngrol\n",
      "City not found. Skipping...\n",
      "Processing Record 105 | Dedza\n",
      "Processing Record 106 | Castro\n",
      "Processing Record 107 | Pisco\n",
      "Processing Record 108 | Bathsheba\n",
      "Processing Record 109 | Sobolevo\n",
      "Processing Record 110 | Mar del Plata\n",
      "City not found. Skipping...\n",
      "Processing Record 111 | Poum\n",
      "Processing Record 112 | Phalodi\n",
      "Processing Record 113 | Hong Kong\n",
      "City not found. Skipping...\n",
      "Processing Record 114 | Bambous Virieux\n",
      "Processing Record 115 | São João da Barra\n",
      "Processing Record 116 | Dzilam González\n",
      "Processing Record 117 | Buala\n",
      "Processing Record 118 | Gouyave\n",
      "Processing Record 119 | Kayerkan\n",
      "Processing Record 120 | Faanui\n",
      "Processing Record 121 | Bac Lieu\n",
      "Processing Record 122 | Palmer\n",
      "Processing Record 123 | Bonavista\n",
      "Processing Record 124 | Takhtamygda\n",
      "Processing Record 125 | Riyadh\n",
      "Processing Record 126 | Kahului\n",
      "Processing Record 127 | Capitán Bado\n",
      "Processing Record 128 | Dingle\n",
      "Processing Record 129 | Mgachi\n",
      "Processing Record 130 | Pangnirtung\n",
      "Processing Record 131 | Kleive\n",
      "Processing Record 132 | Russell\n",
      "Processing Record 133 | Shankargarh\n",
      "Processing Record 134 | Tommot\n",
      "Processing Record 135 | Trincomalee\n",
      "Processing Record 136 | Yellowknife\n",
      "Processing Record 137 | Berlevåg\n",
      "Processing Record 138 | San Patricio\n",
      "City not found. Skipping...\n",
      "Processing Record 139 | Lethem\n",
      "Processing Record 140 | Bull Savanna\n",
      "City not found. Skipping...\n",
      "Processing Record 141 | Jamestown\n",
      "Processing Record 142 | Ancud\n",
      "Processing Record 143 | Luohe\n",
      "Processing Record 144 | Yanji\n",
      "Processing Record 145 | Ahipara\n",
      "Processing Record 146 | St. George's\n",
      "Processing Record 147 | Luanda\n",
      "Processing Record 148 | Châtellerault\n",
      "Processing Record 149 | Poso\n",
      "Processing Record 150 | Laas\n",
      "Processing Record 151 | Hay River\n",
      "Processing Record 152 | Port Alfred\n",
      "City not found. Skipping...\n",
      "Processing Record 153 | Dingcheng\n",
      "Processing Record 154 | Marsh Harbour\n",
      "Processing Record 155 | Kidal\n",
      "Processing Record 156 | Ostrovnoy\n",
      "Processing Record 157 | Port Lincoln\n",
      "Processing Record 158 | Ust-Nera\n",
      "Processing Record 159 | Mount Gambier\n",
      "Processing Record 160 | Ketchikan\n",
      "Processing Record 161 | Tahe\n",
      "Processing Record 162 | Ponta do Sol\n",
      "City not found. Skipping...\n",
      "City not found. Skipping...\n",
      "Processing Record 163 | Slobozia\n",
      "City not found. Skipping...\n",
      "Processing Record 164 | Nikolskoye\n",
      "Processing Record 165 | Puerto Madero\n",
      "Processing Record 166 | Suwałki\n",
      "Processing Record 167 | Port Macquarie\n",
      "Processing Record 168 | Lagoa\n",
      "Processing Record 169 | Anadyr\n",
      "Processing Record 170 | Ampanihy\n",
      "Processing Record 171 | Yumen\n",
      "Processing Record 172 | Los Llanos de Aridane\n",
      "Processing Record 173 | Pevek\n",
      "City not found. Skipping...\n",
      "City not found. Skipping...\n",
      "Processing Record 174 | Fare\n",
      "Processing Record 175 | Kishapu\n",
      "Processing Record 176 | Goya\n",
      "Processing Record 177 | Saint-Maximin-la-Sainte-Baume\n",
      "Processing Record 178 | Lüderitz\n",
      "Processing Record 179 | Cabo San Lucas\n",
      "Processing Record 180 | Gornopravdinsk\n",
      "Processing Record 181 | Novotroitskaya\n",
      "Processing Record 182 | Marrakesh\n",
      "Processing Record 183 | Praia\n",
      "Processing Record 184 | Kamina\n",
      "Processing Record 185 | Tarime\n",
      "Processing Record 186 | Vila Velha\n",
      "Processing Record 187 | Fevik\n",
      "Processing Record 188 | Havre-St-Pierre\n",
      "Processing Record 189 | Vyartsilya\n",
      "Processing Record 190 | Souillac\n",
      "Processing Record 191 | Petropavlovsk-Kamchatskiy\n",
      "City not found. Skipping...\n",
      "Processing Record 192 | La Palma\n",
      "Processing Record 193 | Mangan\n",
      "Processing Record 194 | Sabang\n",
      "Processing Record 195 | Norsup\n",
      "Processing Record 196 | Adrar\n",
      "Processing Record 197 | Coyhaique\n",
      "Processing Record 198 | Dikson\n",
      "Processing Record 199 | Ouésso\n",
      "Processing Record 200 | Ninh Binh\n",
      "Processing Record 201 | Zinder\n",
      "City not found. Skipping...\n",
      "Processing Record 202 | Villa Alemana\n",
      "Processing Record 203 | Esperance\n",
      "Processing Record 204 | Macao\n",
      "Processing Record 205 | Saint Paul Harbor\n",
      "Processing Record 206 | Nanortalik\n",
      "Processing Record 207 | Praia da Vitória\n",
      "Processing Record 208 | Carndonagh\n",
      "Processing Record 209 | Grand Gaube\n",
      "Processing Record 210 | Nome\n",
      "Processing Record 211 | Aksu\n",
      "Processing Record 212 | Kudahuvadhoo\n",
      "Processing Record 213 | Port Blair\n",
      "Processing Record 214 | Guerrero Negro\n",
      "Processing Record 215 | Mercedes\n",
      "Processing Record 216 | Najrān\n",
      "Processing Record 217 | Bandarbeyla\n",
      "Processing Record 218 | Isangel\n",
      "Processing Record 219 | Yakovlevka\n",
      "Processing Record 220 | Kuala Lumpur\n",
      "Processing Record 221 | Fukuechō\n",
      "Processing Record 222 | Port Moresby\n",
      "Processing Record 223 | Camocim\n",
      "Processing Record 224 | Cabedelo\n"
     ]
    },
    {
     "name": "stdout",
     "output_type": "stream",
     "text": [
      "Processing Record 225 | Kirkuk\n",
      "Processing Record 226 | Morondava\n",
      "Processing Record 227 | Tabou\n",
      "Processing Record 228 | Llangefni\n",
      "Processing Record 229 | Aksha\n",
      "Processing Record 230 | Pīpri\n",
      "Processing Record 231 | Cape Canaveral\n",
      "Processing Record 232 | Ixtapa\n",
      "Processing Record 233 | Andenes\n",
      "City not found. Skipping...\n",
      "Processing Record 234 | Yerofey Pavlovich\n",
      "Processing Record 235 | Barra do Garças\n",
      "Processing Record 236 | Kaeo\n",
      "Processing Record 237 | Hambantota\n",
      "Processing Record 238 | Micheweni\n",
      "Processing Record 239 | Nurota\n",
      "Processing Record 240 | Opuwo\n",
      "Processing Record 241 | Benghazi\n",
      "Processing Record 242 | Kanniyākumāri\n",
      "Processing Record 243 | Lorengau\n",
      "Processing Record 244 | Sola\n",
      "Processing Record 245 | Zhigansk\n",
      "Processing Record 246 | Muros\n",
      "Processing Record 247 | Brownwood\n",
      "Processing Record 248 | Cootamundra\n",
      "Processing Record 249 | Melo\n",
      "Processing Record 250 | Meaford\n",
      "Processing Record 251 | Khovd\n",
      "Processing Record 252 | Hualmay\n",
      "Processing Record 253 | Ojinaga\n",
      "Processing Record 254 | Pucallpa\n",
      "Processing Record 255 | Kaitangata\n",
      "Processing Record 256 | Parintins\n",
      "Processing Record 257 | Lebu\n",
      "Processing Record 258 | Imeni Karla Libknekhta\n",
      "Processing Record 259 | Bo Rai\n",
      "Processing Record 260 | Flin Flon\n",
      "Processing Record 261 | Chippewa Falls\n",
      "Processing Record 262 | São Filipe\n",
      "Processing Record 263 | Christchurch\n",
      "Processing Record 264 | Te Anau\n",
      "Processing Record 265 | Airai\n",
      "Processing Record 266 | Puerto Madryn\n",
      "Processing Record 267 | Odienné\n",
      "Processing Record 268 | Hobyo\n",
      "Processing Record 269 | Tambopata\n",
      "Processing Record 270 | Channel-Port aux Basques\n",
      "Processing Record 271 | Nagua\n",
      "Processing Record 272 | Lavrentiya\n",
      "Processing Record 273 | Leninsk\n",
      "Processing Record 274 | Quatre Cocos\n",
      "Processing Record 275 | Mogadishu\n",
      "Processing Record 276 | Jiuquan\n",
      "Processing Record 277 | Izumo\n",
      "Processing Record 278 | Codajás\n",
      "Processing Record 279 | La Ronge\n",
      "Processing Record 280 | Kargasok\n",
      "Processing Record 281 | George Town\n",
      "Processing Record 282 | Rawson\n",
      "Processing Record 283 | Khromtau\n",
      "Processing Record 284 | Vermilion\n",
      "Processing Record 285 | The Pas\n",
      "Processing Record 286 | Sikasso\n",
      "Processing Record 287 | Ilulissat\n",
      "Processing Record 288 | Barão de Melgaço\n",
      "Processing Record 289 | Ribeira Grande\n",
      "Processing Record 290 | Bengkulu\n",
      "Processing Record 291 | Rockingham\n",
      "Processing Record 292 | Sakakah\n",
      "Processing Record 293 | Alofi\n",
      "Processing Record 294 | Porto Seguro\n",
      "Processing Record 295 | San Ramon\n",
      "Processing Record 296 | Umm Kaddadah\n",
      "Processing Record 297 | Khairāgarh\n",
      "Processing Record 298 | Pontianak\n",
      "Processing Record 299 | Fortuna\n",
      "Processing Record 300 | Chiang Kham\n",
      "Processing Record 301 | Yeniseysk\n",
      "City not found. Skipping...\n",
      "Processing Record 302 | Gimli\n",
      "Processing Record 303 | Walker\n",
      "Processing Record 304 | Chipata\n",
      "Processing Record 305 | Tazovsky\n",
      "Processing Record 306 | Mugango\n",
      "Processing Record 307 | Guarapari\n",
      "Processing Record 308 | Aykhal\n",
      "Processing Record 309 | Honningsvåg\n",
      "Processing Record 310 | Isla Mujeres\n",
      "Processing Record 311 | Khatanga\n",
      "City not found. Skipping...\n",
      "Processing Record 312 | Hirara\n",
      "City not found. Skipping...\n",
      "Processing Record 313 | Oranjestad\n",
      "Processing Record 314 | Sibu\n",
      "Processing Record 315 | Fuyu\n",
      "Processing Record 316 | Cabangahan\n",
      "Processing Record 317 | Drezdenko\n",
      "Processing Record 318 | Saint-Augustin\n",
      "Processing Record 319 | Ibaiti\n",
      "Processing Record 320 | Arrecife\n",
      "Processing Record 321 | Guiratinga\n",
      "Processing Record 322 | Basco\n",
      "City not found. Skipping...\n",
      "Processing Record 323 | Caravelas\n",
      "Processing Record 324 | Ivybridge\n",
      "Processing Record 325 | Narsaq\n",
      "Processing Record 326 | Laguna\n",
      "Processing Record 327 | Sitka\n",
      "Processing Record 328 | Roald\n",
      "Processing Record 329 | Meulaboh\n",
      "City not found. Skipping...\n",
      "Processing Record 330 | Chegdomyn\n",
      "Processing Record 331 | Lukiv\n",
      "Processing Record 332 | Port Elizabeth\n",
      "Processing Record 333 | Zharkent\n",
      "Processing Record 334 | Chifeng\n",
      "Processing Record 335 | Turbat\n",
      "Processing Record 336 | Edgewater\n",
      "City not found. Skipping...\n",
      "Processing Record 337 | Grand Bend\n",
      "Processing Record 338 | Canby\n",
      "Processing Record 339 | Jalu\n",
      "Processing Record 340 | Harper\n",
      "Processing Record 341 | Port Hardy\n",
      "Processing Record 342 | Marawi\n",
      "Processing Record 343 | Ondjiva\n",
      "Processing Record 344 | Mitzic\n",
      "Processing Record 345 | Laredo\n",
      "Processing Record 346 | Port Hedland\n",
      "Processing Record 347 | Chivilcoy\n",
      "Processing Record 348 | Ous\n",
      "Processing Record 349 | Richards Bay\n",
      "Processing Record 350 | Dunedin\n",
      "Processing Record 351 | Ucluelet\n",
      "Processing Record 352 | Necochea\n",
      "Processing Record 353 | General Cepeda\n",
      "Processing Record 354 | Yinzhu\n",
      "Processing Record 355 | Nova Olinda do Norte\n",
      "Processing Record 356 | Yamada\n",
      "Processing Record 357 | Coquimbo\n",
      "Processing Record 358 | Byron Bay\n",
      "Processing Record 359 | Baní\n",
      "Processing Record 360 | Kuopio\n",
      "City not found. Skipping...\n",
      "City not found. Skipping...\n",
      "Processing Record 361 | Kalya\n",
      "Processing Record 362 | Balaipungut\n",
      "Processing Record 363 | Heihe\n",
      "Processing Record 364 | Vardø\n",
      "Processing Record 365 | Mbandaka\n",
      "Processing Record 366 | Panzhihua\n",
      "Processing Record 367 | Geraldton\n",
      "Processing Record 368 | Simpang\n",
      "Processing Record 369 | Mariánské Lázně\n",
      "City not found. Skipping...\n",
      "Processing Record 370 | Vaitape\n",
      "Processing Record 371 | Kruisfontein\n",
      "Processing Record 372 | Maués\n",
      "City not found. Skipping...\n",
      "Processing Record 373 | Chastyye\n",
      "Processing Record 374 | Ayagoz\n",
      "Processing Record 375 | Eyl\n",
      "Processing Record 376 | Bubaque\n",
      "Processing Record 377 | Acapulco de Juárez\n",
      "Processing Record 378 | Flinders\n",
      "Processing Record 379 | Hitoyoshi\n",
      "Processing Record 380 | Mackay\n",
      "Processing Record 381 | Sistranda\n",
      "Processing Record 382 | Akhisar\n",
      "City not found. Skipping...\n",
      "Processing Record 383 | Olafsvik\n",
      "Processing Record 384 | Oussouye\n",
      "Processing Record 385 | Malaya Purga\n",
      "Processing Record 386 | Nānākuli\n",
      "Processing Record 387 | Qasigiannguit\n",
      "City not found. Skipping...\n",
      "Processing Record 388 | Bethanien\n",
      "Processing Record 389 | Batagay-Alyta\n",
      "Processing Record 390 | Belfast\n",
      "Processing Record 391 | Padang\n",
      "Processing Record 392 | Bam\n",
      "Processing Record 393 | Atar\n",
      "Processing Record 394 | Diffa\n",
      "Processing Record 395 | Koupéla\n",
      "Processing Record 396 | Cherskiy\n",
      "Processing Record 397 | Loandjili\n",
      "Processing Record 398 | San Quintín\n",
      "Processing Record 399 | Colac\n",
      "Processing Record 400 | Tsumeb\n",
      "Processing Record 401 | Islamkot\n",
      "Processing Record 402 | Aasiaat\n",
      "Processing Record 403 | Assiut\n",
      "Processing Record 404 | Águas Vermelhas\n",
      "Processing Record 405 | Bilma\n",
      "Processing Record 406 | Río Gallegos\n",
      "Processing Record 407 | Meru\n",
      "Processing Record 408 | Zhuanghe\n",
      "Processing Record 409 | Shubarshi\n",
      "Processing Record 410 | Tra Vinh\n",
      "Processing Record 411 | Kangaatsiaq\n",
      "Processing Record 412 | Troitsko-Pechorsk\n",
      "Processing Record 413 | Deder\n",
      "Processing Record 414 | Gigmoto\n",
      "Processing Record 415 | Asheville\n",
      "Processing Record 416 | Lundazi\n",
      "Processing Record 417 | Faya\n",
      "Processing Record 418 | Hofn\n",
      "Processing Record 419 | Goālpāra\n",
      "Processing Record 420 | Muaná\n",
      "Processing Record 421 | Pochutla\n",
      "Processing Record 422 | Natá\n",
      "Processing Record 423 | Puerto Colombia\n",
      "Processing Record 424 | Pompéia\n",
      "Processing Record 425 | Astoria\n",
      "Processing Record 426 | Shache\n",
      "Processing Record 427 | Salekhard\n",
      "Processing Record 428 | Avilés\n",
      "Processing Record 429 | Safi\n",
      "Processing Record 430 | Waipawa\n",
      "Processing Record 431 | Kérouané\n",
      "Processing Record 432 | Mehamn\n",
      "Processing Record 433 | Haines Junction\n",
      "Processing Record 434 | Kedrovyy\n",
      "Processing Record 435 | Baharly\n",
      "City not found. Skipping...\n",
      "Processing Record 436 | Raudeberg\n",
      "Processing Record 437 | Florianópolis\n",
      "Processing Record 438 | Kontagora\n",
      "City not found. Skipping...\n",
      "City not found. Skipping...\n",
      "Processing Record 439 | Vila Franca do Campo\n",
      "Processing Record 440 | Abhā\n",
      "City not found. Skipping...\n",
      "Processing Record 441 | Solapur\n",
      "Processing Record 442 | Grande Prairie\n",
      "Processing Record 443 | Deniliquin\n",
      "Processing Record 444 | Dudinka\n",
      "Processing Record 445 | Chicama\n",
      "Processing Record 446 | Anking\n",
      "Processing Record 447 | Shumskiy\n",
      "Processing Record 448 | Klyuchevskiy\n",
      "City not found. Skipping...\n",
      "Processing Record 449 | Mutatá\n",
      "Processing Record 450 | Bousso\n",
      "Processing Record 451 | Khobi\n",
      "Processing Record 452 | Zhalantun\n",
      "City not found. Skipping...\n",
      "Processing Record 453 | Berkåk\n",
      "Processing Record 454 | Morant Bay\n",
      "Processing Record 455 | Sheridan\n"
     ]
    },
    {
     "name": "stdout",
     "output_type": "stream",
     "text": [
      "Processing Record 456 | Lompoc\n",
      "Processing Record 457 | Zyryanka\n",
      "Processing Record 458 | Saint George\n",
      "Processing Record 459 | Calatayud\n",
      "Processing Record 460 | Meridian\n",
      "Processing Record 461 | Jieshi\n",
      "Processing Record 462 | Kormilovka\n",
      "Processing Record 463 | Remedios\n",
      "Processing Record 464 | Dakoro\n",
      "Processing Record 465 | Houston\n",
      "Processing Record 466 | Jaisalmer\n",
      "Processing Record 467 | Oranjemund\n",
      "Processing Record 468 | Qaqortoq\n",
      "Processing Record 469 | Darhan\n",
      "Processing Record 470 | Inuvik\n",
      "Processing Record 471 | Nipawin\n",
      "Processing Record 472 | Kenai\n",
      "Processing Record 473 | Kyotera\n",
      "Processing Record 474 | Mayo\n",
      "Processing Record 475 | Pyn U Lwin\n",
      "Processing Record 476 | Diapaga\n",
      "Processing Record 477 | Buraidah\n",
      "Processing Record 478 | Burnie\n",
      "Processing Record 479 | Panjakent\n",
      "Processing Record 480 | Broome\n",
      "Processing Record 481 | Upernavik\n",
      "Processing Record 482 | Coari\n",
      "Processing Record 483 | Chumikan\n",
      "Processing Record 484 | Asheboro\n",
      "Processing Record 485 | Loudéac\n",
      "Processing Record 486 | Aksarka\n",
      "Processing Record 487 | Pozhva\n",
      "Processing Record 488 | Shellbrook\n",
      "Processing Record 489 | San Fernando del Valle de Catamarca\n",
      "Processing Record 490 | Shitanjing\n",
      "Processing Record 491 | Sept-Îles\n",
      "Processing Record 492 | Ust-Maya\n",
      "City not found. Skipping...\n",
      "Processing Record 493 | Nesna\n",
      "Processing Record 494 | Mawlaik\n",
      "Processing Record 495 | Grindavik\n",
      "Processing Record 496 | Kamenka\n",
      "Processing Record 497 | Makakilo City\n",
      "Processing Record 498 | Marfino\n",
      "Processing Record 499 | Margate\n",
      "Processing Record 500 | Alice Springs\n",
      "Processing Record 501 | Åmot\n",
      "Processing Record 502 | Dryden\n",
      "Processing Record 503 | Maumere\n",
      "Processing Record 504 | Bawku\n",
      "Processing Record 505 | Villiers\n",
      "Processing Record 506 | Kulhudhuffushi\n",
      "Processing Record 507 | Santa Cruz de la Sierra\n",
      "Processing Record 508 | Iracoubo\n",
      "Processing Record 509 | Calama\n",
      "Processing Record 510 | Znamenskoye\n",
      "Processing Record 511 | Banda Aceh\n",
      "Processing Record 512 | Ambilobe\n",
      "Processing Record 513 | Wau\n",
      "Processing Record 514 | Hūn\n",
      "Processing Record 515 | Sioux Lookout\n",
      "Processing Record 516 | Bambanglipuro\n",
      "Processing Record 517 | Tsabong\n",
      "Processing Record 518 | Yar-Sale\n",
      "Processing Record 519 | Katobu\n",
      "Processing Record 520 | Saint Lawrence\n",
      "City not found. Skipping...\n",
      "Processing Record 521 | Dalby\n",
      "Processing Record 522 | Constitución\n",
      "Processing Record 523 | Nantucket\n",
      "Processing Record 524 | Kyzyl-Suu\n",
      "Processing Record 525 | Yola\n",
      "Processing Record 526 | Saint-Joseph\n",
      "Processing Record 527 | Nísia Floresta\n",
      "Processing Record 528 | Talas\n",
      "Processing Record 529 | Papara\n",
      "Processing Record 530 | São Luiz Gonzaga\n",
      "City not found. Skipping...\n",
      "Processing Record 531 | Shinjō\n",
      "Processing Record 532 | Forsytheganj\n",
      "Processing Record 533 | Luziânia\n",
      "Processing Record 534 | Kyabé\n",
      "Processing Record 535 | Lālsot\n",
      "Processing Record 536 | Thinadhoo\n",
      "Processing Record 537 | Belmonte\n",
      "Processing Record 538 | Yantal'\n",
      "Processing Record 539 | Moussoro\n",
      "Processing Record 540 | Hamilton\n",
      "Processing Record 541 | Kropotkin\n",
      "Processing Record 542 | Takoradze\n",
      "Processing Record 543 | Tsaratanana\n",
      "Processing Record 544 | ‘Āhuimanu\n",
      "Processing Record 545 | Deputatsky\n",
      "Processing Record 546 | Bonthe\n",
      "Processing Record 547 | Nicolás Bravo\n",
      "Processing Record 548 | Pahrump\n",
      "Processing Record 549 | Longyan\n",
      "Processing Record 550 | Anticala\n",
      "Processing Record 551 | Taoudenni\n",
      "City not found. Skipping...\n",
      "Processing Record 552 | Areia\n",
      "Processing Record 553 | Boa Vista\n",
      "Processing Record 554 | Terbuny\n",
      "Processing Record 555 | Taksimo\n",
      "Processing Record 556 | Ternate\n",
      "Processing Record 557 | La Santisima Trinidad\n",
      "Processing Record 558 | Yilan\n",
      "Processing Record 559 | Naze\n",
      "Processing Record 560 | Barranca\n",
      "Processing Record 561 | Bilibino\n",
      "Processing Record 562 | El Alto\n",
      "Processing Record 563 | Monforte de Lemos\n",
      "Processing Record 564 | Mount Isa\n",
      "Processing Record 565 | Kloulklubed\n",
      "Processing Record 566 | Havøysund\n",
      "Processing Record 567 | Melito di Porto Salvo\n",
      "Processing Record 568 | San Cristobal\n",
      "Processing Record 569 | Havelock\n",
      "Processing Record 570 | Cumberland\n",
      "Processing Record 571 | Araouane\n",
      "Processing Record 572 | Pacific Grove\n",
      "Processing Record 573 | Anloga\n",
      "------------------------------\n",
      "Data Retrieval Completed!!    \n"
     ]
    }
   ],
   "source": [
    "# data retrive process start\n",
    "\n",
    "# print to logger\n",
    "print(f\"Beginning Data Retrieval      \")\n",
    "print(f\"------------------------------\")\n",
    "\n",
    "# Loop through each city\n",
    "for city in cities:\n",
    "    \n",
    "    # try to get the response for each city\n",
    "    try:\n",
    "        response = requests.get(Q_url + city).json()\n",
    "        city_name.append(response[\"name\"])\n",
    "        latitude.append(response[\"coord\"][\"lat\"])\n",
    "        longitude.append(response[\"coord\"][\"lon\"])\n",
    "        temperature.append(response[\"main\"][\"temp\"])\n",
    "        humidity.append(response[\"main\"][\"humidity\"])\n",
    "        cloudiness.append(response[\"clouds\"][\"all\"])\n",
    "        wind_speed.append(response[\"wind\"][\"speed\"])\n",
    "        country.append(response[\"sys\"][\"country\"])\n",
    "        date.append(response[\"dt\"])\n",
    "        city_record = response[\"name\"]\n",
    "        print(f\"Processing Record {processing_record} | {city_record}\")\n",
    "        \n",
    "        # increase record counting by 1\n",
    "        processing_record += 1\n",
    "        \n",
    "    except:\n",
    "        print(\"City not found. Skipping...\") \n",
    "    pass\n",
    "\n",
    "print(f\"------------------------------\")\n",
    "print(f\"Data Retrieval Complete!!    \")\n",
    "print(f\"------------------------------\")"
   ]
  },
  {
   "cell_type": "markdown",
   "metadata": {},
   "source": [
    "### Convert Raw Data to DataFrame\n",
    "* Export the city data into a .csv.\n",
    "* Display the DataFrame"
   ]
  },
  {
   "cell_type": "code",
   "execution_count": 11,
   "metadata": {},
   "outputs": [
    {
     "data": {
      "text/html": [
       "<div>\n",
       "<style scoped>\n",
       "    .dataframe tbody tr th:only-of-type {\n",
       "        vertical-align: middle;\n",
       "    }\n",
       "\n",
       "    .dataframe tbody tr th {\n",
       "        vertical-align: top;\n",
       "    }\n",
       "\n",
       "    .dataframe thead th {\n",
       "        text-align: right;\n",
       "    }\n",
       "</style>\n",
       "<table border=\"1\" class=\"dataframe\">\n",
       "  <thead>\n",
       "    <tr style=\"text-align: right;\">\n",
       "      <th></th>\n",
       "      <th>City</th>\n",
       "      <th>Latitude</th>\n",
       "      <th>Longitude</th>\n",
       "      <th>Temp</th>\n",
       "      <th>Humidity</th>\n",
       "      <th>Cloudiness</th>\n",
       "      <th>Wind Speed</th>\n",
       "      <th>Country</th>\n",
       "      <th>Date</th>\n",
       "    </tr>\n",
       "  </thead>\n",
       "  <tbody>\n",
       "    <tr>\n",
       "      <th>0</th>\n",
       "      <td>Dzhebariki-Khaya</td>\n",
       "      <td>62.2167</td>\n",
       "      <td>135.8000</td>\n",
       "      <td>-36.89</td>\n",
       "      <td>100</td>\n",
       "      <td>77</td>\n",
       "      <td>1.08</td>\n",
       "      <td>RU</td>\n",
       "      <td>1644431092</td>\n",
       "    </tr>\n",
       "    <tr>\n",
       "      <th>1</th>\n",
       "      <td>Norman Wells</td>\n",
       "      <td>65.2820</td>\n",
       "      <td>-126.8329</td>\n",
       "      <td>-22.98</td>\n",
       "      <td>59</td>\n",
       "      <td>100</td>\n",
       "      <td>11.83</td>\n",
       "      <td>CA</td>\n",
       "      <td>1644431092</td>\n",
       "    </tr>\n",
       "    <tr>\n",
       "      <th>2</th>\n",
       "      <td>Turba</td>\n",
       "      <td>59.0831</td>\n",
       "      <td>24.2250</td>\n",
       "      <td>1.88</td>\n",
       "      <td>96</td>\n",
       "      <td>100</td>\n",
       "      <td>5.66</td>\n",
       "      <td>EE</td>\n",
       "      <td>1644431093</td>\n",
       "    </tr>\n",
       "    <tr>\n",
       "      <th>3</th>\n",
       "      <td>New Norfolk</td>\n",
       "      <td>-42.7826</td>\n",
       "      <td>147.0587</td>\n",
       "      <td>14.72</td>\n",
       "      <td>65</td>\n",
       "      <td>84</td>\n",
       "      <td>0.45</td>\n",
       "      <td>AU</td>\n",
       "      <td>1644431093</td>\n",
       "    </tr>\n",
       "    <tr>\n",
       "      <th>4</th>\n",
       "      <td>Koslan</td>\n",
       "      <td>63.4564</td>\n",
       "      <td>48.8989</td>\n",
       "      <td>-9.66</td>\n",
       "      <td>94</td>\n",
       "      <td>100</td>\n",
       "      <td>5.22</td>\n",
       "      <td>RU</td>\n",
       "      <td>1644430818</td>\n",
       "    </tr>\n",
       "  </tbody>\n",
       "</table>\n",
       "</div>"
      ],
      "text/plain": [
       "               City  Latitude  Longitude   Temp  Humidity  Cloudiness  \\\n",
       "0  Dzhebariki-Khaya   62.2167   135.8000 -36.89       100          77   \n",
       "1      Norman Wells   65.2820  -126.8329 -22.98        59         100   \n",
       "2             Turba   59.0831    24.2250   1.88        96         100   \n",
       "3       New Norfolk  -42.7826   147.0587  14.72        65          84   \n",
       "4            Koslan   63.4564    48.8989  -9.66        94         100   \n",
       "\n",
       "   Wind Speed Country        Date  \n",
       "0        1.08      RU  1644431092  \n",
       "1       11.83      CA  1644431092  \n",
       "2        5.66      EE  1644431093  \n",
       "3        0.45      AU  1644431093  \n",
       "4        5.22      RU  1644430818  "
      ]
     },
     "execution_count": 11,
     "metadata": {},
     "output_type": "execute_result"
    }
   ],
   "source": [
    "# define dataframe then display\n",
    "weather_data = {\n",
    "    \"City\": city_name,\n",
    "    \"Latitude\": latitude,\n",
    "    \"Longitude\": longitude,\n",
    "    \"Temp\": temperature,\n",
    "    \"Humidity\": humidity,\n",
    "    \"Cloudiness\": cloudiness,\n",
    "    \"Wind Speed\": wind_speed,\n",
    "    \"Country\": country,\n",
    "    \"Date\": date\n",
    "}\n",
    "weatherDF = pd.DataFrame(weather_data)\n",
    "\n",
    "weatherDF.head()"
   ]
  },
  {
   "cell_type": "code",
   "execution_count": 12,
   "metadata": {},
   "outputs": [],
   "source": [
    "# export data to CSV file\n",
    "weatherDF.to_csv(\"Weather_Output.csv\")"
   ]
  },
  {
   "cell_type": "markdown",
   "metadata": {},
   "source": [
    "## Inspect the data and remove the cities where the humidity > 100%.\n",
    "----\n",
    "Skip this step if there are no cities that have humidity > 100%. "
   ]
  },
  {
   "cell_type": "code",
   "execution_count": null,
   "metadata": {},
   "outputs": [],
   "source": [
    "#Lat\tLng\tMax Temp\tHumidity\tCloudiness\tWind Speed\tDate\n",
    "# count\t550.000000\t550.000000\t550.000000\t550.000000\t550.000000\t550.000000\t5.500000e+02"
   ]
  },
  {
   "cell_type": "code",
   "execution_count": null,
   "metadata": {},
   "outputs": [],
   "source": [
    "# Get the indices of cities that have humidity over 100%.\n",
    "# Int64Index([], dtype='int64')"
   ]
  },
  {
   "cell_type": "code",
   "execution_count": null,
   "metadata": {},
   "outputs": [],
   "source": [
    "# Make a new DataFrame equal to the city data to drop all humidity outliers by index.\n",
    "# Passing \"inplace=False\" will make a copy of the city_data DataFrame, which we call \"clean_city_data\".\n",
    "# City\tLat\tLng\tMax Temp\tHumidity\tCloudiness\tWind Speed\tCountry\tDate\n",
    "# 0\tbutaritari\t3.07\t172.79\t83.32\t74\t84\t10.42\tKI\t1593605283"
   ]
  },
  {
   "cell_type": "code",
   "execution_count": null,
   "metadata": {},
   "outputs": [],
   "source": []
  },
  {
   "cell_type": "markdown",
   "metadata": {},
   "source": [
    "## Plotting the Data\n",
    "* Use proper labeling of the plots using plot titles (including date of analysis) and axes labels.\n",
    "* Save the plotted figures as .pngs."
   ]
  },
  {
   "cell_type": "code",
   "execution_count": null,
   "metadata": {},
   "outputs": [],
   "source": [
    "## Create a series of scatter plots to showcase the following relationships:\n",
    "#  Temperature (F) vs. Latitude\n",
    "#  Humidity (%) vs. Latitude\n",
    "#  Cloudiness (%) vs. Latitude\n",
    "#  Wind Speed (mph) vs. Latitude"
   ]
  },
  {
   "cell_type": "code",
   "execution_count": null,
   "metadata": {},
   "outputs": [],
   "source": [
    "## Save plot to the selected directory. If the directory does not exist, it is created.\n",
    "\n",
    "#import os\n",
    "#import matplotlib.pyplot as plt\n",
    "\n",
    "#script_dir = os.path.dirname(__file__)\n",
    "#results_dir = os.path.join(script_dir, 'Results/')\n",
    "#plot_file_name = \"CityLatitude_vs_Temperature\"\n",
    "\n",
    "#if not os.path.isdir(results_dir):\n",
    "#    os.makedirs(results_dir)\n",
    "\n",
    "#plt.plot([1,2,3,4])\n",
    "#plt.ylabel('some numbers')\n",
    "#plt.savefig(results_dir + sample_file_name)"
   ]
  },
  {
   "cell_type": "markdown",
   "metadata": {},
   "source": [
    "## Latitude vs. Temperature Plot"
   ]
  },
  {
   "cell_type": "code",
   "execution_count": 39,
   "metadata": {
    "scrolled": true
   },
   "outputs": [
    {
     "data": {
      "image/png": "[encoded data removed]",
      "text/plain": [
       "<Figure size 432x288 with 1 Axes>"
      ]
     },
     "metadata": {
      "needs_background": "light"
     },
     "output_type": "display_data"
    },
    {
     "name": "stdout",
     "output_type": "stream",
     "text": [
      "\u001b[1mThe relationship between City Latitude and Temperature shows as the scatter plot above. \n",
      "\n",
      "All latitude lines are parallel from East to West as circles to the equator, \n",
      "Temperature is inversely related to latitude. As latitude increases, the temperature falls, and vice versa. \n",
      "\u001b[0m\n"
     ]
    },
    {
     "data": {
      "text/plain": [
       "<Figure size 432x288 with 0 Axes>"
      ]
     },
     "metadata": {},
     "output_type": "display_data"
    }
   ],
   "source": [
    "# Create a scatter plot for Temperature (F) vs. Latitude\n",
    "plt.scatter(weatherDF['Latitude'], weatherDF[\"Temp\"], facecolors = \"darkblue\", edgecolor =\"white\", marker=\"o\")\n",
    "\n",
    "plt.xlabel(\"Latitude\")\n",
    "plt.ylabel(\"Max Temperature (F)\")\n",
    "plt.title(\"City Latitude vs. Max Temperature (01/23/2022)\")\n",
    "\n",
    "plt.grid()\n",
    "plt.show()\n",
    "\n",
    "# save plot as png file\n",
    "plt.savefig(\"CityLatitude_vs_Temperature.png\")\n",
    "\n",
    "# bold print '\\033[1m'+ words +'\\033[0m'\n",
    "print('\\033[1m' +\"The relationship between City Latitude and Temperature shows as the scatter plot above. \\n\" \n",
    "      \"\\n\"\n",
    "      \"All latitude lines are parallel from East to West as circles to the equator, \\n\"\n",
    "      \"Temperature is inversely related to latitude. As latitude increases, the temperature falls, and vice versa. \\n\"+'\\033[0m')"
   ]
  },
  {
   "cell_type": "markdown",
   "metadata": {},
   "source": [
    "## Latitude vs. Humidity Plot"
   ]
  },
  {
   "cell_type": "code",
   "execution_count": 53,
   "metadata": {},
   "outputs": [
    {
     "data": {
      "image/png": "[encoded data removed]",
      "text/plain": [
       "<Figure size 432x288 with 1 Axes>"
      ]
     },
     "metadata": {
      "needs_background": "light"
     },
     "output_type": "display_data"
    },
    {
     "name": "stdout",
     "output_type": "stream",
     "text": [
      "\u001b[1mThe relationship between City Latitude and Humidity shows as the scatter plot above. \n",
      "Since the humidity also meansures water vapor in the air, warm air can possess more water vapor (moisture)\n",
      "then cold air, air will have a higher relative humidity if the air is cooler. The cities with higer Latitude \n",
      "will be moisture with the same amount of absolute/specific humidity, then the cities with lower latitude.\n",
      "\u001b[0m\n"
     ]
    },
    {
     "data": {
      "text/plain": [
       "<Figure size 432x288 with 0 Axes>"
      ]
     },
     "metadata": {},
     "output_type": "display_data"
    }
   ],
   "source": [
    "# Create a scatter plot for Humidity (%) vs. Latitude\n",
    "\n",
    "plt.scatter(weatherDF[\"Latitude\"], weatherDF[\"Humidity\"], facecolors = \"darkblue\", edgecolor =\"white\", marker=\"1\")\n",
    "\n",
    "plt.xlabel(\"Latitude\")\n",
    "plt.ylabel(\"Humidity (%)\")\n",
    "plt.title(\"City Latitude vs. Humidity (%) (01/23/2022)\")\n",
    "\n",
    "plt.grid()\n",
    "plt.show()\n",
    "\n",
    "# save plot as png file\n",
    "plt.savefig(\"CityLatitude_vs_Humidity.png\")\n",
    "\n",
    "# bold print '\\033[1m'+ words +'\\033[0m'\n",
    "print('\\033[1m' +\"The relationship between City Latitude and Humidity shows as the scatter plot above. \\n\" \n",
    "      \"Since the humidity also meansures water vapor in the air, warm air can possess more water vapor (moisture)\\n\"\n",
    "      \"then cold air, air will have a higher relative humidity if the air is cooler. The cities with higer Latitude \\n\"\n",
    "      \"will be moisture with the same amount of absolute/specific humidity, then the cities with lower latitude.\\n\"\n",
    "      +'\\033[0m')"
   ]
  },
  {
   "cell_type": "markdown",
   "metadata": {},
   "source": [
    "## Latitude vs. Cloudiness Plot"
   ]
  },
  {
   "cell_type": "code",
   "execution_count": 54,
   "metadata": {},
   "outputs": [
    {
     "data": {
      "image/png": "[encoded data removed]",
      "text/plain": [
       "<Figure size 432x288 with 1 Axes>"
      ]
     },
     "metadata": {
      "needs_background": "light"
     },
     "output_type": "display_data"
    },
    {
     "name": "stdout",
     "output_type": "stream",
     "text": [
      "\u001b[1mThe relationship between City Latitude and Cloudiness (%) shows as the scatter plot above. \n",
      "Clouds tend to form in abundance in the middle latitudes 0, 40 and 100 degrees north and south of the equator.\n",
      "There are three broad bands where Earth’s skies are most likely to be cloudy. \n",
      "\u001b[0m\n"
     ]
    },
    {
     "data": {
      "text/plain": [
       "<Figure size 432x288 with 0 Axes>"
      ]
     },
     "metadata": {},
     "output_type": "display_data"
    }
   ],
   "source": [
    "# Create a scatter plot for Cloudiness (%) vs. Latitude\n",
    "\n",
    "plt.scatter(weatherDF[\"Latitude\"], weatherDF[\"Cloudiness\"], facecolors = \"darkblue\", edgecolor =\"white\", marker=\"o\")\n",
    "\n",
    "plt.xlabel(\"Latitude\")\n",
    "plt.ylabel(\"Cloudiness (%)\")\n",
    "plt.title(\"City Latitude vs. Cloudiness (%)   (01/23/2022)\")\n",
    "\n",
    "plt.grid()\n",
    "plt.show()\n",
    "\n",
    "# save plot as png file\n",
    "plt.savefig(\"CityLatitude_vs_Cloudiness.png\")\n",
    "\n",
    "# bold print '\\033[1m'+ words +'\\033[0m'\n",
    "print('\\033[1m' +\n",
    "      \"The relationship between City Latitude and Cloudiness (%) shows as the scatter plot above. \\n\" \n",
    "      \"Clouds tend to form in abundance in the middle latitudes to north and south of the equator.\\n\"\n",
    "      \"There are three broad bands where Earth’s skies are most likely to be cloudy. \\n\"\n",
    "      +'\\033[0m')"
   ]
  },
  {
   "cell_type": "markdown",
   "metadata": {},
   "source": [
    "## Latitude vs. Wind Speed Plot"
   ]
  },
  {
   "cell_type": "code",
   "execution_count": 57,
   "metadata": {},
   "outputs": [
    {
     "data": {
      "image/png": "[encoded data removed]",
      "text/plain": [
       "<Figure size 432x288 with 1 Axes>"
      ]
     },
     "metadata": {
      "needs_background": "light"
     },
     "output_type": "display_data"
    },
    {
     "name": "stdout",
     "output_type": "stream",
     "text": [
      "\u001b[1mThe relationship between City Latitude and Wind Speed (mph) shows as the scatter plot above. \n",
      "the speed of wind is determined by the magnitude of the air pressure difference make the air move \n",
      "from high pressure to low.  with greater speeds resulting from greater air pressure differences.\n",
      "Observations show that the wind speed increases equatorward in low latitudes while the wind speed decreases. \n",
      "\u001b[0m\n"
     ]
    },
    {
     "data": {
      "text/plain": [
       "<Figure size 432x288 with 0 Axes>"
      ]
     },
     "metadata": {},
     "output_type": "display_data"
    }
   ],
   "source": [
    "#Create a scatter plot for Wind Speed (mph) vs. Latitude\n",
    "\n",
    "plt.scatter(weatherDF[\"Latitude\"], weatherDF[\"Wind Speed\"], facecolors = \"darkblue\", edgecolor =\"white\", marker=\"o\")\n",
    "\n",
    "plt.xlabel(\"Latitude\")\n",
    "plt.ylabel(\"Wind Speed (mph)\")\n",
    "plt.title(\"City Latitude vs. Wind Speed (mph)   (01/23/2022)\")\n",
    "\n",
    "plt.grid()\n",
    "plt.show()\n",
    "\n",
    "# save plot as png file\n",
    "plt.savefig(\"CityLatitude_vs_WindSpeed.png\")\n",
    "\n",
    "# bold print '\\033[1m'+ words +'\\033[0m'\n",
    "print('\\033[1m' +\n",
    "      \"The relationship between City Latitude and Wind Speed (mph) shows as the scatter plot above. \\n\" \n",
    "      \"the speed of wind is determined by the magnitude of the air pressure difference make the air move \\n\"\n",
    "      \"from high pressure to low.  with greater speeds resulting from greater air pressure differences.\\n\"\n",
    "      \"Observations show that the wind speed increases equatorward in low latitudes while the wind speed decreases. \\n\"\n",
    "      +'\\033[0m')"
   ]
  },
  {
   "cell_type": "markdown",
   "metadata": {},
   "source": [
    "## Linear Regression"
   ]
  },
  {
   "cell_type": "code",
   "execution_count": null,
   "metadata": {},
   "outputs": [],
   "source": [
    "# run linear regression on each relationship. \n",
    "# Separate the plots into Northern Hemisphere (>=0 degrees latitude) and Southern Hemisphere (<0 degrees latitude):\n",
    "\n",
    "#Northern Hemisphere - Temperature (F) vs. Latitude\n",
    "#Southern Hemisphere - Temperature (F) vs. Latitude\n",
    "#Northern Hemisphere - Humidity (%) vs. Latitude\n",
    "#Southern Hemisphere - Humidity (%) vs. Latitude\n",
    "#Northern Hemisphere - Cloudiness (%) vs. Latitude\n",
    "#Southern Hemisphere - Cloudiness (%) vs. Latitude\n",
    "#Northern Hemisphere - Wind Speed (mph) vs. Latitude\n",
    "#Southern Hemisphere - Wind Speed (mph) vs. Latitude\n",
    "\n",
    "# explain what the linear regression is modeling. Describe any relationships and any other analysis\n",
    "\n",
    "#final notebook must:\n",
    "# Randomly select at least 500 unique (non-repeat) cities based on latitude and longitude.\n",
    "# Perform a weather check on each of the cities using a series of successive API calls.\n",
    "# Include a print log of each city as it's being processed with the city number and city name.\n",
    "# Save a CSV of all retrieved data and a PNG image for each scatter plot."
   ]
  },
  {
   "cell_type": "markdown",
   "metadata": {},
   "source": [
    "####  Northern Hemisphere - Max Temp vs. Latitude Linear Regression"
   ]
  },
  {
   "cell_type": "code",
   "execution_count": null,
   "metadata": {},
   "outputs": [],
   "source": []
  },
  {
   "cell_type": "markdown",
   "metadata": {},
   "source": [
    "####  Southern Hemisphere - Max Temp vs. Latitude Linear Regression"
   ]
  },
  {
   "cell_type": "code",
   "execution_count": null,
   "metadata": {},
   "outputs": [],
   "source": []
  },
  {
   "cell_type": "markdown",
   "metadata": {},
   "source": [
    "####  Northern Hemisphere - Humidity (%) vs. Latitude Linear Regression"
   ]
  },
  {
   "cell_type": "code",
   "execution_count": null,
   "metadata": {},
   "outputs": [],
   "source": []
  },
  {
   "cell_type": "markdown",
   "metadata": {},
   "source": [
    "####  Southern Hemisphere - Humidity (%) vs. Latitude Linear Regression"
   ]
  },
  {
   "cell_type": "code",
   "execution_count": null,
   "metadata": {},
   "outputs": [],
   "source": []
  },
  {
   "cell_type": "markdown",
   "metadata": {},
   "source": [
    "####  Northern Hemisphere - Cloudiness (%) vs. Latitude Linear Regression"
   ]
  },
  {
   "cell_type": "code",
   "execution_count": null,
   "metadata": {},
   "outputs": [],
   "source": []
  },
  {
   "cell_type": "markdown",
   "metadata": {},
   "source": [
    "####  Southern Hemisphere - Cloudiness (%) vs. Latitude Linear Regression"
   ]
  },
  {
   "cell_type": "code",
   "execution_count": null,
   "metadata": {},
   "outputs": [],
   "source": []
  },
  {
   "cell_type": "markdown",
   "metadata": {},
   "source": [
    "####  Northern Hemisphere - Wind Speed (mph) vs. Latitude Linear Regression"
   ]
  },
  {
   "cell_type": "code",
   "execution_count": null,
   "metadata": {},
   "outputs": [],
   "source": []
  },
  {
   "cell_type": "markdown",
   "metadata": {},
   "source": [
    "####  Southern Hemisphere - Wind Speed (mph) vs. Latitude Linear Regression"
   ]
  },
  {
   "cell_type": "code",
   "execution_count": null,
   "metadata": {},
   "outputs": [],
   "source": []
  },
  {
   "cell_type": "code",
   "execution_count": null,
   "metadata": {},
   "outputs": [],
   "source": []
  }
 ],
 "metadata": {
  "anaconda-cloud": {},
  "kernel_info": {
   "name": "python3"
  },
  "kernelspec": {
   "display_name": "Python 3",
   "language": "python",
   "name": "python3"
  },
  "language_info": {
   "codemirror_mode": {
    "name": "ipython",
    "version": 3
   },
   "file_extension": ".py",
   "mimetype": "text/x-python",
   "name": "python",
   "nbconvert_exporter": "python",
   "pygments_lexer": "ipython3",
   "version": "3.8.8"
  },
  "latex_envs": {
   "LaTeX_envs_menu_present": true,
   "autoclose": false,
   "autocomplete": true,
   "bibliofile": "biblio.bib",
   "cite_by": "apalike",
   "current_citInitial": 1,
   "eqLabelWithNumbers": true,
   "eqNumInitial": 1,
   "hotkeys": {
    "equation": "Ctrl-E",
    "itemize": "Ctrl-I"
   },
   "labels_anchors": false,
   "latex_user_defs": false,
   "report_style_numbering": false,
   "user_envs_cfg": false
  },
  "nteract": {
   "version": "0.12.3"
  }
 },
 "nbformat": 4,
 "nbformat_minor": 2
}
